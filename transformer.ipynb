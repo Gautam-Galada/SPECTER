{
  "nbformat": 4,
  "nbformat_minor": 0,
  "metadata": {
    "colab": {
      "provenance": []
    },
    "kernelspec": {
      "name": "python3",
      "display_name": "Python 3"
    },
    "language_info": {
      "name": "python"
    }
  },
  "cells": [
    {
      "cell_type": "code",
      "source": [
        "import torch\n",
        "import torch.nn as nn\n",
        "import torch.nn.functional as F\n",
        "\n",
        "class TransformerBlock(nn.Module):\n",
        "    def __init__(self, embedding_size, num_heads, ff_dim, dropout_rate):\n",
        "        super(TransformerBlock, self).__init__()\n",
        "        self.attention = nn.MultiheadAttention(embed_dim=embedding_size, num_heads=num_heads, dropout=dropout_rate)\n",
        "        self.norm1 = nn.LayerNorm(embedding_size)\n",
        "        self.ffn = nn.Sequential(nn.Linear(embedding_size, ff_dim),\n",
        "                                 nn.ReLU(),\n",
        "                                 nn.Dropout(dropout_rate),\n",
        "                                 nn.Linear(ff_dim, embedding_size))\n",
        "        self.norm2 = nn.LayerNorm(embedding_size)\n",
        "        self.dropout = nn.Dropout(dropout_rate)\n",
        "\n",
        "    def forward(self, x, mask):\n",
        "        # Improved attention mechanism\n",
        "        x_normalized = self.norm1(x)\n",
        "        query = x_normalized\n",
        "        key = x_normalized\n",
        "        value = x_normalized\n",
        "        attn_output, _ = self.attention(query, key, value, key_padding_mask=mask)\n",
        "        attn_output = self.dropout(attn_output)\n",
        "        attn_output = attn_output + x\n",
        "        attn_output = self.norm2(attn_output)\n",
        "\n",
        "        # Feedforward neural network\n",
        "        ffn_output = self.ffn(attn_output)\n",
        "        ffn_output = self.dropout(ffn_output)\n",
        "        ffn_output = ffn_output + attn_output\n",
        "        ffn_output = self.norm2(ffn_output)\n",
        "\n",
        "        return ffn_output\n",
        "\n",
        "\n",
        "class TransformerModel(nn.Module):\n",
        "    def __init__(self, vocab_size, embedding_size, num_layers, num_heads, ff_dim, dropout_rate=0.1):\n",
        "        super(TransformerModel, self).__init__()\n",
        "        self.embedding = nn.Embedding(vocab_size, embedding_size)\n",
        "        self.pos_encoding = nn.Parameter(torch.zeros(1, 1000, embedding_size))\n",
        "        self.transformer_blocks = nn.ModuleList([TransformerBlock(embedding_size, num_heads, ff_dim, dropout_rate) for _ in range(num_layers)])\n",
        "        self.mlm_output = nn.Linear(embedding_size, vocab_size)\n",
        "        self.mim_output = nn.Linear(embedding_size, embedding_size)\n",
        "        self.wpa_output = nn.Linear(embedding_size, vocab_size)\n",
        "\n",
        "    def forward(self, x, mask):\n",
        "        x = self.embedding(x) + self.pos_encoding[:, :x.size(1), :]\n",
        "        for transformer_block in self.transformer_blocks:\n",
        "            x = transformer_block(x, mask)\n",
        "        mlm_logits = self.mlm_output(x)\n",
        "        mim_logits = self.mim_output(x)\n",
        "        wpa_logits = self.wpa_output(x)\n",
        "        return mlm_logits, mim_logits, wpa_logits\n",
        "\n",
        "\n",
        "\n",
        "def mlm_loss_fn(logits, labels):\n",
        "    loss_fn = nn.CrossEntropyLoss(ignore_index=-100)\n",
        "    loss = loss_fn(logits.view(-1, logits.shape[-1]), labels.view(-1))\n",
        "    return loss\n",
        "\n",
        "def mim_loss_fn(logits, labels):\n",
        "    loss = F.mse_loss(logits, labels)\n",
        "    return loss\n",
        "\n",
        "def wpa_loss_fn(logits, labels):\n",
        "    loss_fn = nn.CrossEntropyLoss(ignore_index=0)\n",
        "    loss = loss_fn(logits.view(-1, logits.shape[-1]), labels.view(-1))\n",
        "    return loss\n",
        "\n",
        "class MLM(nn.Module):\n",
        "    def __init__(self, vocab_size, hidden_size):\n",
        "        super(MLM, self).__init__()\n",
        "        self.embed = nn.Embedding(vocab_size, hidden_size)\n",
        "        self.linear = nn.Linear(hidden_size, vocab_size)\n",
        "\n",
        "    def forward(self, input_ids, input_mask):\n",
        "        embedded = self.embed(input_ids)\n",
        "        masked_embedded = embedded.masked_fill(~input_mask.unsqueeze(-1), 0)\n",
        "        masked_embedded_2d = masked_embedded.view(-1, masked_embedded.size(-1))\n",
        "        logits_2d = self.linear(masked_embedded_2d)\n",
        "        batch_size = masked_embedded.size(0)\n",
        "        vocab_size = logits_2d.size(-1)\n",
        "        logits_3d = logits_2d.view(batch_size, -1, vocab_size)\n",
        "        return logits_3d\n",
        "\n",
        "\n",
        "\n",
        "class MIM(nn.Module):\n",
        "    def __init__(self, input_size):\n",
        "        super(MIM, self).__init__()\n",
        "        self.linear = nn.Linear(input_size, 32)\n",
        "\n",
        "    def forward(self, input_tensor):\n",
        "        return self.linear(input_tensor)\n",
        "\n",
        "\n",
        "# Define the hyperparameters\n",
        "BATCH_SIZE = 32\n",
        "LEARNING_RATE = 1e-3\n",
        "EPOCHS = 1000\n",
        "\n",
        "# Initialize the models and optimizer\n",
        "mlm_model = MLM(vocab_size=10, hidden_size=64)\n",
        "mim_model = MIM(input_size=10)\n",
        "\n",
        "# Define the loss functions and optimizer\n",
        "mlm_loss_fn = nn.CrossEntropyLoss(ignore_index=-100)\n",
        "mim_loss_fn = nn.MSELoss()\n",
        "optimizer = torch.optim.Adam(list(mlm_model.parameters()) + list(mim_model.parameters()), lr=LEARNING_RATE)"
      ],
      "metadata": {
        "id": "oG0eQtTAAO0e"
      },
      "execution_count": 12,
      "outputs": []
    },
    {
      "cell_type": "code",
      "source": [
        "train_data = [{\"input\": torch.LongTensor([2, 5, 3, 6, 1, 9, 7, 4, 8]),\n",
        "               \"mask\": torch.BoolTensor([1, 1, 1, 1, 1, 1, 1, 1, 1]),\n",
        "               \"mlm_output\": torch.LongTensor([0, 0, 3, 0, 1, -100, 7, 0, 0]),\n",
        "               \"mim_output\": torch.FloatTensor([[0.5] * 32] * 9),\n",
        "              },\n",
        "              {\"input\": torch.LongTensor([7, 2, 1, 5, 4, 9, 6, 8, 3]),\n",
        "               \"mask\": torch.BoolTensor([1, 1, 1, 1, 1, 1, 1, 1, 1]),\n",
        "               \"mlm_output\": torch.LongTensor([7, 0, 1, 0, 4, -100, 6, 3, 0]),\n",
        "               \"mim_output\": torch.FloatTensor([[0.5] * 32] * 9),\n",
        "              }]\n",
        "\n",
        "train_data += [    {\"input\": torch.LongTensor([1, 2, 3, 4, 5, 6, 7, 8, 9]),\n",
        "     \"mask\": torch.BoolTensor([1, 1, 1, 1, 1, 1, 1, 1, 1]),\n",
        "     \"mlm_output\": torch.LongTensor([0, 0, 0, 0, 1, -100, 7, 0, 3]),\n",
        "     \"mim_output\": torch.FloatTensor([[0.5] * 32] * 9),\n",
        "    },\n",
        "    {\"input\": torch.LongTensor([9, 8, 7, 6, 5, 4, 3, 2, 1]),\n",
        "     \"mask\": torch.BoolTensor([1, 1, 1, 1, 1, 1, 1, 1, 1]),\n",
        "     \"mlm_output\": torch.LongTensor([0, 0, 0, 0, 1, -100, 7, 0, 3]),\n",
        "     \"mim_output\": torch.FloatTensor([[0.5] * 32] * 9),\n",
        "    },\n",
        "    {\"input\": torch.LongTensor([3, 5, 2, 8, 4, 1, 6, 9, 7]),\n",
        "     \"mask\": torch.BoolTensor([1, 1, 1, 1, 1, 1, 1, 1, 1]),\n",
        "     \"mlm_output\": torch.LongTensor([0, 0, 1, 0, 4, -100, 6, 3, 0]),\n",
        "     \"mim_output\": torch.FloatTensor([[0.5] * 32] * 9),\n",
        "    },\n",
        "    {\"input\": torch.LongTensor([6, 8, 4, 1, 5, 2, 3, 7, 9]),\n",
        "     \"mask\": torch.BoolTensor([1, 1, 1, 1, 1, 1, 1, 1, 1]),\n",
        "     \"mlm_output\": torch.LongTensor([7, 0, 1, 0, 4, -100, 6, 3, 0]),\n",
        "     \"mim_output\": torch.FloatTensor([[0.5] * 32] * 9),\n",
        "    },\n",
        "    {\"input\": torch.LongTensor([4, 7, 2, 9, 3, 8, 1, 6, 5]),\n",
        "     \"mask\": torch.BoolTensor([1, 1, 1, 1, 1, 1, 1, 1, 1]),\n",
        "     \"mlm_output\": torch.LongTensor([0, 0, 0, 0, 1, -100, 7, 0, 3]),\n",
        "     \"mim_output\": torch.FloatTensor([[0.5] * 32] * 9),\n",
        "    }]"
      ],
      "metadata": {
        "id": "KfrAdWQRcl-x"
      },
      "execution_count": 13,
      "outputs": []
    },
    {
      "cell_type": "code",
      "source": [
        "mlm_model_path = \"mlm_model.pt\"\n",
        "mim_model_path = \"mim_model.pt\"\n",
        "# Train the models\n",
        "for epoch in range(EPOCHS):\n",
        "    mlm_model.train()\n",
        "    mim_model.train()\n",
        "    total_loss = 0\n",
        "    for batch in train_data:\n",
        "        input_ids = batch[\"input\"]\n",
        "        input_mask = batch[\"mask\"]\n",
        "        mlm_output = batch[\"mlm_output\"]\n",
        "        mim_output = batch[\"mim_output\"]\n",
        "        mlm_logits = mlm_model(input_ids, input_mask)\n",
        "        mim_logits = mim_model(mlm_logits)\n",
        "        mlm_loss = nn.CrossEntropyLoss(ignore_index=-100)(mlm_logits.view(-1, 10), mlm_output.view(-1))\n",
        "        mim_loss = nn.MSELoss()(mim_logits, mim_output)\n",
        "        loss = mlm_loss + mim_loss\n",
        "        total_loss += loss.item()\n",
        "        loss.backward()\n",
        "        # Save the models after each epoch\n",
        "    torch.save(mlm_model.state_dict(), mlm_model_path)\n",
        "    torch.save(mim_model.state_dict(), mim_model_path)    \n",
        "    print(f\"Epoch {epoch+1}: Loss = {total_loss}\")\n"
      ],
      "metadata": {
        "id": "77LNlumjOMTx"
      },
      "execution_count": null,
      "outputs": []
    },
    {
      "cell_type": "code",
      "source": [
        "!pip install torchviz"
      ],
      "metadata": {
        "id": "yB6mQX6Qs1nK"
      },
      "execution_count": null,
      "outputs": []
    },
    {
      "cell_type": "code",
      "source": [
        "import torch\n",
        "from torchviz import make_dot\n",
        "\n",
        "# Define the input data\n",
        "input_ids = torch.LongTensor([2, 5, 3, 6, 1, 9, 7, 4, 8])\n",
        "input_mask = torch.BoolTensor([1, 1, 1, 1, 1, 1, 1, 1, 1])\n",
        "sample_input = (input_ids, input_mask)\n",
        "\n",
        "# Define the models\n",
        "mlm_model = MLM(vocab_size=10, hidden_size=64)\n",
        "mim_model = MIM(input_size=10)\n",
        "\n",
        "# Generate the visualization of the MLM model\n",
        "mlm_outputs = mlm_model(*sample_input)\n",
        "make_dot(mlm_outputs, params=dict(mlm_model.named_parameters()))\n"
      ],
      "metadata": {
        "colab": {
          "base_uri": "https://localhost:8080/",
          "height": 646
        },
        "id": "Mc7aUzjDizhk",
        "outputId": "9cb2a7f4-198f-4f8a-ebb0-ff07f7aa5d2a"
      },
      "execution_count": 16,
      "outputs": [
        {
          "output_type": "execute_result",
          "data": {
            "image/svg+xml": "<?xml version=\"1.0\" encoding=\"UTF-8\" standalone=\"no\"?>\n<!DOCTYPE svg PUBLIC \"-//W3C//DTD SVG 1.1//EN\"\n \"http://www.w3.org/Graphics/SVG/1.1/DTD/svg11.dtd\">\n<!-- Generated by graphviz version 2.43.0 (0)\n -->\n<!-- Title: %3 Pages: 1 -->\n<svg width=\"364pt\" height=\"469pt\"\n viewBox=\"0.00 0.00 364.00 469.00\" xmlns=\"http://www.w3.org/2000/svg\" xmlns:xlink=\"http://www.w3.org/1999/xlink\">\n<g id=\"graph0\" class=\"graph\" transform=\"scale(1 1) rotate(0) translate(4 465)\">\n<title>%3</title>\n<polygon fill=\"white\" stroke=\"transparent\" points=\"-4,4 -4,-465 360,-465 360,4 -4,4\"/>\n<!-- 140001295051136 -->\n<g id=\"node1\" class=\"node\">\n<title>140001295051136</title>\n<polygon fill=\"#caff70\" stroke=\"black\" points=\"213,-31 130,-31 130,0 213,0 213,-31\"/>\n<text text-anchor=\"middle\" x=\"171.5\" y=\"-7\" font-family=\"monospace\" font-size=\"10.00\"> (9, 1, 10)</text>\n</g>\n<!-- 140004510970832 -->\n<g id=\"node2\" class=\"node\">\n<title>140004510970832</title>\n<polygon fill=\"lightgrey\" stroke=\"black\" points=\"170,-92 75,-92 75,-73 170,-73 170,-92\"/>\n<text text-anchor=\"middle\" x=\"122.5\" y=\"-80\" font-family=\"monospace\" font-size=\"10.00\">ViewBackward0</text>\n</g>\n<!-- 140004510970832&#45;&gt;140001295051136 -->\n<g id=\"edge12\" class=\"edge\">\n<title>140004510970832&#45;&gt;140001295051136</title>\n<path fill=\"none\" stroke=\"black\" d=\"M129.11,-72.73C135.58,-64.15 145.72,-50.69 154.46,-39.1\"/>\n<polygon fill=\"black\" stroke=\"black\" points=\"157.28,-41.18 160.51,-31.08 151.69,-36.96 157.28,-41.18\"/>\n</g>\n<!-- 140001280993280 -->\n<g id=\"node3\" class=\"node\">\n<title>140001280993280</title>\n<polygon fill=\"lightgrey\" stroke=\"black\" points=\"222,-153 121,-153 121,-134 222,-134 222,-153\"/>\n<text text-anchor=\"middle\" x=\"171.5\" y=\"-141\" font-family=\"monospace\" font-size=\"10.00\">AddmmBackward0</text>\n</g>\n<!-- 140001280993280&#45;&gt;140004510970832 -->\n<g id=\"edge1\" class=\"edge\">\n<title>140001280993280&#45;&gt;140004510970832</title>\n<path fill=\"none\" stroke=\"black\" d=\"M164.27,-133.79C156.96,-124.99 145.48,-111.17 136.4,-100.23\"/>\n<polygon fill=\"black\" stroke=\"black\" points=\"138.84,-97.7 129.76,-92.24 133.46,-102.17 138.84,-97.7\"/>\n</g>\n<!-- 140001295051936 -->\n<g id=\"node14\" class=\"node\">\n<title>140001295051936</title>\n<polygon fill=\"#a2cd5a\" stroke=\"black\" points=\"253,-98 188,-98 188,-67 253,-67 253,-98\"/>\n<text text-anchor=\"middle\" x=\"220.5\" y=\"-74\" font-family=\"monospace\" font-size=\"10.00\"> (9, 10)</text>\n</g>\n<!-- 140001280993280&#45;&gt;140001295051936 -->\n<g id=\"edge13\" class=\"edge\">\n<title>140001280993280&#45;&gt;140001295051936</title>\n<path fill=\"none\" stroke=\"black\" d=\"M178.73,-133.79C184.8,-126.48 193.76,-115.7 201.82,-105.99\"/>\n<polygon fill=\"black\" stroke=\"black\" points=\"204.6,-108.12 208.3,-98.19 199.22,-103.65 204.6,-108.12\"/>\n</g>\n<!-- 140001280986560 -->\n<g id=\"node4\" class=\"node\">\n<title>140001280986560</title>\n<polygon fill=\"lightgrey\" stroke=\"black\" points=\"101,-208 0,-208 0,-189 101,-189 101,-208\"/>\n<text text-anchor=\"middle\" x=\"50.5\" y=\"-196\" font-family=\"monospace\" font-size=\"10.00\">AccumulateGrad</text>\n</g>\n<!-- 140001280986560&#45;&gt;140001280993280 -->\n<g id=\"edge2\" class=\"edge\">\n<title>140001280986560&#45;&gt;140001280993280</title>\n<path fill=\"none\" stroke=\"black\" d=\"M69.94,-188.98C89.49,-180.42 119.88,-167.11 142.32,-157.28\"/>\n<polygon fill=\"black\" stroke=\"black\" points=\"143.95,-160.39 151.71,-153.17 141.14,-153.98 143.95,-160.39\"/>\n</g>\n<!-- 140001280893600 -->\n<g id=\"node5\" class=\"node\">\n<title>140001280893600</title>\n<polygon fill=\"lightblue\" stroke=\"black\" points=\"88,-274 5,-274 5,-244 88,-244 88,-274\"/>\n<text text-anchor=\"middle\" x=\"46.5\" y=\"-262\" font-family=\"monospace\" font-size=\"10.00\">linear.bias</text>\n<text text-anchor=\"middle\" x=\"46.5\" y=\"-251\" font-family=\"monospace\" font-size=\"10.00\"> (10)</text>\n</g>\n<!-- 140001280893600&#45;&gt;140001280986560 -->\n<g id=\"edge3\" class=\"edge\">\n<title>140001280893600&#45;&gt;140001280986560</title>\n<path fill=\"none\" stroke=\"black\" d=\"M47.47,-243.84C47.99,-236.21 48.64,-226.7 49.2,-218.45\"/>\n<polygon fill=\"black\" stroke=\"black\" points=\"52.71,-218.48 49.9,-208.27 45.73,-218 52.71,-218.48\"/>\n</g>\n<!-- 140001280989392 -->\n<g id=\"node6\" class=\"node\">\n<title>140001280989392</title>\n<polygon fill=\"lightgrey\" stroke=\"black\" points=\"219,-208 124,-208 124,-189 219,-189 219,-208\"/>\n<text text-anchor=\"middle\" x=\"171.5\" y=\"-196\" font-family=\"monospace\" font-size=\"10.00\">ViewBackward0</text>\n</g>\n<!-- 140001280989392&#45;&gt;140001280993280 -->\n<g id=\"edge4\" class=\"edge\">\n<title>140001280989392&#45;&gt;140001280993280</title>\n<path fill=\"none\" stroke=\"black\" d=\"M171.5,-188.75C171.5,-181.8 171.5,-171.85 171.5,-163.13\"/>\n<polygon fill=\"black\" stroke=\"black\" points=\"175,-163.09 171.5,-153.09 168,-163.09 175,-163.09\"/>\n</g>\n<!-- 140001280985984 -->\n<g id=\"node7\" class=\"node\">\n<title>140001280985984</title>\n<polygon fill=\"lightgrey\" stroke=\"black\" points=\"237,-268.5 106,-268.5 106,-249.5 237,-249.5 237,-268.5\"/>\n<text text-anchor=\"middle\" x=\"171.5\" y=\"-256.5\" font-family=\"monospace\" font-size=\"10.00\">MaskedFillBackward0</text>\n</g>\n<!-- 140001280985984&#45;&gt;140001280989392 -->\n<g id=\"edge5\" class=\"edge\">\n<title>140001280985984&#45;&gt;140001280989392</title>\n<path fill=\"none\" stroke=\"black\" d=\"M171.5,-249.37C171.5,-241.25 171.5,-228.81 171.5,-218.39\"/>\n<polygon fill=\"black\" stroke=\"black\" points=\"175,-218.17 171.5,-208.17 168,-218.17 175,-218.17\"/>\n</g>\n<!-- 140001280985168 -->\n<g id=\"node8\" class=\"node\">\n<title>140001280985168</title>\n<polygon fill=\"lightgrey\" stroke=\"black\" points=\"234,-334.5 109,-334.5 109,-315.5 234,-315.5 234,-334.5\"/>\n<text text-anchor=\"middle\" x=\"171.5\" y=\"-322.5\" font-family=\"monospace\" font-size=\"10.00\">EmbeddingBackward0</text>\n</g>\n<!-- 140001280985168&#45;&gt;140001280985984 -->\n<g id=\"edge6\" class=\"edge\">\n<title>140001280985168&#45;&gt;140001280985984</title>\n<path fill=\"none\" stroke=\"black\" d=\"M171.5,-315.37C171.5,-306.16 171.5,-291.29 171.5,-279.27\"/>\n<polygon fill=\"black\" stroke=\"black\" points=\"175,-278.91 171.5,-268.91 168,-278.91 175,-278.91\"/>\n</g>\n<!-- 140001280990688 -->\n<g id=\"node9\" class=\"node\">\n<title>140001280990688</title>\n<polygon fill=\"lightgrey\" stroke=\"black\" points=\"222,-395 121,-395 121,-376 222,-376 222,-395\"/>\n<text text-anchor=\"middle\" x=\"171.5\" y=\"-383\" font-family=\"monospace\" font-size=\"10.00\">AccumulateGrad</text>\n</g>\n<!-- 140001280990688&#45;&gt;140001280985168 -->\n<g id=\"edge7\" class=\"edge\">\n<title>140001280990688&#45;&gt;140001280985168</title>\n<path fill=\"none\" stroke=\"black\" d=\"M171.5,-375.87C171.5,-367.75 171.5,-355.31 171.5,-344.89\"/>\n<polygon fill=\"black\" stroke=\"black\" points=\"175,-344.67 171.5,-334.67 168,-344.67 175,-344.67\"/>\n</g>\n<!-- 140001280895520 -->\n<g id=\"node10\" class=\"node\">\n<title>140001280895520</title>\n<polygon fill=\"lightblue\" stroke=\"black\" points=\"216,-461 127,-461 127,-431 216,-431 216,-461\"/>\n<text text-anchor=\"middle\" x=\"171.5\" y=\"-449\" font-family=\"monospace\" font-size=\"10.00\">embed.weight</text>\n<text text-anchor=\"middle\" x=\"171.5\" y=\"-438\" font-family=\"monospace\" font-size=\"10.00\"> (10, 64)</text>\n</g>\n<!-- 140001280895520&#45;&gt;140001280990688 -->\n<g id=\"edge8\" class=\"edge\">\n<title>140001280895520&#45;&gt;140001280990688</title>\n<path fill=\"none\" stroke=\"black\" d=\"M171.5,-430.84C171.5,-423.21 171.5,-413.7 171.5,-405.45\"/>\n<polygon fill=\"black\" stroke=\"black\" points=\"175,-405.27 171.5,-395.27 168,-405.27 175,-405.27\"/>\n</g>\n<!-- 140001280994432 -->\n<g id=\"node11\" class=\"node\">\n<title>140001280994432</title>\n<polygon fill=\"lightgrey\" stroke=\"black\" points=\"329,-208 252,-208 252,-189 329,-189 329,-208\"/>\n<text text-anchor=\"middle\" x=\"290.5\" y=\"-196\" font-family=\"monospace\" font-size=\"10.00\">TBackward0</text>\n</g>\n<!-- 140001280994432&#45;&gt;140001280993280 -->\n<g id=\"edge9\" class=\"edge\">\n<title>140001280994432&#45;&gt;140001280993280</title>\n<path fill=\"none\" stroke=\"black\" d=\"M271.38,-188.98C252.15,-180.42 222.27,-167.11 200.19,-157.28\"/>\n<polygon fill=\"black\" stroke=\"black\" points=\"201.53,-154.04 190.97,-153.17 198.68,-160.44 201.53,-154.04\"/>\n</g>\n<!-- 140001280985408 -->\n<g id=\"node12\" class=\"node\">\n<title>140001280985408</title>\n<polygon fill=\"lightgrey\" stroke=\"black\" points=\"356,-268.5 255,-268.5 255,-249.5 356,-249.5 356,-268.5\"/>\n<text text-anchor=\"middle\" x=\"305.5\" y=\"-256.5\" font-family=\"monospace\" font-size=\"10.00\">AccumulateGrad</text>\n</g>\n<!-- 140001280985408&#45;&gt;140001280994432 -->\n<g id=\"edge10\" class=\"edge\">\n<title>140001280985408&#45;&gt;140001280994432</title>\n<path fill=\"none\" stroke=\"black\" d=\"M303.29,-249.37C301.18,-241.16 297.95,-228.54 295.26,-218.05\"/>\n<polygon fill=\"black\" stroke=\"black\" points=\"298.6,-216.98 292.72,-208.17 291.82,-218.72 298.6,-216.98\"/>\n</g>\n<!-- 140001282457040 -->\n<g id=\"node13\" class=\"node\">\n<title>140001282457040</title>\n<polygon fill=\"lightblue\" stroke=\"black\" points=\"353,-340 258,-340 258,-310 353,-310 353,-340\"/>\n<text text-anchor=\"middle\" x=\"305.5\" y=\"-328\" font-family=\"monospace\" font-size=\"10.00\">linear.weight</text>\n<text text-anchor=\"middle\" x=\"305.5\" y=\"-317\" font-family=\"monospace\" font-size=\"10.00\"> (10, 64)</text>\n</g>\n<!-- 140001282457040&#45;&gt;140001280985408 -->\n<g id=\"edge11\" class=\"edge\">\n<title>140001282457040&#45;&gt;140001280985408</title>\n<path fill=\"none\" stroke=\"black\" d=\"M305.5,-309.8C305.5,-300.7 305.5,-288.79 305.5,-278.9\"/>\n<polygon fill=\"black\" stroke=\"black\" points=\"309,-278.84 305.5,-268.84 302,-278.84 309,-278.84\"/>\n</g>\n<!-- 140001295051936&#45;&gt;140001295051136 -->\n<g id=\"edge14\" class=\"edge\">\n<title>140001295051936&#45;&gt;140001295051136</title>\n<path fill=\"none\" stroke=\"black\" stroke-dasharray=\"1,5\" d=\"M209.38,-66.75C203.3,-58.69 195.64,-48.53 188.8,-39.45\"/>\n<polygon fill=\"black\" stroke=\"black\" points=\"191.39,-37.07 182.57,-31.19 185.8,-41.28 191.39,-37.07\"/>\n</g>\n</g>\n</svg>\n",
            "text/plain": [
              "<graphviz.graphs.Digraph at 0x7f55572496f0>"
            ]
          },
          "metadata": {},
          "execution_count": 16
        }
      ]
    },
    {
      "cell_type": "code",
      "source": [
        "# Generate the visualization of the MIM model\n",
        "mim_outputs = mim_model(mlm_outputs)\n",
        "make_dot(mim_outputs, params=dict(mim_model.named_parameters()))"
      ],
      "metadata": {
        "colab": {
          "base_uri": "https://localhost:8080/",
          "height": 900
        },
        "id": "vAXAXRn8i0tp",
        "outputId": "8114f38d-f24b-4a72-bd0a-5f05e73885b8"
      },
      "execution_count": 17,
      "outputs": [
        {
          "output_type": "execute_result",
          "data": {
            "image/svg+xml": "<?xml version=\"1.0\" encoding=\"UTF-8\" standalone=\"no\"?>\n<!DOCTYPE svg PUBLIC \"-//W3C//DTD SVG 1.1//EN\"\n \"http://www.w3.org/Graphics/SVG/1.1/DTD/svg11.dtd\">\n<!-- Generated by graphviz version 2.43.0 (0)\n -->\n<!-- Title: %3 Pages: 1 -->\n<svg width=\"356pt\" height=\"659pt\"\n viewBox=\"0.00 0.00 356.00 659.00\" xmlns=\"http://www.w3.org/2000/svg\" xmlns:xlink=\"http://www.w3.org/1999/xlink\">\n<g id=\"graph0\" class=\"graph\" transform=\"scale(1 1) rotate(0) translate(4 655)\">\n<title>%3</title>\n<polygon fill=\"white\" stroke=\"transparent\" points=\"-4,4 -4,-655 352,-655 352,4 -4,4\"/>\n<!-- 140001280898000 -->\n<g id=\"node1\" class=\"node\">\n<title>140001280898000</title>\n<polygon fill=\"#caff70\" stroke=\"black\" points=\"213,-31 130,-31 130,0 213,0 213,-31\"/>\n<text text-anchor=\"middle\" x=\"171.5\" y=\"-7\" font-family=\"monospace\" font-size=\"10.00\"> (9, 1, 32)</text>\n</g>\n<!-- 140004510969296 -->\n<g id=\"node2\" class=\"node\">\n<title>140004510969296</title>\n<polygon fill=\"lightgrey\" stroke=\"black\" points=\"170,-92 75,-92 75,-73 170,-73 170,-92\"/>\n<text text-anchor=\"middle\" x=\"122.5\" y=\"-80\" font-family=\"monospace\" font-size=\"10.00\">ViewBackward0</text>\n</g>\n<!-- 140004510969296&#45;&gt;140001280898000 -->\n<g id=\"edge20\" class=\"edge\">\n<title>140004510969296&#45;&gt;140001280898000</title>\n<path fill=\"none\" stroke=\"black\" d=\"M129.11,-72.73C135.58,-64.15 145.72,-50.69 154.46,-39.1\"/>\n<polygon fill=\"black\" stroke=\"black\" points=\"157.28,-41.18 160.51,-31.08 151.69,-36.96 157.28,-41.18\"/>\n</g>\n<!-- 140004510963536 -->\n<g id=\"node3\" class=\"node\">\n<title>140004510963536</title>\n<polygon fill=\"lightgrey\" stroke=\"black\" points=\"222,-153 121,-153 121,-134 222,-134 222,-153\"/>\n<text text-anchor=\"middle\" x=\"171.5\" y=\"-141\" font-family=\"monospace\" font-size=\"10.00\">AddmmBackward0</text>\n</g>\n<!-- 140004510963536&#45;&gt;140004510969296 -->\n<g id=\"edge1\" class=\"edge\">\n<title>140004510963536&#45;&gt;140004510969296</title>\n<path fill=\"none\" stroke=\"black\" d=\"M164.27,-133.79C156.96,-124.99 145.48,-111.17 136.4,-100.23\"/>\n<polygon fill=\"black\" stroke=\"black\" points=\"138.84,-97.7 129.76,-92.24 133.46,-102.17 138.84,-97.7\"/>\n</g>\n<!-- 140001280893200 -->\n<g id=\"node22\" class=\"node\">\n<title>140001280893200</title>\n<polygon fill=\"#a2cd5a\" stroke=\"black\" points=\"253,-98 188,-98 188,-67 253,-67 253,-98\"/>\n<text text-anchor=\"middle\" x=\"220.5\" y=\"-74\" font-family=\"monospace\" font-size=\"10.00\"> (9, 32)</text>\n</g>\n<!-- 140004510963536&#45;&gt;140001280893200 -->\n<g id=\"edge21\" class=\"edge\">\n<title>140004510963536&#45;&gt;140001280893200</title>\n<path fill=\"none\" stroke=\"black\" d=\"M178.73,-133.79C184.8,-126.48 193.76,-115.7 201.82,-105.99\"/>\n<polygon fill=\"black\" stroke=\"black\" points=\"204.6,-108.12 208.3,-98.19 199.22,-103.65 204.6,-108.12\"/>\n</g>\n<!-- 140004510963872 -->\n<g id=\"node4\" class=\"node\">\n<title>140004510963872</title>\n<polygon fill=\"lightgrey\" stroke=\"black\" points=\"106,-208 5,-208 5,-189 106,-189 106,-208\"/>\n<text text-anchor=\"middle\" x=\"55.5\" y=\"-196\" font-family=\"monospace\" font-size=\"10.00\">AccumulateGrad</text>\n</g>\n<!-- 140004510963872&#45;&gt;140004510963536 -->\n<g id=\"edge2\" class=\"edge\">\n<title>140004510963872&#45;&gt;140004510963536</title>\n<path fill=\"none\" stroke=\"black\" d=\"M74.14,-188.98C92.8,-180.46 121.75,-167.23 143.24,-157.41\"/>\n<polygon fill=\"black\" stroke=\"black\" points=\"144.88,-160.51 152.52,-153.17 141.97,-154.14 144.88,-160.51\"/>\n</g>\n<!-- 140001280891920 -->\n<g id=\"node5\" class=\"node\">\n<title>140001280891920</title>\n<polygon fill=\"lightblue\" stroke=\"black\" points=\"97,-274 14,-274 14,-244 97,-244 97,-274\"/>\n<text text-anchor=\"middle\" x=\"55.5\" y=\"-262\" font-family=\"monospace\" font-size=\"10.00\">linear.bias</text>\n<text text-anchor=\"middle\" x=\"55.5\" y=\"-251\" font-family=\"monospace\" font-size=\"10.00\"> (32)</text>\n</g>\n<!-- 140001280891920&#45;&gt;140004510963872 -->\n<g id=\"edge3\" class=\"edge\">\n<title>140001280891920&#45;&gt;140004510963872</title>\n<path fill=\"none\" stroke=\"black\" d=\"M55.5,-243.84C55.5,-236.21 55.5,-226.7 55.5,-218.45\"/>\n<polygon fill=\"black\" stroke=\"black\" points=\"59,-218.27 55.5,-208.27 52,-218.27 59,-218.27\"/>\n</g>\n<!-- 140004510971600 -->\n<g id=\"node6\" class=\"node\">\n<title>140004510971600</title>\n<polygon fill=\"lightgrey\" stroke=\"black\" points=\"219,-208 124,-208 124,-189 219,-189 219,-208\"/>\n<text text-anchor=\"middle\" x=\"171.5\" y=\"-196\" font-family=\"monospace\" font-size=\"10.00\">ViewBackward0</text>\n</g>\n<!-- 140004510971600&#45;&gt;140004510963536 -->\n<g id=\"edge4\" class=\"edge\">\n<title>140004510971600&#45;&gt;140004510963536</title>\n<path fill=\"none\" stroke=\"black\" d=\"M171.5,-188.75C171.5,-181.8 171.5,-171.85 171.5,-163.13\"/>\n<polygon fill=\"black\" stroke=\"black\" points=\"175,-163.09 171.5,-153.09 168,-163.09 175,-163.09\"/>\n</g>\n<!-- 140004510970832 -->\n<g id=\"node7\" class=\"node\">\n<title>140004510970832</title>\n<polygon fill=\"lightgrey\" stroke=\"black\" points=\"214,-268.5 119,-268.5 119,-249.5 214,-249.5 214,-268.5\"/>\n<text text-anchor=\"middle\" x=\"166.5\" y=\"-256.5\" font-family=\"monospace\" font-size=\"10.00\">ViewBackward0</text>\n</g>\n<!-- 140004510970832&#45;&gt;140004510971600 -->\n<g id=\"edge5\" class=\"edge\">\n<title>140004510970832&#45;&gt;140004510971600</title>\n<path fill=\"none\" stroke=\"black\" d=\"M167.24,-249.37C167.93,-241.25 169,-228.81 169.89,-218.39\"/>\n<polygon fill=\"black\" stroke=\"black\" points=\"173.39,-218.43 170.76,-208.17 166.42,-217.83 173.39,-218.43\"/>\n</g>\n<!-- 140001280993280 -->\n<g id=\"node8\" class=\"node\">\n<title>140001280993280</title>\n<polygon fill=\"lightgrey\" stroke=\"black\" points=\"217,-334.5 116,-334.5 116,-315.5 217,-315.5 217,-334.5\"/>\n<text text-anchor=\"middle\" x=\"166.5\" y=\"-322.5\" font-family=\"monospace\" font-size=\"10.00\">AddmmBackward0</text>\n</g>\n<!-- 140001280993280&#45;&gt;140004510970832 -->\n<g id=\"edge6\" class=\"edge\">\n<title>140001280993280&#45;&gt;140004510970832</title>\n<path fill=\"none\" stroke=\"black\" d=\"M166.5,-315.37C166.5,-306.16 166.5,-291.29 166.5,-279.27\"/>\n<polygon fill=\"black\" stroke=\"black\" points=\"170,-278.91 166.5,-268.91 163,-278.91 170,-278.91\"/>\n</g>\n<!-- 140001280986560 -->\n<g id=\"node9\" class=\"node\">\n<title>140001280986560</title>\n<polygon fill=\"lightgrey\" stroke=\"black\" points=\"101,-395 0,-395 0,-376 101,-376 101,-395\"/>\n<text text-anchor=\"middle\" x=\"50.5\" y=\"-383\" font-family=\"monospace\" font-size=\"10.00\">AccumulateGrad</text>\n</g>\n<!-- 140001280986560&#45;&gt;140001280993280 -->\n<g id=\"edge7\" class=\"edge\">\n<title>140001280986560&#45;&gt;140001280993280</title>\n<path fill=\"none\" stroke=\"black\" d=\"M67.62,-375.87C86.72,-366.23 117.87,-350.53 140.1,-339.31\"/>\n<polygon fill=\"black\" stroke=\"black\" points=\"141.96,-342.3 149.31,-334.67 138.81,-336.05 141.96,-342.3\"/>\n</g>\n<!-- 140001280893600 -->\n<g id=\"node10\" class=\"node\">\n<title>140001280893600</title>\n<polygon fill=\"lightblue\" stroke=\"black\" points=\"77.5,-462 23.5,-462 23.5,-431 77.5,-431 77.5,-462\"/>\n<text text-anchor=\"middle\" x=\"50.5\" y=\"-438\" font-family=\"monospace\" font-size=\"10.00\"> (10)</text>\n</g>\n<!-- 140001280893600&#45;&gt;140001280986560 -->\n<g id=\"edge8\" class=\"edge\">\n<title>140001280893600&#45;&gt;140001280986560</title>\n<path fill=\"none\" stroke=\"black\" d=\"M50.5,-430.92C50.5,-423.22 50.5,-413.69 50.5,-405.43\"/>\n<polygon fill=\"black\" stroke=\"black\" points=\"54,-405.25 50.5,-395.25 47,-405.25 54,-405.25\"/>\n</g>\n<!-- 140001280989392 -->\n<g id=\"node11\" class=\"node\">\n<title>140001280989392</title>\n<polygon fill=\"lightgrey\" stroke=\"black\" points=\"214,-395 119,-395 119,-376 214,-376 214,-395\"/>\n<text text-anchor=\"middle\" x=\"166.5\" y=\"-383\" font-family=\"monospace\" font-size=\"10.00\">ViewBackward0</text>\n</g>\n<!-- 140001280989392&#45;&gt;140001280993280 -->\n<g id=\"edge9\" class=\"edge\">\n<title>140001280989392&#45;&gt;140001280993280</title>\n<path fill=\"none\" stroke=\"black\" d=\"M166.5,-375.87C166.5,-367.75 166.5,-355.31 166.5,-344.89\"/>\n<polygon fill=\"black\" stroke=\"black\" points=\"170,-344.67 166.5,-334.67 163,-344.67 170,-344.67\"/>\n</g>\n<!-- 140001280985984 -->\n<g id=\"node12\" class=\"node\">\n<title>140001280985984</title>\n<polygon fill=\"lightgrey\" stroke=\"black\" points=\"229,-456 98,-456 98,-437 229,-437 229,-456\"/>\n<text text-anchor=\"middle\" x=\"163.5\" y=\"-444\" font-family=\"monospace\" font-size=\"10.00\">MaskedFillBackward0</text>\n</g>\n<!-- 140001280985984&#45;&gt;140001280989392 -->\n<g id=\"edge10\" class=\"edge\">\n<title>140001280985984&#45;&gt;140001280989392</title>\n<path fill=\"none\" stroke=\"black\" d=\"M163.94,-436.79C164.36,-428.6 165,-416.06 165.53,-405.55\"/>\n<polygon fill=\"black\" stroke=\"black\" points=\"169.04,-405.41 166.06,-395.24 162.05,-405.05 169.04,-405.41\"/>\n</g>\n<!-- 140001280985168 -->\n<g id=\"node13\" class=\"node\">\n<title>140001280985168</title>\n<polygon fill=\"lightgrey\" stroke=\"black\" points=\"226,-523 101,-523 101,-504 226,-504 226,-523\"/>\n<text text-anchor=\"middle\" x=\"163.5\" y=\"-511\" font-family=\"monospace\" font-size=\"10.00\">EmbeddingBackward0</text>\n</g>\n<!-- 140001280985168&#45;&gt;140001280985984 -->\n<g id=\"edge11\" class=\"edge\">\n<title>140001280985168&#45;&gt;140001280985984</title>\n<path fill=\"none\" stroke=\"black\" d=\"M163.5,-503.73C163.5,-494.18 163.5,-478.62 163.5,-466.28\"/>\n<polygon fill=\"black\" stroke=\"black\" points=\"167,-466.13 163.5,-456.13 160,-466.13 167,-466.13\"/>\n</g>\n<!-- 140001280990688 -->\n<g id=\"node14\" class=\"node\">\n<title>140001280990688</title>\n<polygon fill=\"lightgrey\" stroke=\"black\" points=\"214,-584 113,-584 113,-565 214,-565 214,-584\"/>\n<text text-anchor=\"middle\" x=\"163.5\" y=\"-572\" font-family=\"monospace\" font-size=\"10.00\">AccumulateGrad</text>\n</g>\n<!-- 140001280990688&#45;&gt;140001280985168 -->\n<g id=\"edge12\" class=\"edge\">\n<title>140001280990688&#45;&gt;140001280985168</title>\n<path fill=\"none\" stroke=\"black\" d=\"M163.5,-564.79C163.5,-556.6 163.5,-544.06 163.5,-533.55\"/>\n<polygon fill=\"black\" stroke=\"black\" points=\"167,-533.24 163.5,-523.24 160,-533.24 167,-533.24\"/>\n</g>\n<!-- 140001280895520 -->\n<g id=\"node15\" class=\"node\">\n<title>140001280895520</title>\n<polygon fill=\"lightblue\" stroke=\"black\" points=\"199,-651 128,-651 128,-620 199,-620 199,-651\"/>\n<text text-anchor=\"middle\" x=\"163.5\" y=\"-627\" font-family=\"monospace\" font-size=\"10.00\"> (10, 64)</text>\n</g>\n<!-- 140001280895520&#45;&gt;140001280990688 -->\n<g id=\"edge13\" class=\"edge\">\n<title>140001280895520&#45;&gt;140001280990688</title>\n<path fill=\"none\" stroke=\"black\" d=\"M163.5,-619.92C163.5,-612.22 163.5,-602.69 163.5,-594.43\"/>\n<polygon fill=\"black\" stroke=\"black\" points=\"167,-594.25 163.5,-584.25 160,-594.25 167,-594.25\"/>\n</g>\n<!-- 140001280994432 -->\n<g id=\"node16\" class=\"node\">\n<title>140001280994432</title>\n<polygon fill=\"lightgrey\" stroke=\"black\" points=\"322,-395 245,-395 245,-376 322,-376 322,-395\"/>\n<text text-anchor=\"middle\" x=\"283.5\" y=\"-383\" font-family=\"monospace\" font-size=\"10.00\">TBackward0</text>\n</g>\n<!-- 140001280994432&#45;&gt;140001280993280 -->\n<g id=\"edge14\" class=\"edge\">\n<title>140001280994432&#45;&gt;140001280993280</title>\n<path fill=\"none\" stroke=\"black\" d=\"M266.49,-375.99C247.08,-366.29 215.11,-350.31 192.56,-339.03\"/>\n<polygon fill=\"black\" stroke=\"black\" points=\"194.04,-335.86 183.53,-334.52 190.91,-342.12 194.04,-335.86\"/>\n</g>\n<!-- 140001280985408 -->\n<g id=\"node17\" class=\"node\">\n<title>140001280985408</title>\n<polygon fill=\"lightgrey\" stroke=\"black\" points=\"348,-456 247,-456 247,-437 348,-437 348,-456\"/>\n<text text-anchor=\"middle\" x=\"297.5\" y=\"-444\" font-family=\"monospace\" font-size=\"10.00\">AccumulateGrad</text>\n</g>\n<!-- 140001280985408&#45;&gt;140001280994432 -->\n<g id=\"edge15\" class=\"edge\">\n<title>140001280985408&#45;&gt;140001280994432</title>\n<path fill=\"none\" stroke=\"black\" d=\"M295.43,-436.79C293.47,-428.52 290.45,-415.79 287.94,-405.21\"/>\n<polygon fill=\"black\" stroke=\"black\" points=\"291.29,-404.16 285.57,-395.24 284.48,-405.78 291.29,-404.16\"/>\n</g>\n<!-- 140001282457040 -->\n<g id=\"node18\" class=\"node\">\n<title>140001282457040</title>\n<polygon fill=\"lightblue\" stroke=\"black\" points=\"333,-529 262,-529 262,-498 333,-498 333,-529\"/>\n<text text-anchor=\"middle\" x=\"297.5\" y=\"-505\" font-family=\"monospace\" font-size=\"10.00\"> (10, 64)</text>\n</g>\n<!-- 140001282457040&#45;&gt;140001280985408 -->\n<g id=\"edge16\" class=\"edge\">\n<title>140001282457040&#45;&gt;140001280985408</title>\n<path fill=\"none\" stroke=\"black\" d=\"M297.5,-497.75C297.5,-488.39 297.5,-476.19 297.5,-466.16\"/>\n<polygon fill=\"black\" stroke=\"black\" points=\"301,-466.02 297.5,-456.02 294,-466.02 301,-466.02\"/>\n</g>\n<!-- 140004510972944 -->\n<g id=\"node19\" class=\"node\">\n<title>140004510972944</title>\n<polygon fill=\"lightgrey\" stroke=\"black\" points=\"317,-208 240,-208 240,-189 317,-189 317,-208\"/>\n<text text-anchor=\"middle\" x=\"278.5\" y=\"-196\" font-family=\"monospace\" font-size=\"10.00\">TBackward0</text>\n</g>\n<!-- 140004510972944&#45;&gt;140004510963536 -->\n<g id=\"edge17\" class=\"edge\">\n<title>140004510972944&#45;&gt;140004510963536</title>\n<path fill=\"none\" stroke=\"black\" d=\"M261.31,-188.98C244.25,-180.54 217.87,-167.47 198.1,-157.68\"/>\n<polygon fill=\"black\" stroke=\"black\" points=\"199.52,-154.47 189,-153.17 196.41,-160.75 199.52,-154.47\"/>\n</g>\n<!-- 140004510970400 -->\n<g id=\"node20\" class=\"node\">\n<title>140004510970400</title>\n<polygon fill=\"lightgrey\" stroke=\"black\" points=\"333,-268.5 232,-268.5 232,-249.5 333,-249.5 333,-268.5\"/>\n<text text-anchor=\"middle\" x=\"282.5\" y=\"-256.5\" font-family=\"monospace\" font-size=\"10.00\">AccumulateGrad</text>\n</g>\n<!-- 140004510970400&#45;&gt;140004510972944 -->\n<g id=\"edge18\" class=\"edge\">\n<title>140004510970400&#45;&gt;140004510972944</title>\n<path fill=\"none\" stroke=\"black\" d=\"M281.91,-249.37C281.35,-241.25 280.5,-228.81 279.79,-218.39\"/>\n<polygon fill=\"black\" stroke=\"black\" points=\"283.27,-217.91 279.09,-208.17 276.28,-218.38 283.27,-217.91\"/>\n</g>\n<!-- 140001280893040 -->\n<g id=\"node21\" class=\"node\">\n<title>140001280893040</title>\n<polygon fill=\"lightblue\" stroke=\"black\" points=\"330,-340 235,-340 235,-310 330,-310 330,-340\"/>\n<text text-anchor=\"middle\" x=\"282.5\" y=\"-328\" font-family=\"monospace\" font-size=\"10.00\">linear.weight</text>\n<text text-anchor=\"middle\" x=\"282.5\" y=\"-317\" font-family=\"monospace\" font-size=\"10.00\"> (32, 10)</text>\n</g>\n<!-- 140001280893040&#45;&gt;140004510970400 -->\n<g id=\"edge19\" class=\"edge\">\n<title>140001280893040&#45;&gt;140004510970400</title>\n<path fill=\"none\" stroke=\"black\" d=\"M282.5,-309.8C282.5,-300.7 282.5,-288.79 282.5,-278.9\"/>\n<polygon fill=\"black\" stroke=\"black\" points=\"286,-278.84 282.5,-268.84 279,-278.84 286,-278.84\"/>\n</g>\n<!-- 140001280893200&#45;&gt;140001280898000 -->\n<g id=\"edge22\" class=\"edge\">\n<title>140001280893200&#45;&gt;140001280898000</title>\n<path fill=\"none\" stroke=\"black\" stroke-dasharray=\"1,5\" d=\"M209.38,-66.75C203.3,-58.69 195.64,-48.53 188.8,-39.45\"/>\n<polygon fill=\"black\" stroke=\"black\" points=\"191.39,-37.07 182.57,-31.19 185.8,-41.28 191.39,-37.07\"/>\n</g>\n</g>\n</svg>\n",
            "text/plain": [
              "<graphviz.graphs.Digraph at 0x7f555724a860>"
            ]
          },
          "metadata": {},
          "execution_count": 17
        }
      ]
    },
    {
      "cell_type": "code",
      "source": [],
      "metadata": {
        "id": "wVkliaAGCoqX"
      },
      "execution_count": null,
      "outputs": []
    }
  ]
}
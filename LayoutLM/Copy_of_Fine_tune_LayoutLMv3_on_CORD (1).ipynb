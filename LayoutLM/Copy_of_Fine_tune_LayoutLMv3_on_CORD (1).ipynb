{
 "cells": [
  {
   "cell_type": "markdown",
   "metadata": {
    "id": "o_dmK3iyCuWt"
   },
   "source": [
    "# Fine-tune LayoutLMv3 for token classification on CORD receipts dataset"
   ]
  },
  {
   "cell_type": "markdown",
   "metadata": {
    "id": "GD6ugyXPMe_g"
   },
   "source": [
    "This notebook shows how to Fine-Tune a LayoutLMv3 model for token classification on the CORD receipt dataset. This notebook can be found at [https://bit.ly/raj_layout](https://bit.ly/raj_layout) and my [github](https://github.com/rajshah4/huggingface-demos/).  A 15 minute video walkthough is available at my [youtube channel](https://youtu.be/bsT_1uDRQVo).\n",
    "\n",
    "This notebook was created by Rajiv Shah. The best set of notebooks for LayoutLM is by Niels at his [Transformer Tutorials](https://github.com/NielsRogge/Transformers-Tutorials)."
   ]
  },
  {
   "cell_type": "markdown",
   "metadata": {
    "id": "Mfj8f-IeulH1"
   },
   "source": [
    "## Set-up environment\n",
    "\n",
    "First, we install 🤗 Transformers, as well as 🤗 Datasets and Seqeval (the latter is useful for evaluation metrics such as F1 on sequence labeling tasks)."
   ]
  },
  {
   "cell_type": "code",
   "execution_count": null,
   "metadata": {
    "colab": {
     "base_uri": "https://localhost:8080/"
    },
    "id": "iEhAXR6ZrPPR",
    "outputId": "46e2d90b-133d-4b8a-c5d7-88ed46fcf1ca"
   },
   "outputs": [],
   "source": [
    "!pip install -q datasets seqeval transformers"
   ]
  },
  {
   "cell_type": "markdown",
   "metadata": {
    "id": "jmY-2rdYC0Ox"
   },
   "source": [
    "Let's login to the Hugging Face hub, so we have a place to push our final tuned model.\n",
    "To create a Hugging Face account if you do not already have one, by visiting https://huggingface.co/ and clicking \"Sign Up\".  You will then go to your account, look under profile settings, and then select/create an access token with write privileges.  "
   ]
  },
  {
   "cell_type": "code",
   "execution_count": null,
   "metadata": {
    "colab": {
     "base_uri": "https://localhost:8080/",
     "height": 299,
     "referenced_widgets": [
      "a24b4a012a0d475fb72cc0812118119f",
      "1f63b2dff41e43ef87accde990eaea81",
      "d25535f440ca44a9a1df8818105e93af",
      "5206670bedae405c97c84007e2bd4c62",
      "5f247366dede46618e7c110085cb4b01",
      "7dd3ab99917e45a896e6a81f5823d0a7",
      "0ac68a854cee40b282a910efe3571024",
      "3df1564f0cac4ed698f8f7797ba11a5c",
      "bd0b05c389c342e289a1bc37c94343be",
      "e080b68973f1439595b7c9b603a4189e",
      "07a738fe3372455e964324e1ef57e9cc",
      "da344315292d46dd8cacdc6d472a2682",
      "d684803067484f89ba98a56a33645a67",
      "146cbd0747d34c128136bd1f9ee88c08"
     ]
    },
    "id": "tAH-6Fxmsl7G",
    "outputId": "d54f61b9-9823-4c11-bb6b-431d46affd92"
   },
   "outputs": [],
   "source": [
    "from huggingface_hub import notebook_login\n",
    "notebook_login()"
   ]
  },
  {
   "cell_type": "markdown",
   "metadata": {
    "id": "BRVNH9W9Dbs1"
   },
   "source": [
    "Verify you are correctly logged in"
   ]
  },
  {
   "cell_type": "code",
   "execution_count": null,
   "metadata": {
    "colab": {
     "base_uri": "https://localhost:8080/"
    },
    "id": "KH3m0fXX6hKA",
    "outputId": "4646b10f-f25b-4a1c-f99f-3e1bb03d2aa6"
   },
   "outputs": [],
   "source": [
    "!huggingface-cli whoami"
   ]
  },
  {
   "cell_type": "markdown",
   "metadata": {
    "id": "LIJRzTbqrclo"
   },
   "source": [
    "## Load dataset\n",
    "\n",
    "Next, we load a dataset from the 🤗 [hub](https://huggingface.co/datasets/nielsr/cord-layoutlmv3). This one is the [CORD](https://github.com/clovaai/cord) dataset, a collection of annotated receipts.  \n",
    "\n",
    "Loading this dataset can take 10 minutes. The generating train split takes a bit."
   ]
  },
  {
   "cell_type": "code",
   "execution_count": null,
   "metadata": {
    "colab": {
     "base_uri": "https://localhost:8080/",
     "height": 410,
     "referenced_widgets": [
      "aa80c7933cf944c7ac3eeee94a7fd5eb",
      "597a2a6054f24e9c92634ced2a58a586",
      "ec0a899af7354c6d8bd42d95e506e62b",
      "a4635d784f3a480990a9668c36fdfad6",
      "caeaed1f3524429b9adaa37a7cf7f0d5",
      "b0566b9e519a48e1b1acc5d4e29ca195",
      "a89e25e6872a475eaed4c019733b13b7",
      "14860f99339c4f658e02029d168b50b5",
      "e37afcb4d06045d088f966c7fbb040dd",
      "8fca637abb4543249513019d44049632",
      "9d71dbf383764969ae7a5dd790266c59",
      "1fc487d233384f6683a33af5980757b8",
      "bcadc192239f4e8797e461629e1f9819",
      "2f485bff6151412e8f34ccfe372ed37d",
      "12b58780ebbe4241946dc7a2543c469c",
      "9b4bbb1007d5484abdb22edbea945963",
      "83339ec252124c068d1e6e5b7da640db",
      "2c52b45c066f40458a2eb0d83e0b1477",
      "8da51c8992324d1ea1635832439e0340",
      "4778608b2b2240508ecf7141d4d8fe70",
      "df6276f8cce14138a8617697ffb7df30",
      "a31c621544a2412990c15992dbd70e20",
      "d0f6765e7f914dc199f7c93d82007cc1",
      "5e3dbbdd942b4d6297bf409e6162d83d",
      "59823e7675904a2d92d9771d19ed5ef8",
      "b699debd394849b89b0141ba21602c00",
      "d05ac6774e2149949130183364380e66",
      "4e6d22c448cb45e187533b73edf5b595",
      "fbb89eee62d94d71898553aaf9d70e06",
      "76218a3f25d44ed98ff3354b97fc6e45",
      "858900a9337b423e9fadeaa45d0524d0",
      "3ba388d95bce49a1add079ccc2be1c3f",
      "ca02933a6b524224a65b499adf17bcb3",
      "d3422d7edbb94959ac1789adf03b2a7e",
      "1d056ebd9075458ba12777612b1761b2",
      "1e1d4a481aba4b4184b2654b0f5c4744",
      "e7f4503857da4489a236fd5791bbe95a",
      "58775087653142d1bf646ebedac0fe3b",
      "1e225c9da4304a51a2a529a08972b32e",
      "0e0a6bee7ba942728fe8acb7eb06bf16",
      "42dc984aef6642deb70a377ebc2e1846",
      "d44db048b49d4215a3e184ed60912828",
      "df3873cbdbbe40d2a3846cfc6c15c619",
      "8a37164d79da4abd88145a30040d7a60",
      "2985c5b31787420696f21d2afb5aaf63",
      "67a0dd8588574f1399f46d1392220a84",
      "ef64b1faabdf4f5495a70eec43dc41a8",
      "1f927e748eeb4ddc890cbdef92eea1b6",
      "559cb6c6091340cf985f1dac6710aa73",
      "097617e311f3468891fac8ce9ac8b054",
      "b249e4d58c6541e78a32969cfcec9eac",
      "bf449b7fc14e444fad52a5df8ece96ec",
      "bc25064cfa2e418baeec104e24c5fd86",
      "85b58bf678f84dfb8ae4582d8c78b20a",
      "b84fecbc6cde4910ac3c0640e0bee1ae",
      "8907a0c6364140cfa30ee5954006b3f6",
      "87a4b5b6b27b4bb4af2f2e81a8733abc",
      "d250af30692c43dd88c2eb04d0faf5a3",
      "6a69b0a777a84bc3941798987e86a0e8",
      "dc13ce7d16b5415c812920c50bac187c",
      "530e34c0f18a426fa8c88101e0de4c80",
      "2644a7cd23214c6983f7642d0f98c6eb",
      "27abcbd55f2545e1970f2ded41e6ed74",
      "317eb2aa734143d1a07f3228e45d2633",
      "290cdfdc540d45f0991583fb0b57ee30",
      "59b21ca504874e78b2aaee3aa02cd9ba",
      "53e80c1fa0f04af18d69ba6a5097ccd0",
      "8b393884244a42828aac2371a5eb8593",
      "a7999317b2c543efab8f8bae2df55dc2",
      "5a9e8f860f7746c2b0a3d5303d76f918",
      "fa151a9c0f2149f5a7c811a31d13192d",
      "16bf40be53d846d29ead64df300f180d",
      "c7084cfe1f434fa189a71c8d3c454606",
      "15a3408be50f4173bc7a513ce2ba6f69",
      "2c9529529a8d4e1fbd1480a7b8cbac46",
      "3a63d9b83e8f4176ae590aa34c902a74",
      "2b75df62342d4219b40e130046ed4a58",
      "5083020950dd48888cf41a7cf126788d",
      "28ae510972e74140918840769bd01d36",
      "7777ae3df5084b608f0a94e9ca09d4df",
      "b175ff15ab4e4129b4b98aa8ba19545a",
      "59ec826cc7fb4a6ea7a7064bf2a78877",
      "45903dbe091241949e70c2695f27dbbb",
      "ef3ed327b45f4957b018c8766d9b45c0",
      "26d8c142e4eb4fa786e572c08353b9fc",
      "7dd4ac700f6f48c48ff8a8219cd7376e",
      "dd90beafb4084ec184cb60fb20cfc477",
      "207679bb64c64efc93c9d17c1e5063ef",
      "33771a75658c43029011fdcd872b4214",
      "51f994e6aa374941bd7b8ad0a0f3a576",
      "2de9e3df41b246859f62e19aae561fa8",
      "5135825c82934b1da15a7cabc6000a21",
      "709bdb6c1332449786917992b909c47d",
      "1d762d4c02d443c380583b7c9cf8023a",
      "b455322c5bbe47d1b5a3bb00216d2393",
      "362a535820284c28ac480698f7f27c9c",
      "26dcfd1ae1f749169f88eb65363ac461",
      "f66b9c0c488a41e298cc5ce9976c4ce4",
      "e5ffd01d471a4affb8c0aaee3216c108",
      "ca03e24362d8435a80a6edafa432206e",
      "526d9a724bea4546a4bd09a390e0031b",
      "adf94810ccef4dadb419d891ed9e490d",
      "61824166c2b2467fa067c86736ded34c",
      "4fdd318b8b384b14bde7c5ac70adc0fb",
      "dad34be627904e2d9f2a22ce8064bfa6",
      "f9b7117533a143879069fea2f5366271",
      "54a4549b307d413fbc43a59efae01273",
      "0c97e2f7820543b9a92b0a969cc0103a",
      "13838b84bd664df785434155ea05f2c7",
      "7f174bffa24741d69f36ff003eb2f210"
     ]
    },
    "id": "P-BqQFmArQ-o",
    "outputId": "ada26007-ed8d-4518-b300-d1581f54253a"
   },
   "outputs": [],
   "source": [
    "from datasets import load_dataset \n",
    "\n",
    "# this dataset uses the new Image feature :)\n",
    "dataset = load_dataset(\"nielsr/cord-layoutlmv3\")"
   ]
  },
  {
   "cell_type": "markdown",
   "metadata": {
    "id": "S2BP1WMNPj6A"
   },
   "source": [
    "As we can see, the dataset consists of 3 splits (\"train\",  \"validation\", and \"test\"), and each example contains a list of words (\"words\") with corresponding boxes (\"bboxes\"), and the words are tagged (\"ner_tags\"). Each example also include the original image (\"image\"). Check out this [notebook](https://github.com/NielsRogge/Transformers-Tutorials/blob/master/LayoutLMv2/CORD/Prepare_CORD_for_LayoutLMv2.ipynb) from Niels for details on how to prepare the CORD dataset. "
   ]
  },
  {
   "cell_type": "code",
   "execution_count": null,
   "metadata": {
    "colab": {
     "base_uri": "https://localhost:8080/"
    },
    "id": "BI7hZo4Fzcrc",
    "outputId": "ead6c1ad-1e6a-4704-aca1-477f56897259"
   },
   "outputs": [],
   "source": [
    "dataset"
   ]
  },
  {
   "cell_type": "markdown",
   "metadata": {
    "id": "l5R0xubIQW1P"
   },
   "source": [
    "Let's check the features. The CORD dataset has a lot!  For a simpler document, check out the FUNSD dataset:"
   ]
  },
  {
   "cell_type": "code",
   "execution_count": null,
   "metadata": {
    "colab": {
     "base_uri": "https://localhost:8080/"
    },
    "id": "REUV3z-o0Hc1",
    "outputId": "e9df691b-6ba3-4bfe-9631-86b748a1ec34"
   },
   "outputs": [],
   "source": [
    "dataset[\"train\"].features"
   ]
  },
  {
   "cell_type": "markdown",
   "metadata": {
    "id": "aagYK5p7P3yN"
   },
   "source": [
    "Note that you can directly see the example in a notebook (as the \"image\" column is of type [Image](https://huggingface.co/docs/datasets/v2.2.1/en/package_reference/main_classes#datasets.Image))."
   ]
  },
  {
   "cell_type": "code",
   "execution_count": null,
   "metadata": {
    "colab": {
     "base_uri": "https://localhost:8080/",
     "height": 1000
    },
    "id": "jEHwig35P7jJ",
    "outputId": "f52c872e-cf35-4377-8d27-b9e866cec6e6"
   },
   "outputs": [],
   "source": [
    "example = dataset[\"train\"][0]\n",
    "example[\"image\"]"
   ]
  },
  {
   "cell_type": "markdown",
   "metadata": {
    "id": "sVZelEKWT2SI"
   },
   "source": [
    "Take a look at the other information for this example."
   ]
  },
  {
   "cell_type": "code",
   "execution_count": null,
   "metadata": {
    "colab": {
     "base_uri": "https://localhost:8080/"
    },
    "id": "aXNUH4o4Qf7M",
    "outputId": "a4acfe64-7353-48f9-e6eb-1c2c1a73c13d"
   },
   "outputs": [],
   "source": [
    "words, boxes, ner_tags = example[\"words\"], example[\"bboxes\"], example[\"ner_tags\"]\n",
    "print(words)\n",
    "print(boxes)\n",
    "print(ner_tags)"
   ]
  },
  {
   "cell_type": "markdown",
   "metadata": {
    "id": "eHiLE4PYtSpC"
   },
   "source": [
    "## Prepare dataset\n",
    "\n",
    "Next, we prepare the dataset for the model. This can be done very easily using `LayoutLMv3Processor`, which internally wraps a `LayoutLMv3FeatureExtractor` (for the image modality) and a `LayoutLMv3Tokenizer` (for the text modality) into one.\n",
    "\n",
    "Basically, the processor does the following internally:\n",
    "* the feature extractor is used to resize + normalize each document image into `pixel_values`\n",
    "* the tokenizer is used to turn the words, boxes and NER tags into token-level `input_ids`, `attention_mask` and `labels`.\n",
    "\n",
    "The processor simply returns a dictionary that contains all these keys."
   ]
  },
  {
   "cell_type": "code",
   "execution_count": null,
   "metadata": {
    "id": "Yq5FuP6SyJD4"
   },
   "outputs": [],
   "source": [
    "from transformers import AutoProcessor\n",
    "# we'll use the Auto API here - it will load LayoutLMv3Processor behind the scenes,\n",
    "# based on the checkpoint we provide from the hub\n",
    "processor = AutoProcessor.from_pretrained(\"microsoft/layoutlmv3-base\", apply_ocr=False)"
   ]
  },
  {
   "cell_type": "markdown",
   "metadata": {
    "id": "-yymv3asRdVA"
   },
   "source": [
    "We'll first create `id2label` and label2id mappings, useful for inference. Note that `LayoutLMv3ForTokenClassification` (the model we'll use later on) will simply output an integer index for a particular class (for each token), so we still need to map it to an actual class name."
   ]
  },
  {
   "cell_type": "code",
   "execution_count": null,
   "metadata": {
    "id": "VmQCS1Ptz_OP"
   },
   "outputs": [],
   "source": [
    "from datasets.features import ClassLabel\n",
    "\n",
    "features = dataset[\"train\"].features\n",
    "column_names = dataset[\"train\"].column_names\n",
    "image_column_name = \"image\"\n",
    "text_column_name = \"words\"\n",
    "boxes_column_name = \"bboxes\"\n",
    "label_column_name = \"ner_tags\"\n",
    "\n",
    "# In the event the labels are not a `Sequence[ClassLabel]`, we will need to go through the dataset to get the\n",
    "# unique labels.\n",
    "def get_label_list(labels):\n",
    "    unique_labels = set()\n",
    "    for label in labels:\n",
    "        unique_labels = unique_labels | set(label)\n",
    "    label_list = list(unique_labels)\n",
    "    label_list.sort()\n",
    "    return label_list\n",
    "\n",
    "if isinstance(features[label_column_name].feature, ClassLabel):\n",
    "    label_list = features[label_column_name].feature.names\n",
    "    # No need to convert the labels since they are already ints.\n",
    "    id2label = {k: v for k,v in enumerate(label_list)}\n",
    "    label2id = {v: k for k,v in enumerate(label_list)}\n",
    "else:\n",
    "    label_list = get_label_list(dataset[\"train\"][label_column_name])\n",
    "    id2label = {k: v for k,v in enumerate(label_list)}\n",
    "    label2id = {v: k for k,v in enumerate(label_list)}\n",
    "num_labels = len(label_list)"
   ]
  },
  {
   "cell_type": "code",
   "execution_count": 37,
   "metadata": {
    "colab": {
     "base_uri": "https://localhost:8080/"
    },
    "id": "MFX9kl-I0PMk",
    "outputId": "274a987e-6429-49fa-b2ee-bdb5f8d10c02"
   },
   "outputs": [
    {
     "name": "stdout",
     "output_type": "stream",
     "text": [
      "['O', 'B-MENU.NM', 'B-MENU.NUM', 'B-MENU.UNITPRICE', 'B-MENU.CNT', 'B-MENU.DISCOUNTPRICE', 'B-MENU.PRICE', 'B-MENU.ITEMSUBTOTAL', 'B-MENU.VATYN', 'B-MENU.ETC', 'B-MENU.SUB_NM', 'B-MENU.SUB_UNITPRICE', 'B-MENU.SUB_CNT', 'B-MENU.SUB_PRICE', 'B-MENU.SUB_ETC', 'B-VOID_MENU.NM', 'B-VOID_MENU.PRICE', 'B-SUB_TOTAL.SUBTOTAL_PRICE', 'B-SUB_TOTAL.DISCOUNT_PRICE', 'B-SUB_TOTAL.SERVICE_PRICE', 'B-SUB_TOTAL.OTHERSVC_PRICE', 'B-SUB_TOTAL.TAX_PRICE', 'B-SUB_TOTAL.ETC', 'B-TOTAL.TOTAL_PRICE', 'B-TOTAL.TOTAL_ETC', 'B-TOTAL.CASHPRICE', 'B-TOTAL.CHANGEPRICE', 'B-TOTAL.CREDITCARDPRICE', 'B-TOTAL.EMONEYPRICE', 'B-TOTAL.MENUTYPE_CNT', 'B-TOTAL.MENUQTY_CNT', 'I-MENU.NM', 'I-MENU.NUM', 'I-MENU.UNITPRICE', 'I-MENU.CNT', 'I-MENU.DISCOUNTPRICE', 'I-MENU.PRICE', 'I-MENU.ITEMSUBTOTAL', 'I-MENU.VATYN', 'I-MENU.ETC', 'I-MENU.SUB_NM', 'I-MENU.SUB_UNITPRICE', 'I-MENU.SUB_CNT', 'I-MENU.SUB_PRICE', 'I-MENU.SUB_ETC', 'I-VOID_MENU.NM', 'I-VOID_MENU.PRICE', 'I-SUB_TOTAL.SUBTOTAL_PRICE', 'I-SUB_TOTAL.DISCOUNT_PRICE', 'I-SUB_TOTAL.SERVICE_PRICE', 'I-SUB_TOTAL.OTHERSVC_PRICE', 'I-SUB_TOTAL.TAX_PRICE', 'I-SUB_TOTAL.ETC', 'I-TOTAL.TOTAL_PRICE', 'I-TOTAL.TOTAL_ETC', 'I-TOTAL.CASHPRICE', 'I-TOTAL.CHANGEPRICE', 'I-TOTAL.CREDITCARDPRICE', 'I-TOTAL.EMONEYPRICE', 'I-TOTAL.MENUTYPE_CNT', 'I-TOTAL.MENUQTY_CNT']\n"
     ]
    }
   ],
   "source": [
    "print(label_list)"
   ]
  },
  {
   "cell_type": "code",
   "execution_count": 38,
   "metadata": {
    "colab": {
     "base_uri": "https://localhost:8080/"
    },
    "id": "kQVhLKTwQkVp",
    "outputId": "80d458ec-9c42-4bac-ee42-561241dabd2d"
   },
   "outputs": [
    {
     "name": "stdout",
     "output_type": "stream",
     "text": [
      "{0: 'O', 1: 'B-MENU.NM', 2: 'B-MENU.NUM', 3: 'B-MENU.UNITPRICE', 4: 'B-MENU.CNT', 5: 'B-MENU.DISCOUNTPRICE', 6: 'B-MENU.PRICE', 7: 'B-MENU.ITEMSUBTOTAL', 8: 'B-MENU.VATYN', 9: 'B-MENU.ETC', 10: 'B-MENU.SUB_NM', 11: 'B-MENU.SUB_UNITPRICE', 12: 'B-MENU.SUB_CNT', 13: 'B-MENU.SUB_PRICE', 14: 'B-MENU.SUB_ETC', 15: 'B-VOID_MENU.NM', 16: 'B-VOID_MENU.PRICE', 17: 'B-SUB_TOTAL.SUBTOTAL_PRICE', 18: 'B-SUB_TOTAL.DISCOUNT_PRICE', 19: 'B-SUB_TOTAL.SERVICE_PRICE', 20: 'B-SUB_TOTAL.OTHERSVC_PRICE', 21: 'B-SUB_TOTAL.TAX_PRICE', 22: 'B-SUB_TOTAL.ETC', 23: 'B-TOTAL.TOTAL_PRICE', 24: 'B-TOTAL.TOTAL_ETC', 25: 'B-TOTAL.CASHPRICE', 26: 'B-TOTAL.CHANGEPRICE', 27: 'B-TOTAL.CREDITCARDPRICE', 28: 'B-TOTAL.EMONEYPRICE', 29: 'B-TOTAL.MENUTYPE_CNT', 30: 'B-TOTAL.MENUQTY_CNT', 31: 'I-MENU.NM', 32: 'I-MENU.NUM', 33: 'I-MENU.UNITPRICE', 34: 'I-MENU.CNT', 35: 'I-MENU.DISCOUNTPRICE', 36: 'I-MENU.PRICE', 37: 'I-MENU.ITEMSUBTOTAL', 38: 'I-MENU.VATYN', 39: 'I-MENU.ETC', 40: 'I-MENU.SUB_NM', 41: 'I-MENU.SUB_UNITPRICE', 42: 'I-MENU.SUB_CNT', 43: 'I-MENU.SUB_PRICE', 44: 'I-MENU.SUB_ETC', 45: 'I-VOID_MENU.NM', 46: 'I-VOID_MENU.PRICE', 47: 'I-SUB_TOTAL.SUBTOTAL_PRICE', 48: 'I-SUB_TOTAL.DISCOUNT_PRICE', 49: 'I-SUB_TOTAL.SERVICE_PRICE', 50: 'I-SUB_TOTAL.OTHERSVC_PRICE', 51: 'I-SUB_TOTAL.TAX_PRICE', 52: 'I-SUB_TOTAL.ETC', 53: 'I-TOTAL.TOTAL_PRICE', 54: 'I-TOTAL.TOTAL_ETC', 55: 'I-TOTAL.CASHPRICE', 56: 'I-TOTAL.CHANGEPRICE', 57: 'I-TOTAL.CREDITCARDPRICE', 58: 'I-TOTAL.EMONEYPRICE', 59: 'I-TOTAL.MENUTYPE_CNT', 60: 'I-TOTAL.MENUQTY_CNT'}\n"
     ]
    }
   ],
   "source": [
    "print(id2label)"
   ]
  },
  {
   "cell_type": "markdown",
   "metadata": {
    "id": "r73QM4b7R289"
   },
   "source": [
    "Next, we'll define a function which we can apply on the entire dataset."
   ]
  },
  {
   "cell_type": "code",
   "execution_count": 39,
   "metadata": {
    "id": "tiMrs3FFeIFK"
   },
   "outputs": [],
   "source": [
    "def prepare_examples(examples):\n",
    "  images = examples[image_column_name] ##if you use an image path, this will need to be updated to read the image in\n",
    "  words = examples[text_column_name]\n",
    "  boxes = examples[boxes_column_name]\n",
    "  word_labels = examples[label_column_name]\n",
    "\n",
    "  encoding = processor(images, words, boxes=boxes, word_labels=word_labels,\n",
    "                       truncation=True, padding=\"max_length\")\n",
    "\n",
    "  return encoding"
   ]
  },
  {
   "cell_type": "code",
   "execution_count": 40,
   "metadata": {
    "id": "YHkC26CQelBH"
   },
   "outputs": [],
   "source": [
    "from datasets import Features, Sequence, ClassLabel, Value, Array2D, Array3D\n",
    "\n",
    "# we need to define custom features for `set_format` (used later on) to work properly\n",
    "features = Features({\n",
    "    'pixel_values': Array3D(dtype=\"float32\", shape=(3, 224, 224)),\n",
    "    'input_ids': Sequence(feature=Value(dtype='int64')),\n",
    "    'attention_mask': Sequence(Value(dtype='int64')),\n",
    "    'bbox': Array2D(dtype=\"int64\", shape=(512, 4)),\n",
    "    'labels': Sequence(feature=Value(dtype='int64')),\n",
    "})\n",
    "\n"
   ]
  },
  {
   "cell_type": "markdown",
   "metadata": {
    "id": "IpNiNFVuVTlZ"
   },
   "source": [
    "Next let's apply this to our train and eval datasets."
   ]
  },
  {
   "cell_type": "code",
   "execution_count": 41,
   "metadata": {
    "colab": {
     "base_uri": "https://localhost:8080/",
     "height": 87,
     "referenced_widgets": [
      "201b273647b242cc9f59510ad8503163",
      "1eb9f9e7d6b044aa8d084729f09bc80d",
      "988f8ab9b0c743b7bca5f65216a933d3",
      "3182275aaae7467788090925eb5021de",
      "e5f6366289c84aa7a7cfd46c4f3e6223",
      "81aeb9e0379e4c3d94c5a789f9455305",
      "d0cce13cb58f40d3b65c9102e8ba82b7",
      "ccdf0e53308d4861ab4ae023c3f05a66",
      "21c63fbabd0640adb90d86050fb909d3",
      "4947f83547894fd4bfaf326bd69132ac",
      "e3dcf762b73c4adf8a5688a731394181"
     ]
    },
    "id": "RQ31fmrnVSAm",
    "outputId": "843b517e-c895-46fb-a8b0-df807cd68c63"
   },
   "outputs": [
    {
     "name": "stderr",
     "output_type": "stream",
     "text": [
      "Loading cached processed dataset at C:\\Users\\smart\\.cache\\huggingface\\datasets\\nielsr___cord-layoutlmv3\\cord\\1.0.0\\581083d58bb5c35fdcfed4f7b36f9a8bf23acfd28e974edc7b8157c972720203\\cache-52650692649e85d1.arrow\n",
      "Loading cached processed dataset at C:\\Users\\smart\\.cache\\huggingface\\datasets\\nielsr___cord-layoutlmv3\\cord\\1.0.0\\581083d58bb5c35fdcfed4f7b36f9a8bf23acfd28e974edc7b8157c972720203\\cache-16fe0fb41fcf9c21.arrow\n"
     ]
    }
   ],
   "source": [
    "##I used this code to subset the data for building learning curves, \n",
    "# you will probably ignore this and train on all the data\n",
    "#train_sample = dataset[\"train\"].shuffle(seed=42).select(range(300))\n",
    "\n",
    "train_sample = dataset[\"train\"]\n",
    "train_dataset = train_sample.map(\n",
    "    prepare_examples,\n",
    "    batched=True,\n",
    "    remove_columns=column_names,\n",
    "    features=features,\n",
    ")\n",
    "\n",
    "eval_dataset = dataset[\"test\"].map(\n",
    "    prepare_examples,\n",
    "    batched=True,\n",
    "    remove_columns=column_names,\n",
    "    features=features,\n",
    ")"
   ]
  },
  {
   "cell_type": "markdown",
   "metadata": {
    "id": "h-hjwahaFqpk"
   },
   "source": [
    "You can see the effect of the processing on the train dataset"
   ]
  },
  {
   "cell_type": "code",
   "execution_count": 42,
   "metadata": {
    "colab": {
     "base_uri": "https://localhost:8080/"
    },
    "id": "i1PegGfOe06B",
    "outputId": "a1c7f9f9-dde3-4eb1-baf1-24e90388a19a"
   },
   "outputs": [
    {
     "data": {
      "text/plain": [
       "Dataset({\n",
       "    features: ['pixel_values', 'input_ids', 'attention_mask', 'bbox', 'labels'],\n",
       "    num_rows: 800\n",
       "})"
      ]
     },
     "execution_count": 42,
     "metadata": {},
     "output_type": "execute_result"
    }
   ],
   "source": [
    "train_dataset"
   ]
  },
  {
   "cell_type": "markdown",
   "metadata": {
    "id": "xrqqj4GzFyXE"
   },
   "source": [
    "Grab an example for helping some of the initial conditions"
   ]
  },
  {
   "cell_type": "code",
   "execution_count": 43,
   "metadata": {
    "colab": {
     "base_uri": "https://localhost:8080/",
     "height": 142
    },
    "id": "RvAN1tXafKWM",
    "outputId": "2cce8b58-7c0b-44c8-8df5-85109f39cda3"
   },
   "outputs": [
    {
     "data": {
      "text/plain": [
       "'<s> x x x x x x x x x x x x x x x x x x x x x x 1 Nasi Campur Bali 75,000 1 Bbk Bengil Nasi 125,000 1 MilkShake Starwb 37,000 1 Ice Lemon Tea 24,000 1 Nasi Ayam Dewata 70,000 3 Free Ice Tea 0 1 Organic Green Sa 65,000 1 Ice Tea 18,000 1 Ice Orange 29,000 1 Ayam Suir Bali 85,000 2 Tahu Goreng 36,000 2 Tempe Goreng 36,000 1 Tahu Telor Asin 40,000. 1 Nasi Goreng Samb 70,000 3 Bbk Panggang Sam 366,000 1 Ayam Sambal Hija 92,000 2 Hot Tea 44,000 1 Ice Kopi 32,000 1 Tahu Telor Asin 40,000 1 Free Ice Tea 0 1 Bebek Street 44,000 1 Ice Tea Tawar 18,000 Sub-Total 1,346,000 Service 100,950 PB1 144,695 Rounding -45 Grand Total 1,591,600</s><pad><pad><pad><pad><pad><pad><pad><pad><pad><pad><pad><pad><pad><pad><pad><pad><pad><pad><pad><pad><pad><pad><pad><pad><pad><pad><pad><pad><pad><pad><pad><pad><pad><pad><pad><pad><pad><pad><pad><pad><pad><pad><pad><pad><pad><pad><pad><pad><pad><pad><pad><pad><pad><pad><pad><pad><pad><pad><pad><pad><pad><pad><pad><pad><pad><pad><pad><pad><pad><pad><pad><pad><pad><pad><pad><pad><pad><pad><pad><pad><pad><pad><pad><pad><pad><pad><pad><pad><pad><pad><pad><pad><pad><pad><pad><pad><pad><pad><pad><pad><pad><pad><pad><pad><pad><pad><pad><pad><pad><pad><pad><pad><pad><pad><pad><pad><pad><pad><pad><pad><pad><pad><pad><pad><pad><pad><pad><pad><pad><pad><pad><pad><pad><pad><pad><pad><pad><pad><pad><pad><pad><pad><pad><pad><pad><pad><pad><pad><pad><pad><pad><pad><pad><pad><pad><pad><pad><pad><pad><pad><pad><pad><pad><pad><pad><pad><pad><pad><pad><pad><pad><pad><pad><pad><pad><pad><pad><pad><pad><pad><pad><pad><pad><pad><pad><pad><pad><pad><pad><pad><pad><pad><pad><pad><pad><pad><pad><pad><pad><pad><pad><pad><pad><pad><pad><pad><pad><pad><pad><pad><pad><pad><pad><pad><pad><pad><pad><pad><pad><pad><pad><pad><pad><pad><pad><pad><pad><pad><pad><pad><pad><pad><pad><pad><pad><pad><pad><pad><pad><pad><pad><pad><pad><pad><pad><pad><pad><pad><pad><pad><pad><pad><pad><pad><pad><pad><pad><pad><pad><pad><pad><pad><pad><pad><pad><pad><pad><pad><pad><pad><pad><pad><pad><pad><pad><pad><pad><pad>'"
      ]
     },
     "execution_count": 43,
     "metadata": {},
     "output_type": "execute_result"
    }
   ],
   "source": [
    "example = train_dataset[0]\n",
    "processor.tokenizer.decode(example[\"input_ids\"])"
   ]
  },
  {
   "cell_type": "markdown",
   "metadata": {
    "id": "Xa13FTcnSE-B"
   },
   "source": [
    "Next, we set the format to PyTorch."
   ]
  },
  {
   "cell_type": "code",
   "execution_count": 25,
   "metadata": {},
   "outputs": [
    {
     "name": "stdout",
     "output_type": "stream",
     "text": [
      "Defaulting to user installation because normal site-packages is not writeable\n",
      "Requirement already satisfied: torch in c:\\users\\smart\\appdata\\roaming\\python\\python39\\site-packages (1.13.1)\n",
      "Requirement already satisfied: typing-extensions in c:\\programdata\\anaconda3\\lib\\site-packages (from torch) (4.3.0)\n"
     ]
    }
   ],
   "source": [
    "!pip install torch"
   ]
  },
  {
   "cell_type": "code",
   "execution_count": 26,
   "metadata": {},
   "outputs": [
    {
     "name": "stdout",
     "output_type": "stream",
     "text": [
      "Defaulting to user installation because normal site-packages is not writeable\n",
      "Requirement already satisfied: torchvision in c:\\users\\smart\\appdata\\roaming\\python\\python39\\site-packages (0.14.1)\n",
      "Requirement already satisfied: pillow!=8.3.*,>=5.3.0 in c:\\programdata\\anaconda3\\lib\\site-packages (from torchvision) (9.2.0)\n",
      "Requirement already satisfied: numpy in c:\\programdata\\anaconda3\\lib\\site-packages (from torchvision) (1.21.5)\n",
      "Requirement already satisfied: torch==1.13.1 in c:\\users\\smart\\appdata\\roaming\\python\\python39\\site-packages (from torchvision) (1.13.1)\n",
      "Requirement already satisfied: requests in c:\\programdata\\anaconda3\\lib\\site-packages (from torchvision) (2.28.1)\n",
      "Requirement already satisfied: typing-extensions in c:\\programdata\\anaconda3\\lib\\site-packages (from torchvision) (4.3.0)\n",
      "Requirement already satisfied: certifi>=2017.4.17 in c:\\programdata\\anaconda3\\lib\\site-packages (from requests->torchvision) (2022.9.14)\n",
      "Requirement already satisfied: urllib3<1.27,>=1.21.1 in c:\\programdata\\anaconda3\\lib\\site-packages (from requests->torchvision) (1.26.11)\n",
      "Requirement already satisfied: idna<4,>=2.5 in c:\\programdata\\anaconda3\\lib\\site-packages (from requests->torchvision) (3.3)\n",
      "Requirement already satisfied: charset-normalizer<3,>=2 in c:\\programdata\\anaconda3\\lib\\site-packages (from requests->torchvision) (2.0.4)\n"
     ]
    }
   ],
   "source": [
    "!pip install torchvision"
   ]
  },
  {
   "cell_type": "code",
   "execution_count": 27,
   "metadata": {},
   "outputs": [
    {
     "name": "stdout",
     "output_type": "stream",
     "text": [
      "Defaulting to user installation because normal site-packages is not writeable\n",
      "Requirement already satisfied: torchsummary==1.5.1 in c:\\users\\smart\\appdata\\roaming\\python\\python39\\site-packages (1.5.1)\n",
      "^C\n"
     ]
    },
    {
     "name": "stderr",
     "output_type": "stream",
     "text": [
      "  ERROR: Failed to restore c:\\users\\smart\\appdata\\roaming\\python\\python39\\site-packages\\torch\\\n",
      "ERROR: Could not install packages due to an OSError: [WinError 5] Access is denied: 'C:\\\\Users\\\\smart\\\\AppData\\\\Roaming\\\\Python\\\\Python39\\\\site-packages\\\\~orch\\\\lib\\\\asmjit.dll'\n",
      "Check the permissions.\n",
      "\n"
     ]
    },
    {
     "name": "stdout",
     "output_type": "stream",
     "text": [
      "Defaulting to user installation because normal site-packages is not writeable\n",
      "Requirement already satisfied: torchtext==0.14.0 in c:\\users\\smart\\appdata\\roaming\\python\\python39\\site-packages (0.14.0)\n",
      "Collecting torch==1.13.0\n",
      "  Using cached torch-1.13.0-cp39-cp39-win_amd64.whl (167.2 MB)\n",
      "Requirement already satisfied: tqdm in c:\\programdata\\anaconda3\\lib\\site-packages (from torchtext==0.14.0) (4.64.1)\n",
      "Requirement already satisfied: numpy in c:\\programdata\\anaconda3\\lib\\site-packages (from torchtext==0.14.0) (1.21.5)\n",
      "Requirement already satisfied: requests in c:\\programdata\\anaconda3\\lib\\site-packages (from torchtext==0.14.0) (2.28.1)\n",
      "Requirement already satisfied: typing-extensions in c:\\programdata\\anaconda3\\lib\\site-packages (from torch==1.13.0->torchtext==0.14.0) (4.3.0)\n",
      "Requirement already satisfied: urllib3<1.27,>=1.21.1 in c:\\programdata\\anaconda3\\lib\\site-packages (from requests->torchtext==0.14.0) (1.26.11)\n",
      "Requirement already satisfied: idna<4,>=2.5 in c:\\programdata\\anaconda3\\lib\\site-packages (from requests->torchtext==0.14.0) (3.3)\n",
      "Requirement already satisfied: charset-normalizer<3,>=2 in c:\\programdata\\anaconda3\\lib\\site-packages (from requests->torchtext==0.14.0) (2.0.4)\n",
      "Requirement already satisfied: certifi>=2017.4.17 in c:\\programdata\\anaconda3\\lib\\site-packages (from requests->torchtext==0.14.0) (2022.9.14)\n",
      "Requirement already satisfied: colorama in c:\\programdata\\anaconda3\\lib\\site-packages (from tqdm->torchtext==0.14.0) (0.4.5)\n",
      "Installing collected packages: torch\n",
      "  Attempting uninstall: torch\n",
      "    Found existing installation: torch 1.13.1\n",
      "    Uninstalling torch-1.13.1:\n",
      "      Successfully uninstalled torch-1.13.1\n",
      "  Rolling back uninstall of torch\n",
      "  Moving to c:\\users\\smart\\appdata\\roaming\\python\\python39\\scripts\\convert-caffe2-to-onnx.exe\n",
      "   from C:\\Users\\smart\\AppData\\Local\\Temp\\pip-uninstall-w0nkdk81\\convert-caffe2-to-onnx.exe\n",
      "  Moving to c:\\users\\smart\\appdata\\roaming\\python\\python39\\scripts\\convert-onnx-to-caffe2.exe\n",
      "   from C:\\Users\\smart\\AppData\\Local\\Temp\\pip-uninstall-w0nkdk81\\convert-onnx-to-caffe2.exe\n",
      "  Moving to c:\\users\\smart\\appdata\\roaming\\python\\python39\\scripts\\torchrun.exe\n",
      "   from C:\\Users\\smart\\AppData\\Local\\Temp\\pip-uninstall-w0nkdk81\\torchrun.exe\n",
      "  Moving to c:\\users\\smart\\appdata\\roaming\\python\\python39\\site-packages\\functorch\\\n",
      "   from C:\\Users\\smart\\AppData\\Roaming\\Python\\Python39\\site-packages\\~unctorch\n",
      "  Moving to c:\\users\\smart\\appdata\\roaming\\python\\python39\\site-packages\\torch-1.13.1.dist-info\\\n",
      "   from C:\\Users\\smart\\AppData\\Roaming\\Python\\Python39\\site-packages\\~orch-1.13.1.dist-info\n",
      "  Moving to c:\\users\\smart\\appdata\\roaming\\python\\python39\\site-packages\\torch\\\n",
      "   from C:\\Users\\smart\\AppData\\Roaming\\Python\\Python39\\site-packages\\~orch\n",
      "  Moving to c:\\users\\smart\\appdata\\roaming\\python\\python39\\site-packages\\torchgen\\\n",
      "   from C:\\Users\\smart\\AppData\\Roaming\\Python\\Python39\\site-packages\\~orchgen\n",
      "Defaulting to user installation because normal site-packages is not writeable\n",
      "Requirement already satisfied: torchaudio in c:\\users\\smart\\appdata\\roaming\\python\\python39\\site-packages (0.13.1)\n",
      "Collecting torch==1.13.1\n",
      "  Using cached torch-1.13.1-cp39-cp39-win_amd64.whl (162.5 MB)\n",
      "Requirement already satisfied: typing-extensions in c:\\programdata\\anaconda3\\lib\\site-packages (from torch==1.13.1->torchaudio) (4.3.0)\n",
      "Installing collected packages: torch\n",
      "  Attempting uninstall: torch\n",
      "    Found existing installation: torch 1.13.0\n",
      "    Uninstalling torch-1.13.0:\n",
      "      Successfully uninstalled torch-1.13.0\n",
      "Successfully installed torch-1.13.1\n"
     ]
    },
    {
     "name": "stderr",
     "output_type": "stream",
     "text": [
      "WARNING: Ignoring invalid distribution -orch (c:\\users\\smart\\appdata\\roaming\\python\\python39\\site-packages)\n",
      "WARNING: Ignoring invalid distribution -orch (c:\\users\\smart\\appdata\\roaming\\python\\python39\\site-packages)\n",
      "WARNING: Ignoring invalid distribution -orch (c:\\users\\smart\\appdata\\roaming\\python\\python39\\site-packages)\n",
      "    WARNING: Ignoring invalid distribution -orch (c:\\users\\smart\\appdata\\roaming\\python\\python39\\site-packages)\n",
      "  WARNING: The scripts convert-caffe2-to-onnx.exe, convert-onnx-to-caffe2.exe and torchrun.exe are installed in 'C:\\Users\\smart\\AppData\\Roaming\\Python\\Python39\\Scripts' which is not on PATH.\n",
      "  Consider adding this directory to PATH or, if you prefer to suppress this warning, use --no-warn-script-location.\n",
      "ERROR: pip's dependency resolver does not currently take into account all the packages that are installed. This behaviour is the source of the following dependency conflicts.\n",
      "torchtext 0.14.0 requires torch==1.13.0, but you have torch 1.13.1 which is incompatible.\n",
      "WARNING: Ignoring invalid distribution -orch (c:\\users\\smart\\appdata\\roaming\\python\\python39\\site-packages)\n",
      "WARNING: Ignoring invalid distribution -orch (c:\\users\\smart\\appdata\\roaming\\python\\python39\\site-packages)\n",
      "WARNING: Ignoring invalid distribution -orch (c:\\users\\smart\\appdata\\roaming\\python\\python39\\site-packages)\n"
     ]
    }
   ],
   "source": [
    "!pip install torchsummary==1.5.1\n",
    "!pip install torchtext==0.14.0\n",
    "!pip install torchaudio"
   ]
  },
  {
   "cell_type": "code",
   "execution_count": 44,
   "metadata": {},
   "outputs": [],
   "source": [
    "import torch"
   ]
  },
  {
   "cell_type": "code",
   "execution_count": 45,
   "metadata": {
    "id": "-YvpsU8vfp4j"
   },
   "outputs": [],
   "source": [
    "train_dataset.set_format(\"torch\")"
   ]
  },
  {
   "cell_type": "markdown",
   "metadata": {
    "id": "8PQ0kcdrSI8P"
   },
   "source": [
    "Let's verify that everything was created properly:"
   ]
  },
  {
   "cell_type": "code",
   "execution_count": 46,
   "metadata": {
    "colab": {
     "base_uri": "https://localhost:8080/"
    },
    "id": "FHOf2cuJfw7B",
    "outputId": "b905ae95-279e-4f17-e768-319e68d0da7b"
   },
   "outputs": [
    {
     "name": "stdout",
     "output_type": "stream",
     "text": [
      "pixel_values torch.Size([3, 224, 224])\n",
      "input_ids torch.Size([512])\n",
      "attention_mask torch.Size([512])\n",
      "bbox torch.Size([512, 4])\n",
      "labels torch.Size([512])\n"
     ]
    }
   ],
   "source": [
    "import torch\n",
    "\n",
    "example = train_dataset[0]\n",
    "for k,v in example.items():\n",
    "    print(k,v.shape)"
   ]
  },
  {
   "cell_type": "markdown",
   "metadata": {
    "id": "sbuC41BRUo6T"
   },
   "source": [
    "## Define metrics\n",
    "\n",
    "Next, we define a `compute_metrics` function, which is used by the Trainer to ... compute metrics.\n",
    "\n",
    "This function should take a named tuple as input, and return a dictionary as output as stated in the [docs](https://huggingface.co/docs/transformers/main_classes/trainer)."
   ]
  },
  {
   "cell_type": "code",
   "execution_count": 47,
   "metadata": {
    "id": "vwP-I1s7Us0s"
   },
   "outputs": [],
   "source": [
    "from datasets import load_metric\n",
    "\n",
    "metric = load_metric(\"seqeval\")"
   ]
  },
  {
   "cell_type": "code",
   "execution_count": 48,
   "metadata": {
    "id": "VLiCLF9k3i4j"
   },
   "outputs": [],
   "source": [
    "import numpy as np\n",
    "\n",
    "return_entity_level_metrics = False\n",
    "\n",
    "def compute_metrics(p):\n",
    "    predictions, labels = p\n",
    "    predictions = np.argmax(predictions, axis=2)\n",
    "\n",
    "    # Remove ignored index (special tokens)\n",
    "    true_predictions = [\n",
    "        [label_list[p] for (p, l) in zip(prediction, label) if l != -100]\n",
    "        for prediction, label in zip(predictions, labels)\n",
    "    ]\n",
    "    true_labels = [\n",
    "        [label_list[l] for (p, l) in zip(prediction, label) if l != -100]\n",
    "        for prediction, label in zip(predictions, labels)\n",
    "    ]\n",
    "\n",
    "    results = metric.compute(predictions=true_predictions, references=true_labels)\n",
    "    if return_entity_level_metrics:\n",
    "        # Unpack nested dictionaries\n",
    "        final_results = {}\n",
    "        for key, value in results.items():\n",
    "            if isinstance(value, dict):\n",
    "                for n, v in value.items():\n",
    "                    final_results[f\"{key}_{n}\"] = v\n",
    "            else:\n",
    "                final_results[key] = value\n",
    "        return final_results\n",
    "    else:\n",
    "        return {\n",
    "            \"precision\": results[\"overall_precision\"],\n",
    "            \"recall\": results[\"overall_recall\"],\n",
    "            \"f1\": results[\"overall_f1\"],\n",
    "            \"accuracy\": results[\"overall_accuracy\"],\n",
    "        }"
   ]
  },
  {
   "cell_type": "markdown",
   "metadata": {
    "id": "DP2UUjvA4j-A"
   },
   "source": [
    "## Define the model\n",
    "\n",
    "Next we define the model: this is a Transformer encoder with pre-trained weights, and a randomly initialized head on top for token classification."
   ]
  },
  {
   "cell_type": "code",
   "execution_count": 49,
   "metadata": {
    "colab": {
     "base_uri": "https://localhost:8080/"
    },
    "id": "BxUZi7R-395P",
    "outputId": "d2f3598c-d76e-485b-f7b2-6ebd56bc07d9"
   },
   "outputs": [
    {
     "name": "stderr",
     "output_type": "stream",
     "text": [
      "loading configuration file config.json from cache at C:\\Users\\smart/.cache\\huggingface\\hub\\models--microsoft--layoutlmv3-base\\snapshots\\07c9b0838ccc7b49f4c284ccc96113d1dc527ff4\\config.json\n",
      "Model config LayoutLMv3Config {\n",
      "  \"attention_probs_dropout_prob\": 0.1,\n",
      "  \"bos_token_id\": 0,\n",
      "  \"classifier_dropout\": null,\n",
      "  \"coordinate_size\": 128,\n",
      "  \"eos_token_id\": 2,\n",
      "  \"has_relative_attention_bias\": true,\n",
      "  \"has_spatial_attention_bias\": true,\n",
      "  \"hidden_act\": \"gelu\",\n",
      "  \"hidden_dropout_prob\": 0.1,\n",
      "  \"hidden_size\": 768,\n",
      "  \"id2label\": {\n",
      "    \"0\": \"O\",\n",
      "    \"1\": \"B-MENU.NM\",\n",
      "    \"2\": \"B-MENU.NUM\",\n",
      "    \"3\": \"B-MENU.UNITPRICE\",\n",
      "    \"4\": \"B-MENU.CNT\",\n",
      "    \"5\": \"B-MENU.DISCOUNTPRICE\",\n",
      "    \"6\": \"B-MENU.PRICE\",\n",
      "    \"7\": \"B-MENU.ITEMSUBTOTAL\",\n",
      "    \"8\": \"B-MENU.VATYN\",\n",
      "    \"9\": \"B-MENU.ETC\",\n",
      "    \"10\": \"B-MENU.SUB_NM\",\n",
      "    \"11\": \"B-MENU.SUB_UNITPRICE\",\n",
      "    \"12\": \"B-MENU.SUB_CNT\",\n",
      "    \"13\": \"B-MENU.SUB_PRICE\",\n",
      "    \"14\": \"B-MENU.SUB_ETC\",\n",
      "    \"15\": \"B-VOID_MENU.NM\",\n",
      "    \"16\": \"B-VOID_MENU.PRICE\",\n",
      "    \"17\": \"B-SUB_TOTAL.SUBTOTAL_PRICE\",\n",
      "    \"18\": \"B-SUB_TOTAL.DISCOUNT_PRICE\",\n",
      "    \"19\": \"B-SUB_TOTAL.SERVICE_PRICE\",\n",
      "    \"20\": \"B-SUB_TOTAL.OTHERSVC_PRICE\",\n",
      "    \"21\": \"B-SUB_TOTAL.TAX_PRICE\",\n",
      "    \"22\": \"B-SUB_TOTAL.ETC\",\n",
      "    \"23\": \"B-TOTAL.TOTAL_PRICE\",\n",
      "    \"24\": \"B-TOTAL.TOTAL_ETC\",\n",
      "    \"25\": \"B-TOTAL.CASHPRICE\",\n",
      "    \"26\": \"B-TOTAL.CHANGEPRICE\",\n",
      "    \"27\": \"B-TOTAL.CREDITCARDPRICE\",\n",
      "    \"28\": \"B-TOTAL.EMONEYPRICE\",\n",
      "    \"29\": \"B-TOTAL.MENUTYPE_CNT\",\n",
      "    \"30\": \"B-TOTAL.MENUQTY_CNT\",\n",
      "    \"31\": \"I-MENU.NM\",\n",
      "    \"32\": \"I-MENU.NUM\",\n",
      "    \"33\": \"I-MENU.UNITPRICE\",\n",
      "    \"34\": \"I-MENU.CNT\",\n",
      "    \"35\": \"I-MENU.DISCOUNTPRICE\",\n",
      "    \"36\": \"I-MENU.PRICE\",\n",
      "    \"37\": \"I-MENU.ITEMSUBTOTAL\",\n",
      "    \"38\": \"I-MENU.VATYN\",\n",
      "    \"39\": \"I-MENU.ETC\",\n",
      "    \"40\": \"I-MENU.SUB_NM\",\n",
      "    \"41\": \"I-MENU.SUB_UNITPRICE\",\n",
      "    \"42\": \"I-MENU.SUB_CNT\",\n",
      "    \"43\": \"I-MENU.SUB_PRICE\",\n",
      "    \"44\": \"I-MENU.SUB_ETC\",\n",
      "    \"45\": \"I-VOID_MENU.NM\",\n",
      "    \"46\": \"I-VOID_MENU.PRICE\",\n",
      "    \"47\": \"I-SUB_TOTAL.SUBTOTAL_PRICE\",\n",
      "    \"48\": \"I-SUB_TOTAL.DISCOUNT_PRICE\",\n",
      "    \"49\": \"I-SUB_TOTAL.SERVICE_PRICE\",\n",
      "    \"50\": \"I-SUB_TOTAL.OTHERSVC_PRICE\",\n",
      "    \"51\": \"I-SUB_TOTAL.TAX_PRICE\",\n",
      "    \"52\": \"I-SUB_TOTAL.ETC\",\n",
      "    \"53\": \"I-TOTAL.TOTAL_PRICE\",\n",
      "    \"54\": \"I-TOTAL.TOTAL_ETC\",\n",
      "    \"55\": \"I-TOTAL.CASHPRICE\",\n",
      "    \"56\": \"I-TOTAL.CHANGEPRICE\",\n",
      "    \"57\": \"I-TOTAL.CREDITCARDPRICE\",\n",
      "    \"58\": \"I-TOTAL.EMONEYPRICE\",\n",
      "    \"59\": \"I-TOTAL.MENUTYPE_CNT\",\n",
      "    \"60\": \"I-TOTAL.MENUQTY_CNT\"\n",
      "  },\n",
      "  \"initializer_range\": 0.02,\n",
      "  \"input_size\": 224,\n",
      "  \"intermediate_size\": 3072,\n",
      "  \"label2id\": {\n",
      "    \"B-MENU.CNT\": 4,\n",
      "    \"B-MENU.DISCOUNTPRICE\": 5,\n",
      "    \"B-MENU.ETC\": 9,\n",
      "    \"B-MENU.ITEMSUBTOTAL\": 7,\n",
      "    \"B-MENU.NM\": 1,\n",
      "    \"B-MENU.NUM\": 2,\n",
      "    \"B-MENU.PRICE\": 6,\n",
      "    \"B-MENU.SUB_CNT\": 12,\n",
      "    \"B-MENU.SUB_ETC\": 14,\n",
      "    \"B-MENU.SUB_NM\": 10,\n",
      "    \"B-MENU.SUB_PRICE\": 13,\n",
      "    \"B-MENU.SUB_UNITPRICE\": 11,\n",
      "    \"B-MENU.UNITPRICE\": 3,\n",
      "    \"B-MENU.VATYN\": 8,\n",
      "    \"B-SUB_TOTAL.DISCOUNT_PRICE\": 18,\n",
      "    \"B-SUB_TOTAL.ETC\": 22,\n",
      "    \"B-SUB_TOTAL.OTHERSVC_PRICE\": 20,\n",
      "    \"B-SUB_TOTAL.SERVICE_PRICE\": 19,\n",
      "    \"B-SUB_TOTAL.SUBTOTAL_PRICE\": 17,\n",
      "    \"B-SUB_TOTAL.TAX_PRICE\": 21,\n",
      "    \"B-TOTAL.CASHPRICE\": 25,\n",
      "    \"B-TOTAL.CHANGEPRICE\": 26,\n",
      "    \"B-TOTAL.CREDITCARDPRICE\": 27,\n",
      "    \"B-TOTAL.EMONEYPRICE\": 28,\n",
      "    \"B-TOTAL.MENUQTY_CNT\": 30,\n",
      "    \"B-TOTAL.MENUTYPE_CNT\": 29,\n",
      "    \"B-TOTAL.TOTAL_ETC\": 24,\n",
      "    \"B-TOTAL.TOTAL_PRICE\": 23,\n",
      "    \"B-VOID_MENU.NM\": 15,\n",
      "    \"B-VOID_MENU.PRICE\": 16,\n",
      "    \"I-MENU.CNT\": 34,\n",
      "    \"I-MENU.DISCOUNTPRICE\": 35,\n",
      "    \"I-MENU.ETC\": 39,\n",
      "    \"I-MENU.ITEMSUBTOTAL\": 37,\n",
      "    \"I-MENU.NM\": 31,\n",
      "    \"I-MENU.NUM\": 32,\n",
      "    \"I-MENU.PRICE\": 36,\n",
      "    \"I-MENU.SUB_CNT\": 42,\n",
      "    \"I-MENU.SUB_ETC\": 44,\n",
      "    \"I-MENU.SUB_NM\": 40,\n",
      "    \"I-MENU.SUB_PRICE\": 43,\n",
      "    \"I-MENU.SUB_UNITPRICE\": 41,\n",
      "    \"I-MENU.UNITPRICE\": 33,\n",
      "    \"I-MENU.VATYN\": 38,\n",
      "    \"I-SUB_TOTAL.DISCOUNT_PRICE\": 48,\n",
      "    \"I-SUB_TOTAL.ETC\": 52,\n",
      "    \"I-SUB_TOTAL.OTHERSVC_PRICE\": 50,\n",
      "    \"I-SUB_TOTAL.SERVICE_PRICE\": 49,\n",
      "    \"I-SUB_TOTAL.SUBTOTAL_PRICE\": 47,\n",
      "    \"I-SUB_TOTAL.TAX_PRICE\": 51,\n",
      "    \"I-TOTAL.CASHPRICE\": 55,\n",
      "    \"I-TOTAL.CHANGEPRICE\": 56,\n",
      "    \"I-TOTAL.CREDITCARDPRICE\": 57,\n",
      "    \"I-TOTAL.EMONEYPRICE\": 58,\n",
      "    \"I-TOTAL.MENUQTY_CNT\": 60,\n",
      "    \"I-TOTAL.MENUTYPE_CNT\": 59,\n",
      "    \"I-TOTAL.TOTAL_ETC\": 54,\n",
      "    \"I-TOTAL.TOTAL_PRICE\": 53,\n",
      "    \"I-VOID_MENU.NM\": 45,\n",
      "    \"I-VOID_MENU.PRICE\": 46,\n",
      "    \"O\": 0\n",
      "  },\n",
      "  \"layer_norm_eps\": 1e-05,\n",
      "  \"max_2d_position_embeddings\": 1024,\n",
      "  \"max_position_embeddings\": 514,\n",
      "  \"max_rel_2d_pos\": 256,\n",
      "  \"max_rel_pos\": 128,\n",
      "  \"model_type\": \"layoutlmv3\",\n",
      "  \"num_attention_heads\": 12,\n",
      "  \"num_channels\": 3,\n",
      "  \"num_hidden_layers\": 12,\n",
      "  \"pad_token_id\": 1,\n",
      "  \"patch_size\": 16,\n",
      "  \"rel_2d_pos_bins\": 64,\n",
      "  \"rel_pos_bins\": 32,\n",
      "  \"second_input_size\": 112,\n",
      "  \"shape_size\": 128,\n",
      "  \"text_embed\": true,\n",
      "  \"torch_dtype\": \"float32\",\n",
      "  \"transformers_version\": \"4.25.1\",\n",
      "  \"type_vocab_size\": 1,\n",
      "  \"visual_embed\": true,\n",
      "  \"vocab_size\": 50265\n",
      "}\n",
      "\n",
      "loading weights file pytorch_model.bin from cache at C:\\Users\\smart/.cache\\huggingface\\hub\\models--microsoft--layoutlmv3-base\\snapshots\\07c9b0838ccc7b49f4c284ccc96113d1dc527ff4\\pytorch_model.bin\n",
      "All model checkpoint weights were used when initializing LayoutLMv3ForTokenClassification.\n",
      "\n",
      "Some weights of LayoutLMv3ForTokenClassification were not initialized from the model checkpoint at microsoft/layoutlmv3-base and are newly initialized: ['classifier.out_proj.weight', 'classifier.dense.bias', 'classifier.dense.weight', 'classifier.out_proj.bias']\n",
      "You should probably TRAIN this model on a down-stream task to be able to use it for predictions and inference.\n"
     ]
    }
   ],
   "source": [
    "from transformers import LayoutLMv3ForTokenClassification\n",
    "\n",
    "model = LayoutLMv3ForTokenClassification.from_pretrained(\"microsoft/layoutlmv3-base\",\n",
    "                                                         id2label=id2label,\n",
    "                                                         label2id=label2id)"
   ]
  },
  {
   "cell_type": "markdown",
   "metadata": {
    "id": "KjGxK1WnZ6In"
   },
   "source": [
    "## Define TrainingArguments + Trainer\n",
    "\n",
    "Next we define the `TrainingArguments`, which define all hyperparameters related to training. Note that there is a huge amount of parameters to tweak, check the [docs](https://huggingface.co/docs/transformers/main_classes/trainer#transformers.TrainingArguments) for more info.\n",
    "The training arguments I set here:\n",
    "- max steps for how long I thought it would take to train - you may need more steps\n",
    "- batch_size was tweaked based on GPU memory\n",
    "- push to hub was set to save my model to the hugging face hub\n",
    "- evaluation strategy, steps was set to periodically evaluate the model\n",
    "- metric for best model was to save the best checkpoint model based on accuracy"
   ]
  },
  {
   "cell_type": "code",
   "execution_count": 50,
   "metadata": {
    "colab": {
     "base_uri": "https://localhost:8080/"
    },
    "id": "AFdXJ3ZDU6yg",
    "outputId": "7edc9cf2-244b-40bc-ab4a-8970fc6d5e4d"
   },
   "outputs": [
    {
     "name": "stderr",
     "output_type": "stream",
     "text": [
      "PyTorch: setting up devices\n",
      "The default value for the training argument `--report_to` will change in v5 (from all installed integrations to none). In v5, you will need to use `--report_to all` to get the same behavior as now. You should start updating your code and make this info disappear :-).\n"
     ]
    }
   ],
   "source": [
    "from transformers import TrainingArguments, Trainer\n",
    "\n",
    "training_args = TrainingArguments(output_dir=\"layoutlmv3-finetuned-cord_100\",\n",
    "                                  max_steps=2750,\n",
    "                                  per_device_train_batch_size=5,\n",
    "                                  per_device_eval_batch_size=5,\n",
    "                                  push_to_hub=False,  # after training, we'd like to push our model to the hub\n",
    "#                                   push_to_hub_model_id=f\"layoutlmv3-finetuned-cord_100\", \n",
    "                                  learning_rate=1e-5,\n",
    "                                  evaluation_strategy=\"steps\",\n",
    "                                  eval_steps=250,\n",
    "                                  load_best_model_at_end=True,\n",
    "                                  metric_for_best_model=\"accuracy\")"
   ]
  },
  {
   "cell_type": "markdown",
   "metadata": {
    "id": "4eUBPS4DT6jO"
   },
   "source": [
    "We can now instantiate a Trainer, with the model and args defined above. We also provide our datasets, as well as a \"default data collator\" - which will batch the examples using `torch.stack`. We also provide our `compute_metrics` function defined above."
   ]
  },
  {
   "cell_type": "code",
   "execution_count": 51,
   "metadata": {
    "colab": {
     "base_uri": "https://localhost:8080/",
     "height": 326,
     "referenced_widgets": [
      "a80258d4b5c444eb8648670ec1df4d08",
      "6451aaa1d34840558311332c6936e5e9",
      "64b1245ffe344feda733cd03ede4548b",
      "ff427b0e7d864a3f8c840c4e5f2b081c",
      "1062ccf439eb4ba096f0ee9994ebf50b",
      "192aa76752744c339a6328cf44fd376d",
      "e2cad7d5e2ab4524acca4ab0f282f411",
      "8aefbd9951674a728a19a2bbfc67acc3",
      "2b9173f517cd41cabec05563fbaacbdc",
      "41a3974022b74755810fee6bc5f8245a",
      "01215ef9aa9a448896d7fa636c04e610",
      "050bcc7b49df4a5089656917ce977f6b",
      "9f77f8f2d8544b7292b2a8cdcbd92def",
      "fcb6a9fc322b494fbd1c92e140dc8ffa",
      "f20a635648d3446bbc7b4efca9168056",
      "4162f86b8aeb428787513afcd0185439",
      "25be8cfd39f54cab9fa6a580930e8d34",
      "586ecb1fcac347d6b73175d82bd83881",
      "1ce43d76bd7a4b519fcb81b3461febbc",
      "90b39803f44a4ee5ac31b50c1de55a77",
      "8095a7edb8464e0a8715ac5b20932045",
      "05d20899e931479189c15077da8636c1",
      "8c0e8e20e5914611ba6894beb76c39b0",
      "97ad29832a194dedaee6f4c927b0ccb3",
      "ac5ec11d3b6b47c998cc62e4c0b138b4",
      "b0e86b917c204acc8062d3c3138ddde2",
      "bb39c76f3f8c437f9f4893cf520b5a36",
      "012e5aff874a425cb57e935a024c16d8",
      "3f7af71a2dfc4f5ab6717199af239f6b",
      "22ea8c577d0545d884f35be1c01ef54c",
      "e2da275964914574b609a9ccc4461774",
      "f83496aa040f4c65bbc721c78a8014e2",
      "5483958a17ab4b1599519e02d9d883d7",
      "d56ddcb58c97452a9c34fca0aaf7e28f",
      "c5c687f773ad4f049932c962c24cf9bd",
      "a602bfc49e6d4443a1a3f610972d6d18",
      "f18421f9f6a24acf9b9de37f58e02762",
      "5b48a388ed03431c90e94c87c1bbc6cc",
      "572c9359c3314395a3ff1875edeb6e75",
      "f9f395c034874fcf84670e3da2081eff",
      "948ae945f5d54e73ac51c52b3fa3ca20",
      "00a6158dd0734176ab4fbaa22f000c4d",
      "0f73533104bb4f6891d14a223fda81c9",
      "acf253aa34e942909f932b5a047da7f6",
      "fa25fc4fea33404c973f5252a098c94d",
      "e3d674ab20454d81a580a60de93c2ca8",
      "91a14992ca7a4eaaac8fa0b9fdf3b2ba",
      "f80390eb06774fc58a5cb474391d1cd9",
      "8d01c01d3f724a0abdcf810d653fbb47",
      "3a2d1d8e69bf4ee3adbe7010bd6e2641",
      "43396155f1f34ae48b4fb484b7fd94f5",
      "d1cd5827f3024123a7dcc541bab5b1d5",
      "d6a692b3fe9748be97fb53de078171a2",
      "14754f13fc4f415a81f022712d05b1cc",
      "7ef1ec85843d44618e3e2a35ea561dda",
      "1c82e6657e814a81aa6e739eb2ac7ed4",
      "d5aa4ada14db49128d97f6ac16b936ec",
      "9acf8a69f7c8400c92047e598ba3d6bf",
      "bbaeebc74b9e44dd8f1d0949ad0f89bd",
      "9cdb091c837a4fb78c8ebb98cf99e725",
      "5ebb373afee243a2844e76784af852a0",
      "8b33bf80ba1f458c84296f3783535eea",
      "449000bc2b6045d6accdc035b555a092",
      "75dba0f1c3144d909e40abe2976cf557",
      "b0755cdd81f24d499bfed0a75efb5eb0",
      "61dcf4be831446cf9e189140710ec372",
      "ba37f009f3144beab3432cbeadcfe561",
      "a968c9602d9849b0b9f97fe3483678af",
      "ddb484737ca44e79a4f720ca31653475",
      "f48452d7b37e4d65ae1fb6fae8a343ed",
      "52f59a3719844d66a33ddf58db1ccbda",
      "12edb07679314a94bb06e672dff13043",
      "ea60a2c5049b465d8639fcd7ae1dda13",
      "95d9e9bbb5c94dc694ebfc61cade4ba1",
      "998f9e9f80304455bcb62fdd77e34399",
      "0533b93e812f481c91a8e323c2449d54",
      "373461c6d53546299eae27670bf1f574",
      "ad10b40d50f645c38d3f94884fb408fd",
      "3a08472bfac94d4b8bc6731920d61a18",
      "ed659e933604481eb239fb0764acfa5c",
      "055cb325a5d3432ba6441186849d948e",
      "82c18c4d92f44521a57febfc04c04127",
      "6ba07dc58a2e43c0a089b79bc332a039",
      "7c8691d433a04a7e9592c9bb25790a72",
      "b786b789288f45f1a436fef86f72ac8e",
      "85e1385150bb4175b55a9c8921dba7b5",
      "0a0b5fad276d4b8b92a9d646a9cc6bbd",
      "69b0321e2b99428dbcba673e41ce102b"
     ]
    },
    "id": "B92MlZapU4Qc",
    "outputId": "e42e6ea0-50d8-48b7-baba-47b8dd4bb075"
   },
   "outputs": [
    {
     "name": "stderr",
     "output_type": "stream",
     "text": [
      "max_steps is given, it will override any value given in num_train_epochs\n"
     ]
    }
   ],
   "source": [
    "from transformers.data.data_collator import default_data_collator\n",
    "\n",
    "# Initialize our Trainer\n",
    "trainer = Trainer(\n",
    "    model=model,\n",
    "    args=training_args,\n",
    "    train_dataset=train_dataset,\n",
    "    eval_dataset=eval_dataset,\n",
    "    tokenizer=processor,\n",
    "    data_collator=default_data_collator,\n",
    "    compute_metrics=compute_metrics,\n",
    ")"
   ]
  },
  {
   "cell_type": "markdown",
   "metadata": {
    "id": "NTLQnEtY4rx6"
   },
   "source": [
    "## Train the model\n",
    "\n",
    "Let's train!"
   ]
  },
  {
   "cell_type": "code",
   "execution_count": null,
   "metadata": {
    "colab": {
     "base_uri": "https://localhost:8080/",
     "height": 712
    },
    "id": "cqcq7rzlVDOE",
    "outputId": "d3081a05-1b94-4800-88f8-2480abb40deb"
   },
   "outputs": [
    {
     "name": "stderr",
     "output_type": "stream",
     "text": [
      "C:\\Users\\smart\\AppData\\Roaming\\Python\\Python39\\site-packages\\transformers\\optimization.py:306: FutureWarning: This implementation of AdamW is deprecated and will be removed in a future version. Use the PyTorch implementation torch.optim.AdamW instead, or set `no_deprecation_warning=True` to disable this warning\n",
      "  warnings.warn(\n",
      "***** Running training *****\n",
      "  Num examples = 800\n",
      "  Num Epochs = 18\n",
      "  Instantaneous batch size per device = 5\n",
      "  Total train batch size (w. parallel, distributed & accumulation) = 5\n",
      "  Gradient Accumulation steps = 1\n",
      "  Total optimization steps = 2750\n",
      "  Number of trainable parameters = 125964477\n",
      "C:\\Users\\smart\\AppData\\Roaming\\Python\\Python39\\site-packages\\transformers\\modeling_utils.py:768: FutureWarning: The `device` argument is deprecated and will be removed in v5 of Transformers.\n",
      "  warnings.warn(\n"
     ]
    },
    {
     "data": {
      "text/html": [
       "\n",
       "    <div>\n",
       "      \n",
       "      <progress value='304' max='2750' style='width:300px; height:20px; vertical-align: middle;'></progress>\n",
       "      [ 304/2750 1:49:28 < 14:46:43, 0.05 it/s, Epoch 1.89/18]\n",
       "    </div>\n",
       "    <table border=\"1\" class=\"dataframe\">\n",
       "  <thead>\n",
       " <tr style=\"text-align: left;\">\n",
       "      <th>Step</th>\n",
       "      <th>Training Loss</th>\n",
       "      <th>Validation Loss</th>\n",
       "      <th>Precision</th>\n",
       "      <th>Recall</th>\n",
       "      <th>F1</th>\n",
       "      <th>Accuracy</th>\n",
       "    </tr>\n",
       "  </thead>\n",
       "  <tbody>\n",
       "    <tr>\n",
       "      <td>250</td>\n",
       "      <td>No log</td>\n",
       "      <td>0.976660</td>\n",
       "      <td>0.795389</td>\n",
       "      <td>0.826347</td>\n",
       "      <td>0.810573</td>\n",
       "      <td>0.823005</td>\n",
       "    </tr>\n",
       "  </tbody>\n",
       "</table><p>"
      ],
      "text/plain": [
       "<IPython.core.display.HTML object>"
      ]
     },
     "metadata": {},
     "output_type": "display_data"
    },
    {
     "name": "stderr",
     "output_type": "stream",
     "text": [
      "***** Running Evaluation *****\n",
      "  Num examples = 100\n",
      "  Batch size = 5\n",
      "C:\\Users\\smart\\AppData\\Roaming\\Python\\Python39\\site-packages\\seqeval\\metrics\\v1.py:57: UndefinedMetricWarning: Precision and F-score are ill-defined and being set to 0.0 in labels with no predicted samples. Use `zero_division` parameter to control this behavior.\n",
      "  _warn_prf(average, modifier, msg_start, len(result))\n"
     ]
    }
   ],
   "source": [
    "trainer.train()\n",
    "trainer.save_model(\"./master_layout_LM\")"
   ]
  },
  {
   "cell_type": "markdown",
   "metadata": {
    "id": "QdFN655lG6V4"
   },
   "source": [
    "Let's push the final model to the hub"
   ]
  },
  {
   "cell_type": "code",
   "execution_count": 30,
   "metadata": {},
   "outputs": [
    {
     "name": "stderr",
     "output_type": "stream",
     "text": [
      "Saving model checkpoint to ./layout_1\n",
      "Configuration saved in ./layout_1\\config.json\n",
      "Model weights saved in ./layout_1\\pytorch_model.bin\n",
      "Image processor saved in ./layout_1\\preprocessor_config.json\n",
      "tokenizer config file saved in ./layout_1\\tokenizer_config.json\n",
      "Special tokens file saved in ./layout_1\\special_tokens_map.json\n",
      "Saving model checkpoint to layoutlmv3-finetuned-cord_100\n",
      "Configuration saved in layoutlmv3-finetuned-cord_100\\config.json\n",
      "Model weights saved in layoutlmv3-finetuned-cord_100\\pytorch_model.bin\n",
      "Image processor saved in layoutlmv3-finetuned-cord_100\\preprocessor_config.json\n",
      "tokenizer config file saved in layoutlmv3-finetuned-cord_100\\tokenizer_config.json\n",
      "Special tokens file saved in layoutlmv3-finetuned-cord_100\\special_tokens_map.json\n"
     ]
    }
   ],
   "source": [
    " trainer.save_model(\"./layout_1\")"
   ]
  },
  {
   "cell_type": "code",
   "execution_count": 28,
   "metadata": {
    "id": "9aYgMHW-seOp",
    "scrolled": true
   },
   "outputs": [
    {
     "name": "stderr",
     "output_type": "stream",
     "text": [
      "Saving model checkpoint to layoutlmv3-finetuned-cord_100\n",
      "Configuration saved in layoutlmv3-finetuned-cord_100\\config.json\n",
      "Model weights saved in layoutlmv3-finetuned-cord_100\\pytorch_model.bin\n",
      "Image processor saved in layoutlmv3-finetuned-cord_100\\preprocessor_config.json\n",
      "tokenizer config file saved in layoutlmv3-finetuned-cord_100\\tokenizer_config.json\n",
      "Special tokens file saved in layoutlmv3-finetuned-cord_100\\special_tokens_map.json\n",
      "Several commits (6) will be pushed upstream.\n",
      "The progress bars may be unreliable.\n"
     ]
    },
    {
     "data": {
      "application/vnd.jupyter.widget-view+json": {
       "model_id": "64bd0a8d1cda4c2fb4e973238c554628",
       "version_major": 2,
       "version_minor": 0
      },
      "text/plain": [
       "Upload file pytorch_model.bin:   0%|          | 32.0k/481M [00:00<?, ?B/s]"
      ]
     },
     "metadata": {},
     "output_type": "display_data"
    },
    {
     "data": {
      "application/vnd.jupyter.widget-view+json": {
       "model_id": "e7ea2442dd4f4a19a8c38c1f924b43e5",
       "version_major": 2,
       "version_minor": 0
      },
      "text/plain": [
       "Upload file runs/Jan08_12-50-18_DESKTOP-9S60VAS/events.out.tfevents.1673162475.DESKTOP-9S60VAS.12124.0: 100%|#…"
      ]
     },
     "metadata": {},
     "output_type": "display_data"
    },
    {
     "ename": "KeyboardInterrupt",
     "evalue": "",
     "output_type": "error",
     "traceback": [
      "\u001b[1;31m---------------------------------------------------------------------------\u001b[0m",
      "\u001b[1;31mKeyboardInterrupt\u001b[0m                         Traceback (most recent call last)",
      "\u001b[1;32m~\\AppData\\Local\\Temp\\ipykernel_12124\\1903947901.py\u001b[0m in \u001b[0;36m<module>\u001b[1;34m\u001b[0m\n\u001b[1;32m----> 1\u001b[1;33m \u001b[0mtrainer\u001b[0m\u001b[1;33m.\u001b[0m\u001b[0mpush_to_hub\u001b[0m\u001b[1;33m(\u001b[0m\u001b[1;34m\"layoutlmv3-finetuned-cord_100\"\u001b[0m\u001b[1;33m)\u001b[0m\u001b[1;33m\u001b[0m\u001b[1;33m\u001b[0m\u001b[0m\n\u001b[0m",
      "\u001b[1;32m~\\AppData\\Roaming\\Python\\Python39\\site-packages\\transformers\\trainer.py\u001b[0m in \u001b[0;36mpush_to_hub\u001b[1;34m(self, commit_message, blocking, **kwargs)\u001b[0m\n\u001b[0;32m   3476\u001b[0m             \u001b[0mself\u001b[0m\u001b[1;33m.\u001b[0m\u001b[0mpush_in_progress\u001b[0m \u001b[1;33m=\u001b[0m \u001b[1;32mNone\u001b[0m\u001b[1;33m\u001b[0m\u001b[1;33m\u001b[0m\u001b[0m\n\u001b[0;32m   3477\u001b[0m \u001b[1;33m\u001b[0m\u001b[0m\n\u001b[1;32m-> 3478\u001b[1;33m         git_head_commit_url = self.repo.push_to_hub(\n\u001b[0m\u001b[0;32m   3479\u001b[0m             \u001b[0mcommit_message\u001b[0m\u001b[1;33m=\u001b[0m\u001b[0mcommit_message\u001b[0m\u001b[1;33m,\u001b[0m \u001b[0mblocking\u001b[0m\u001b[1;33m=\u001b[0m\u001b[0mblocking\u001b[0m\u001b[1;33m,\u001b[0m \u001b[0mauto_lfs_prune\u001b[0m\u001b[1;33m=\u001b[0m\u001b[1;32mTrue\u001b[0m\u001b[1;33m\u001b[0m\u001b[1;33m\u001b[0m\u001b[0m\n\u001b[0;32m   3480\u001b[0m         )\n",
      "\u001b[1;32m~\\AppData\\Roaming\\Python\\Python39\\site-packages\\huggingface_hub\\repository.py\u001b[0m in \u001b[0;36mpush_to_hub\u001b[1;34m(self, commit_message, blocking, clean_ok, auto_lfs_prune)\u001b[0m\n\u001b[0;32m   1430\u001b[0m         \u001b[0mself\u001b[0m\u001b[1;33m.\u001b[0m\u001b[0mgit_add\u001b[0m\u001b[1;33m(\u001b[0m\u001b[0mauto_lfs_track\u001b[0m\u001b[1;33m=\u001b[0m\u001b[1;32mTrue\u001b[0m\u001b[1;33m)\u001b[0m\u001b[1;33m\u001b[0m\u001b[1;33m\u001b[0m\u001b[0m\n\u001b[0;32m   1431\u001b[0m         \u001b[0mself\u001b[0m\u001b[1;33m.\u001b[0m\u001b[0mgit_commit\u001b[0m\u001b[1;33m(\u001b[0m\u001b[0mcommit_message\u001b[0m\u001b[1;33m)\u001b[0m\u001b[1;33m\u001b[0m\u001b[1;33m\u001b[0m\u001b[0m\n\u001b[1;32m-> 1432\u001b[1;33m         return self.git_push(\n\u001b[0m\u001b[0;32m   1433\u001b[0m             \u001b[0mupstream\u001b[0m\u001b[1;33m=\u001b[0m\u001b[1;34mf\"origin {self.current_branch}\"\u001b[0m\u001b[1;33m,\u001b[0m\u001b[1;33m\u001b[0m\u001b[1;33m\u001b[0m\u001b[0m\n\u001b[0;32m   1434\u001b[0m             \u001b[0mblocking\u001b[0m\u001b[1;33m=\u001b[0m\u001b[0mblocking\u001b[0m\u001b[1;33m,\u001b[0m\u001b[1;33m\u001b[0m\u001b[1;33m\u001b[0m\u001b[0m\n",
      "\u001b[1;32m~\\AppData\\Roaming\\Python\\Python39\\site-packages\\huggingface_hub\\repository.py\u001b[0m in \u001b[0;36mgit_push\u001b[1;34m(self, upstream, blocking, auto_lfs_prune)\u001b[0m\n\u001b[0;32m   1197\u001b[0m \u001b[1;33m\u001b[0m\u001b[0m\n\u001b[0;32m   1198\u001b[0m                 \u001b[1;32mif\u001b[0m \u001b[0mblocking\u001b[0m\u001b[1;33m:\u001b[0m\u001b[1;33m\u001b[0m\u001b[1;33m\u001b[0m\u001b[0m\n\u001b[1;32m-> 1199\u001b[1;33m                     \u001b[0mstdout\u001b[0m\u001b[1;33m,\u001b[0m \u001b[0mstderr\u001b[0m \u001b[1;33m=\u001b[0m \u001b[0mprocess\u001b[0m\u001b[1;33m.\u001b[0m\u001b[0mcommunicate\u001b[0m\u001b[1;33m(\u001b[0m\u001b[1;33m)\u001b[0m\u001b[1;33m\u001b[0m\u001b[1;33m\u001b[0m\u001b[0m\n\u001b[0m\u001b[0;32m   1200\u001b[0m                     \u001b[0mreturn_code\u001b[0m \u001b[1;33m=\u001b[0m \u001b[0mprocess\u001b[0m\u001b[1;33m.\u001b[0m\u001b[0mpoll\u001b[0m\u001b[1;33m(\u001b[0m\u001b[1;33m)\u001b[0m\u001b[1;33m\u001b[0m\u001b[1;33m\u001b[0m\u001b[0m\n\u001b[0;32m   1201\u001b[0m                     \u001b[0mprocess\u001b[0m\u001b[1;33m.\u001b[0m\u001b[0mkill\u001b[0m\u001b[1;33m(\u001b[0m\u001b[1;33m)\u001b[0m\u001b[1;33m\u001b[0m\u001b[1;33m\u001b[0m\u001b[0m\n",
      "\u001b[1;32mC:\\ProgramData\\Anaconda3\\lib\\subprocess.py\u001b[0m in \u001b[0;36mcommunicate\u001b[1;34m(self, input, timeout)\u001b[0m\n\u001b[0;32m   1132\u001b[0m \u001b[1;33m\u001b[0m\u001b[0m\n\u001b[0;32m   1133\u001b[0m             \u001b[1;32mtry\u001b[0m\u001b[1;33m:\u001b[0m\u001b[1;33m\u001b[0m\u001b[1;33m\u001b[0m\u001b[0m\n\u001b[1;32m-> 1134\u001b[1;33m                 \u001b[0mstdout\u001b[0m\u001b[1;33m,\u001b[0m \u001b[0mstderr\u001b[0m \u001b[1;33m=\u001b[0m \u001b[0mself\u001b[0m\u001b[1;33m.\u001b[0m\u001b[0m_communicate\u001b[0m\u001b[1;33m(\u001b[0m\u001b[0minput\u001b[0m\u001b[1;33m,\u001b[0m \u001b[0mendtime\u001b[0m\u001b[1;33m,\u001b[0m \u001b[0mtimeout\u001b[0m\u001b[1;33m)\u001b[0m\u001b[1;33m\u001b[0m\u001b[1;33m\u001b[0m\u001b[0m\n\u001b[0m\u001b[0;32m   1135\u001b[0m             \u001b[1;32mexcept\u001b[0m \u001b[0mKeyboardInterrupt\u001b[0m\u001b[1;33m:\u001b[0m\u001b[1;33m\u001b[0m\u001b[1;33m\u001b[0m\u001b[0m\n\u001b[0;32m   1136\u001b[0m                 \u001b[1;31m# https://bugs.python.org/issue25942\u001b[0m\u001b[1;33m\u001b[0m\u001b[1;33m\u001b[0m\u001b[0m\n",
      "\u001b[1;32mC:\\ProgramData\\Anaconda3\\lib\\subprocess.py\u001b[0m in \u001b[0;36m_communicate\u001b[1;34m(self, input, endtime, orig_timeout)\u001b[0m\n\u001b[0;32m   1506\u001b[0m             \u001b[1;31m# calls communicate again.\u001b[0m\u001b[1;33m\u001b[0m\u001b[1;33m\u001b[0m\u001b[0m\n\u001b[0;32m   1507\u001b[0m             \u001b[1;32mif\u001b[0m \u001b[0mself\u001b[0m\u001b[1;33m.\u001b[0m\u001b[0mstdout\u001b[0m \u001b[1;32mis\u001b[0m \u001b[1;32mnot\u001b[0m \u001b[1;32mNone\u001b[0m\u001b[1;33m:\u001b[0m\u001b[1;33m\u001b[0m\u001b[1;33m\u001b[0m\u001b[0m\n\u001b[1;32m-> 1508\u001b[1;33m                 \u001b[0mself\u001b[0m\u001b[1;33m.\u001b[0m\u001b[0mstdout_thread\u001b[0m\u001b[1;33m.\u001b[0m\u001b[0mjoin\u001b[0m\u001b[1;33m(\u001b[0m\u001b[0mself\u001b[0m\u001b[1;33m.\u001b[0m\u001b[0m_remaining_time\u001b[0m\u001b[1;33m(\u001b[0m\u001b[0mendtime\u001b[0m\u001b[1;33m)\u001b[0m\u001b[1;33m)\u001b[0m\u001b[1;33m\u001b[0m\u001b[1;33m\u001b[0m\u001b[0m\n\u001b[0m\u001b[0;32m   1509\u001b[0m                 \u001b[1;32mif\u001b[0m \u001b[0mself\u001b[0m\u001b[1;33m.\u001b[0m\u001b[0mstdout_thread\u001b[0m\u001b[1;33m.\u001b[0m\u001b[0mis_alive\u001b[0m\u001b[1;33m(\u001b[0m\u001b[1;33m)\u001b[0m\u001b[1;33m:\u001b[0m\u001b[1;33m\u001b[0m\u001b[1;33m\u001b[0m\u001b[0m\n\u001b[0;32m   1510\u001b[0m                     \u001b[1;32mraise\u001b[0m \u001b[0mTimeoutExpired\u001b[0m\u001b[1;33m(\u001b[0m\u001b[0mself\u001b[0m\u001b[1;33m.\u001b[0m\u001b[0margs\u001b[0m\u001b[1;33m,\u001b[0m \u001b[0morig_timeout\u001b[0m\u001b[1;33m)\u001b[0m\u001b[1;33m\u001b[0m\u001b[1;33m\u001b[0m\u001b[0m\n",
      "\u001b[1;32mC:\\ProgramData\\Anaconda3\\lib\\threading.py\u001b[0m in \u001b[0;36mjoin\u001b[1;34m(self, timeout)\u001b[0m\n\u001b[0;32m   1058\u001b[0m \u001b[1;33m\u001b[0m\u001b[0m\n\u001b[0;32m   1059\u001b[0m         \u001b[1;32mif\u001b[0m \u001b[0mtimeout\u001b[0m \u001b[1;32mis\u001b[0m \u001b[1;32mNone\u001b[0m\u001b[1;33m:\u001b[0m\u001b[1;33m\u001b[0m\u001b[1;33m\u001b[0m\u001b[0m\n\u001b[1;32m-> 1060\u001b[1;33m             \u001b[0mself\u001b[0m\u001b[1;33m.\u001b[0m\u001b[0m_wait_for_tstate_lock\u001b[0m\u001b[1;33m(\u001b[0m\u001b[1;33m)\u001b[0m\u001b[1;33m\u001b[0m\u001b[1;33m\u001b[0m\u001b[0m\n\u001b[0m\u001b[0;32m   1061\u001b[0m         \u001b[1;32melse\u001b[0m\u001b[1;33m:\u001b[0m\u001b[1;33m\u001b[0m\u001b[1;33m\u001b[0m\u001b[0m\n\u001b[0;32m   1062\u001b[0m             \u001b[1;31m# the behavior of a negative timeout isn't documented, but\u001b[0m\u001b[1;33m\u001b[0m\u001b[1;33m\u001b[0m\u001b[0m\n",
      "\u001b[1;32mC:\\ProgramData\\Anaconda3\\lib\\threading.py\u001b[0m in \u001b[0;36m_wait_for_tstate_lock\u001b[1;34m(self, block, timeout)\u001b[0m\n\u001b[0;32m   1078\u001b[0m \u001b[1;33m\u001b[0m\u001b[0m\n\u001b[0;32m   1079\u001b[0m         \u001b[1;32mtry\u001b[0m\u001b[1;33m:\u001b[0m\u001b[1;33m\u001b[0m\u001b[1;33m\u001b[0m\u001b[0m\n\u001b[1;32m-> 1080\u001b[1;33m             \u001b[1;32mif\u001b[0m \u001b[0mlock\u001b[0m\u001b[1;33m.\u001b[0m\u001b[0macquire\u001b[0m\u001b[1;33m(\u001b[0m\u001b[0mblock\u001b[0m\u001b[1;33m,\u001b[0m \u001b[0mtimeout\u001b[0m\u001b[1;33m)\u001b[0m\u001b[1;33m:\u001b[0m\u001b[1;33m\u001b[0m\u001b[1;33m\u001b[0m\u001b[0m\n\u001b[0m\u001b[0;32m   1081\u001b[0m                 \u001b[0mlock\u001b[0m\u001b[1;33m.\u001b[0m\u001b[0mrelease\u001b[0m\u001b[1;33m(\u001b[0m\u001b[1;33m)\u001b[0m\u001b[1;33m\u001b[0m\u001b[1;33m\u001b[0m\u001b[0m\n\u001b[0;32m   1082\u001b[0m                 \u001b[0mself\u001b[0m\u001b[1;33m.\u001b[0m\u001b[0m_stop\u001b[0m\u001b[1;33m(\u001b[0m\u001b[1;33m)\u001b[0m\u001b[1;33m\u001b[0m\u001b[1;33m\u001b[0m\u001b[0m\n",
      "\u001b[1;31mKeyboardInterrupt\u001b[0m: "
     ]
    }
   ],
   "source": [
    "trainer.push_to_hub(\"layoutlmv3-finetuned-cord_100\")"
   ]
  },
  {
   "cell_type": "markdown",
   "metadata": {
    "id": "1cHnQJJsG_sj"
   },
   "source": [
    "Evaluate the final model"
   ]
  },
  {
   "cell_type": "code",
   "execution_count": 31,
   "metadata": {
    "id": "w86kFoyXX8QC"
   },
   "outputs": [
    {
     "name": "stderr",
     "output_type": "stream",
     "text": [
      "***** Running Evaluation *****\n",
      "  Num examples = 100\n",
      "  Batch size = 2\n",
      "C:\\Users\\smart\\AppData\\Roaming\\Python\\Python39\\site-packages\\transformers\\modeling_utils.py:768: FutureWarning: The `device` argument is deprecated and will be removed in v5 of Transformers.\n",
      "  warnings.warn(\n"
     ]
    },
    {
     "data": {
      "text/html": [
       "\n",
       "    <div>\n",
       "      \n",
       "      <progress value='50' max='50' style='width:300px; height:20px; vertical-align: middle;'></progress>\n",
       "      [50/50 03:01]\n",
       "    </div>\n",
       "    "
      ],
      "text/plain": [
       "<IPython.core.display.HTML object>"
      ]
     },
     "metadata": {},
     "output_type": "display_data"
    },
    {
     "name": "stderr",
     "output_type": "stream",
     "text": [
      "C:\\Users\\smart\\AppData\\Roaming\\Python\\Python39\\site-packages\\seqeval\\metrics\\v1.py:57: UndefinedMetricWarning: Precision and F-score are ill-defined and being set to 0.0 in labels with no predicted samples. Use `zero_division` parameter to control this behavior.\n",
      "  _warn_prf(average, modifier, msg_start, len(result))\n"
     ]
    },
    {
     "data": {
      "text/plain": [
       "{'eval_loss': 0.2854122817516327,\n",
       " 'eval_precision': 0.917960088691796,\n",
       " 'eval_recall': 0.9296407185628742,\n",
       " 'eval_f1': 0.9237634808478989,\n",
       " 'eval_accuracy': 0.9303904923599321,\n",
       " 'eval_runtime': 184.6396,\n",
       " 'eval_samples_per_second': 0.542,\n",
       " 'eval_steps_per_second': 0.271,\n",
       " 'epoch': 6.25}"
      ]
     },
     "execution_count": 31,
     "metadata": {},
     "output_type": "execute_result"
    }
   ],
   "source": [
    "trainer.evaluate()"
   ]
  },
  {
   "cell_type": "code",
   "execution_count": 46,
   "metadata": {},
   "outputs": [
    {
     "name": "stderr",
     "output_type": "stream",
     "text": [
      "PyTorch: setting up devices\n",
      "The default value for the training argument `--report_to` will change in v5 (from all installed integrations to none). In v5, you will need to use `--report_to all` to get the same behavior as now. You should start updating your code and make this info disappear :-).\n"
     ]
    }
   ],
   "source": [
    "training_args = TrainingArguments(output_dir=\"layout-2\",\n",
    "                                  max_steps=500,\n",
    "                                  per_device_train_batch_size=2,\n",
    "                                  per_device_eval_batch_size=2,\n",
    "                                  push_to_hub=False,  # after training, we'd like to push our model to the hub \n",
    "                                  learning_rate=1e-5,\n",
    "                                  evaluation_strategy=\"steps\",\n",
    "                                  eval_steps=10,\n",
    "                                  load_best_model_at_end=True,\n",
    "                                  metric_for_best_model=\"accuracy\")"
   ]
  },
  {
   "cell_type": "code",
   "execution_count": 47,
   "metadata": {},
   "outputs": [
    {
     "name": "stderr",
     "output_type": "stream",
     "text": [
      "max_steps is given, it will override any value given in num_train_epochs\n"
     ]
    }
   ],
   "source": [
    "trainer = Trainer(\n",
    "    model=model,\n",
    "    args=training_args,\n",
    "    train_dataset=train_dataset,\n",
    "    eval_dataset=eval_dataset,\n",
    "    tokenizer=processor,\n",
    "    data_collator=default_data_collator,\n",
    "    compute_metrics=compute_metrics,\n",
    ")"
   ]
  },
  {
   "cell_type": "code",
   "execution_count": 48,
   "metadata": {},
   "outputs": [
    {
     "name": "stderr",
     "output_type": "stream",
     "text": [
      "***** Running training *****\n",
      "  Num examples = 800\n",
      "  Num Epochs = 2\n",
      "  Instantaneous batch size per device = 2\n",
      "  Total train batch size (w. parallel, distributed & accumulation) = 2\n",
      "  Gradient Accumulation steps = 1\n",
      "  Total optimization steps = 500\n",
      "  Number of trainable parameters = 125964477\n"
     ]
    },
    {
     "data": {
      "text/html": [
       "\n",
       "    <div>\n",
       "      \n",
       "      <progress value='22' max='500' style='width:300px; height:20px; vertical-align: middle;'></progress>\n",
       "      [ 22/500 08:47 < 3:29:55, 0.04 it/s, Epoch 0.05/2]\n",
       "    </div>\n",
       "    <table border=\"1\" class=\"dataframe\">\n",
       "  <thead>\n",
       " <tr style=\"text-align: left;\">\n",
       "      <th>Step</th>\n",
       "      <th>Training Loss</th>\n",
       "      <th>Validation Loss</th>\n",
       "      <th>Precision</th>\n",
       "      <th>Recall</th>\n",
       "      <th>F1</th>\n",
       "      <th>Accuracy</th>\n",
       "    </tr>\n",
       "  </thead>\n",
       "  <tbody>\n",
       "    <tr>\n",
       "      <td>10</td>\n",
       "      <td>No log</td>\n",
       "      <td>0.371704</td>\n",
       "      <td>0.897285</td>\n",
       "      <td>0.915419</td>\n",
       "      <td>0.906262</td>\n",
       "      <td>0.907470</td>\n",
       "    </tr>\n",
       "    <tr>\n",
       "      <td>20</td>\n",
       "      <td>No log</td>\n",
       "      <td>0.343809</td>\n",
       "      <td>0.907285</td>\n",
       "      <td>0.922904</td>\n",
       "      <td>0.915028</td>\n",
       "      <td>0.921477</td>\n",
       "    </tr>\n",
       "  </tbody>\n",
       "</table><p>"
      ],
      "text/plain": [
       "<IPython.core.display.HTML object>"
      ]
     },
     "metadata": {},
     "output_type": "display_data"
    },
    {
     "name": "stderr",
     "output_type": "stream",
     "text": [
      "***** Running Evaluation *****\n",
      "  Num examples = 100\n",
      "  Batch size = 2\n",
      "***** Running Evaluation *****\n",
      "  Num examples = 100\n",
      "  Batch size = 2\n"
     ]
    },
    {
     "ename": "KeyboardInterrupt",
     "evalue": "",
     "output_type": "error",
     "traceback": [
      "\u001b[1;31m---------------------------------------------------------------------------\u001b[0m",
      "\u001b[1;31mKeyboardInterrupt\u001b[0m                         Traceback (most recent call last)",
      "\u001b[1;32m~\\AppData\\Local\\Temp\\ipykernel_12124\\4032920361.py\u001b[0m in \u001b[0;36m<module>\u001b[1;34m\u001b[0m\n\u001b[1;32m----> 1\u001b[1;33m \u001b[0mtrainer\u001b[0m\u001b[1;33m.\u001b[0m\u001b[0mtrain\u001b[0m\u001b[1;33m(\u001b[0m\u001b[1;33m)\u001b[0m\u001b[1;33m\u001b[0m\u001b[1;33m\u001b[0m\u001b[0m\n\u001b[0m",
      "\u001b[1;32m~\\AppData\\Roaming\\Python\\Python39\\site-packages\\transformers\\trainer.py\u001b[0m in \u001b[0;36mtrain\u001b[1;34m(self, resume_from_checkpoint, trial, ignore_keys_for_eval, **kwargs)\u001b[0m\n\u001b[0;32m   1525\u001b[0m             \u001b[0mself\u001b[0m\u001b[1;33m.\u001b[0m\u001b[0m_inner_training_loop\u001b[0m\u001b[1;33m,\u001b[0m \u001b[0mself\u001b[0m\u001b[1;33m.\u001b[0m\u001b[0m_train_batch_size\u001b[0m\u001b[1;33m,\u001b[0m \u001b[0margs\u001b[0m\u001b[1;33m.\u001b[0m\u001b[0mauto_find_batch_size\u001b[0m\u001b[1;33m\u001b[0m\u001b[1;33m\u001b[0m\u001b[0m\n\u001b[0;32m   1526\u001b[0m         )\n\u001b[1;32m-> 1527\u001b[1;33m         return inner_training_loop(\n\u001b[0m\u001b[0;32m   1528\u001b[0m             \u001b[0margs\u001b[0m\u001b[1;33m=\u001b[0m\u001b[0margs\u001b[0m\u001b[1;33m,\u001b[0m\u001b[1;33m\u001b[0m\u001b[1;33m\u001b[0m\u001b[0m\n\u001b[0;32m   1529\u001b[0m             \u001b[0mresume_from_checkpoint\u001b[0m\u001b[1;33m=\u001b[0m\u001b[0mresume_from_checkpoint\u001b[0m\u001b[1;33m,\u001b[0m\u001b[1;33m\u001b[0m\u001b[1;33m\u001b[0m\u001b[0m\n",
      "\u001b[1;32m~\\AppData\\Roaming\\Python\\Python39\\site-packages\\transformers\\trainer.py\u001b[0m in \u001b[0;36m_inner_training_loop\u001b[1;34m(self, batch_size, args, resume_from_checkpoint, trial, ignore_keys_for_eval)\u001b[0m\n\u001b[0;32m   1773\u001b[0m                         \u001b[0mtr_loss_step\u001b[0m \u001b[1;33m=\u001b[0m \u001b[0mself\u001b[0m\u001b[1;33m.\u001b[0m\u001b[0mtraining_step\u001b[0m\u001b[1;33m(\u001b[0m\u001b[0mmodel\u001b[0m\u001b[1;33m,\u001b[0m \u001b[0minputs\u001b[0m\u001b[1;33m)\u001b[0m\u001b[1;33m\u001b[0m\u001b[1;33m\u001b[0m\u001b[0m\n\u001b[0;32m   1774\u001b[0m                 \u001b[1;32melse\u001b[0m\u001b[1;33m:\u001b[0m\u001b[1;33m\u001b[0m\u001b[1;33m\u001b[0m\u001b[0m\n\u001b[1;32m-> 1775\u001b[1;33m                     \u001b[0mtr_loss_step\u001b[0m \u001b[1;33m=\u001b[0m \u001b[0mself\u001b[0m\u001b[1;33m.\u001b[0m\u001b[0mtraining_step\u001b[0m\u001b[1;33m(\u001b[0m\u001b[0mmodel\u001b[0m\u001b[1;33m,\u001b[0m \u001b[0minputs\u001b[0m\u001b[1;33m)\u001b[0m\u001b[1;33m\u001b[0m\u001b[1;33m\u001b[0m\u001b[0m\n\u001b[0m\u001b[0;32m   1776\u001b[0m \u001b[1;33m\u001b[0m\u001b[0m\n\u001b[0;32m   1777\u001b[0m                 if (\n",
      "\u001b[1;32m~\\AppData\\Roaming\\Python\\Python39\\site-packages\\transformers\\trainer.py\u001b[0m in \u001b[0;36mtraining_step\u001b[1;34m(self, model, inputs)\u001b[0m\n\u001b[0;32m   2539\u001b[0m             \u001b[0mloss\u001b[0m \u001b[1;33m=\u001b[0m \u001b[0mself\u001b[0m\u001b[1;33m.\u001b[0m\u001b[0mdeepspeed\u001b[0m\u001b[1;33m.\u001b[0m\u001b[0mbackward\u001b[0m\u001b[1;33m(\u001b[0m\u001b[0mloss\u001b[0m\u001b[1;33m)\u001b[0m\u001b[1;33m\u001b[0m\u001b[1;33m\u001b[0m\u001b[0m\n\u001b[0;32m   2540\u001b[0m         \u001b[1;32melse\u001b[0m\u001b[1;33m:\u001b[0m\u001b[1;33m\u001b[0m\u001b[1;33m\u001b[0m\u001b[0m\n\u001b[1;32m-> 2541\u001b[1;33m             \u001b[0mloss\u001b[0m\u001b[1;33m.\u001b[0m\u001b[0mbackward\u001b[0m\u001b[1;33m(\u001b[0m\u001b[1;33m)\u001b[0m\u001b[1;33m\u001b[0m\u001b[1;33m\u001b[0m\u001b[0m\n\u001b[0m\u001b[0;32m   2542\u001b[0m \u001b[1;33m\u001b[0m\u001b[0m\n\u001b[0;32m   2543\u001b[0m         \u001b[1;32mreturn\u001b[0m \u001b[0mloss\u001b[0m\u001b[1;33m.\u001b[0m\u001b[0mdetach\u001b[0m\u001b[1;33m(\u001b[0m\u001b[1;33m)\u001b[0m\u001b[1;33m\u001b[0m\u001b[1;33m\u001b[0m\u001b[0m\n",
      "\u001b[1;32m~\\AppData\\Roaming\\Python\\Python39\\site-packages\\torch\\_tensor.py\u001b[0m in \u001b[0;36mbackward\u001b[1;34m(self, gradient, retain_graph, create_graph, inputs)\u001b[0m\n\u001b[0;32m    486\u001b[0m                 \u001b[0minputs\u001b[0m\u001b[1;33m=\u001b[0m\u001b[0minputs\u001b[0m\u001b[1;33m,\u001b[0m\u001b[1;33m\u001b[0m\u001b[1;33m\u001b[0m\u001b[0m\n\u001b[0;32m    487\u001b[0m             )\n\u001b[1;32m--> 488\u001b[1;33m         torch.autograd.backward(\n\u001b[0m\u001b[0;32m    489\u001b[0m             \u001b[0mself\u001b[0m\u001b[1;33m,\u001b[0m \u001b[0mgradient\u001b[0m\u001b[1;33m,\u001b[0m \u001b[0mretain_graph\u001b[0m\u001b[1;33m,\u001b[0m \u001b[0mcreate_graph\u001b[0m\u001b[1;33m,\u001b[0m \u001b[0minputs\u001b[0m\u001b[1;33m=\u001b[0m\u001b[0minputs\u001b[0m\u001b[1;33m\u001b[0m\u001b[1;33m\u001b[0m\u001b[0m\n\u001b[0;32m    490\u001b[0m         )\n",
      "\u001b[1;32m~\\AppData\\Roaming\\Python\\Python39\\site-packages\\torch\\autograd\\__init__.py\u001b[0m in \u001b[0;36mbackward\u001b[1;34m(tensors, grad_tensors, retain_graph, create_graph, grad_variables, inputs)\u001b[0m\n\u001b[0;32m    195\u001b[0m     \u001b[1;31m# some Python versions print out the first line of a multi-line function\u001b[0m\u001b[1;33m\u001b[0m\u001b[1;33m\u001b[0m\u001b[0m\n\u001b[0;32m    196\u001b[0m     \u001b[1;31m# calls in the traceback and some print out the last line\u001b[0m\u001b[1;33m\u001b[0m\u001b[1;33m\u001b[0m\u001b[0m\n\u001b[1;32m--> 197\u001b[1;33m     Variable._execution_engine.run_backward(  # Calls into the C++ engine to run the backward pass\n\u001b[0m\u001b[0;32m    198\u001b[0m         \u001b[0mtensors\u001b[0m\u001b[1;33m,\u001b[0m \u001b[0mgrad_tensors_\u001b[0m\u001b[1;33m,\u001b[0m \u001b[0mretain_graph\u001b[0m\u001b[1;33m,\u001b[0m \u001b[0mcreate_graph\u001b[0m\u001b[1;33m,\u001b[0m \u001b[0minputs\u001b[0m\u001b[1;33m,\u001b[0m\u001b[1;33m\u001b[0m\u001b[1;33m\u001b[0m\u001b[0m\n\u001b[0;32m    199\u001b[0m         allow_unreachable=True, accumulate_grad=True)  # Calls into the C++ engine to run the backward pass\n",
      "\u001b[1;31mKeyboardInterrupt\u001b[0m: "
     ]
    }
   ],
   "source": [
    "trainer.train()"
   ]
  },
  {
   "cell_type": "markdown",
   "metadata": {
    "id": "wDWVaw74YXgW"
   },
   "source": [
    "## Inference\n",
    "\n",
    "This section loads the model from the hub and does not assume we have just trained the model. This is a realistic scenario for me, as Google Colab often makes me use multiple sessions."
   ]
  },
  {
   "cell_type": "markdown",
   "metadata": {
    "id": "5REG2X2_HT9u"
   },
   "source": [
    "You will have to update this with your particular repo/model name"
   ]
  },
  {
   "cell_type": "code",
   "execution_count": 33,
   "metadata": {
    "colab": {
     "base_uri": "https://localhost:8080/",
     "height": 1000,
     "referenced_widgets": [
      "568583ed5155484697d47ba6a7b2d3e4",
      "3e34996c29b14dbfb885ac7a286e2fad",
      "f9411cb7e83c4afca76537de7a4546f3",
      "f9fc5dda19714e1c812b9e991f77cbe6",
      "a5b89e26fe994e1f894d5da14b132894",
      "b91ed0ba4d624fbeb103da4e12bd25bd",
      "3bf8e16fb1694099bf16a1f4bd2c1f00",
      "0bf89b83225c48c6ad90f4da9f7be874",
      "7f2ff0e8788d4fe38d7f8670607c7842",
      "8bbe0875ed114cfc8f853786ea0fa5b5",
      "d1eec8fd581847edb44af3302fbfe5bb",
      "6a3fcdd5887642339a9310ad259d528f",
      "16a58adee6e94e84912d5363350d0020",
      "7b1679ca0bcb40e5a6eedb52bb05261c",
      "ab1df73de99641ce910f695e01117b9e",
      "eef04c04d63e44a78819a9449ae60b5a",
      "f34a1908bc264322b56ff7a357a101d9",
      "3c8eb36105fb43fcb0768a17450392ab",
      "36895b173bf9406a864ad0051c3f96ac",
      "1a0f0b85507c4b61ba50f6cc28c55aca",
      "7545addbf0924196b115f3917369377e",
      "7e01728494d746c18c109300ee5efb0f"
     ]
    },
    "id": "F4gNkWLjW42_",
    "outputId": "69dd5db4-7601-4f9f-88b4-1c30bb8a1ccf"
   },
   "outputs": [
    {
     "name": "stderr",
     "output_type": "stream",
     "text": [
      "loading configuration file config.json from cache at C:\\Users\\smart/.cache\\huggingface\\hub\\models--Anorak--layoutlmv3-finetuned-cord_100\\snapshots\\d05a416216b7c1fe0c8793d5aa07682a26c3d4ff\\config.json\n",
      "Model config LayoutLMv3Config {\n",
      "  \"_name_or_path\": \"Anorak/layoutlmv3-finetuned-cord_100\",\n",
      "  \"architectures\": [\n",
      "    \"LayoutLMv3ForTokenClassification\"\n",
      "  ],\n",
      "  \"attention_probs_dropout_prob\": 0.1,\n",
      "  \"bos_token_id\": 0,\n",
      "  \"classifier_dropout\": null,\n",
      "  \"coordinate_size\": 128,\n",
      "  \"eos_token_id\": 2,\n",
      "  \"has_relative_attention_bias\": true,\n",
      "  \"has_spatial_attention_bias\": true,\n",
      "  \"hidden_act\": \"gelu\",\n",
      "  \"hidden_dropout_prob\": 0.1,\n",
      "  \"hidden_size\": 768,\n",
      "  \"id2label\": {\n",
      "    \"0\": \"O\",\n",
      "    \"1\": \"B-MENU.NM\",\n",
      "    \"2\": \"B-MENU.NUM\",\n",
      "    \"3\": \"B-MENU.UNITPRICE\",\n",
      "    \"4\": \"B-MENU.CNT\",\n",
      "    \"5\": \"B-MENU.DISCOUNTPRICE\",\n",
      "    \"6\": \"B-MENU.PRICE\",\n",
      "    \"7\": \"B-MENU.ITEMSUBTOTAL\",\n",
      "    \"8\": \"B-MENU.VATYN\",\n",
      "    \"9\": \"B-MENU.ETC\",\n",
      "    \"10\": \"B-MENU.SUB_NM\",\n",
      "    \"11\": \"B-MENU.SUB_UNITPRICE\",\n",
      "    \"12\": \"B-MENU.SUB_CNT\",\n",
      "    \"13\": \"B-MENU.SUB_PRICE\",\n",
      "    \"14\": \"B-MENU.SUB_ETC\",\n",
      "    \"15\": \"B-VOID_MENU.NM\",\n",
      "    \"16\": \"B-VOID_MENU.PRICE\",\n",
      "    \"17\": \"B-SUB_TOTAL.SUBTOTAL_PRICE\",\n",
      "    \"18\": \"B-SUB_TOTAL.DISCOUNT_PRICE\",\n",
      "    \"19\": \"B-SUB_TOTAL.SERVICE_PRICE\",\n",
      "    \"20\": \"B-SUB_TOTAL.OTHERSVC_PRICE\",\n",
      "    \"21\": \"B-SUB_TOTAL.TAX_PRICE\",\n",
      "    \"22\": \"B-SUB_TOTAL.ETC\",\n",
      "    \"23\": \"B-TOTAL.TOTAL_PRICE\",\n",
      "    \"24\": \"B-TOTAL.TOTAL_ETC\",\n",
      "    \"25\": \"B-TOTAL.CASHPRICE\",\n",
      "    \"26\": \"B-TOTAL.CHANGEPRICE\",\n",
      "    \"27\": \"B-TOTAL.CREDITCARDPRICE\",\n",
      "    \"28\": \"B-TOTAL.EMONEYPRICE\",\n",
      "    \"29\": \"B-TOTAL.MENUTYPE_CNT\",\n",
      "    \"30\": \"B-TOTAL.MENUQTY_CNT\",\n",
      "    \"31\": \"I-MENU.NM\",\n",
      "    \"32\": \"I-MENU.NUM\",\n",
      "    \"33\": \"I-MENU.UNITPRICE\",\n",
      "    \"34\": \"I-MENU.CNT\",\n",
      "    \"35\": \"I-MENU.DISCOUNTPRICE\",\n",
      "    \"36\": \"I-MENU.PRICE\",\n",
      "    \"37\": \"I-MENU.ITEMSUBTOTAL\",\n",
      "    \"38\": \"I-MENU.VATYN\",\n",
      "    \"39\": \"I-MENU.ETC\",\n",
      "    \"40\": \"I-MENU.SUB_NM\",\n",
      "    \"41\": \"I-MENU.SUB_UNITPRICE\",\n",
      "    \"42\": \"I-MENU.SUB_CNT\",\n",
      "    \"43\": \"I-MENU.SUB_PRICE\",\n",
      "    \"44\": \"I-MENU.SUB_ETC\",\n",
      "    \"45\": \"I-VOID_MENU.NM\",\n",
      "    \"46\": \"I-VOID_MENU.PRICE\",\n",
      "    \"47\": \"I-SUB_TOTAL.SUBTOTAL_PRICE\",\n",
      "    \"48\": \"I-SUB_TOTAL.DISCOUNT_PRICE\",\n",
      "    \"49\": \"I-SUB_TOTAL.SERVICE_PRICE\",\n",
      "    \"50\": \"I-SUB_TOTAL.OTHERSVC_PRICE\",\n",
      "    \"51\": \"I-SUB_TOTAL.TAX_PRICE\",\n",
      "    \"52\": \"I-SUB_TOTAL.ETC\",\n",
      "    \"53\": \"I-TOTAL.TOTAL_PRICE\",\n",
      "    \"54\": \"I-TOTAL.TOTAL_ETC\",\n",
      "    \"55\": \"I-TOTAL.CASHPRICE\",\n",
      "    \"56\": \"I-TOTAL.CHANGEPRICE\",\n",
      "    \"57\": \"I-TOTAL.CREDITCARDPRICE\",\n",
      "    \"58\": \"I-TOTAL.EMONEYPRICE\",\n",
      "    \"59\": \"I-TOTAL.MENUTYPE_CNT\",\n",
      "    \"60\": \"I-TOTAL.MENUQTY_CNT\"\n",
      "  },\n",
      "  \"initializer_range\": 0.02,\n",
      "  \"input_size\": 224,\n",
      "  \"intermediate_size\": 3072,\n",
      "  \"label2id\": {\n",
      "    \"B-MENU.CNT\": 4,\n",
      "    \"B-MENU.DISCOUNTPRICE\": 5,\n",
      "    \"B-MENU.ETC\": 9,\n",
      "    \"B-MENU.ITEMSUBTOTAL\": 7,\n",
      "    \"B-MENU.NM\": 1,\n",
      "    \"B-MENU.NUM\": 2,\n",
      "    \"B-MENU.PRICE\": 6,\n",
      "    \"B-MENU.SUB_CNT\": 12,\n",
      "    \"B-MENU.SUB_ETC\": 14,\n",
      "    \"B-MENU.SUB_NM\": 10,\n",
      "    \"B-MENU.SUB_PRICE\": 13,\n",
      "    \"B-MENU.SUB_UNITPRICE\": 11,\n",
      "    \"B-MENU.UNITPRICE\": 3,\n",
      "    \"B-MENU.VATYN\": 8,\n",
      "    \"B-SUB_TOTAL.DISCOUNT_PRICE\": 18,\n",
      "    \"B-SUB_TOTAL.ETC\": 22,\n",
      "    \"B-SUB_TOTAL.OTHERSVC_PRICE\": 20,\n",
      "    \"B-SUB_TOTAL.SERVICE_PRICE\": 19,\n",
      "    \"B-SUB_TOTAL.SUBTOTAL_PRICE\": 17,\n",
      "    \"B-SUB_TOTAL.TAX_PRICE\": 21,\n",
      "    \"B-TOTAL.CASHPRICE\": 25,\n",
      "    \"B-TOTAL.CHANGEPRICE\": 26,\n",
      "    \"B-TOTAL.CREDITCARDPRICE\": 27,\n",
      "    \"B-TOTAL.EMONEYPRICE\": 28,\n",
      "    \"B-TOTAL.MENUQTY_CNT\": 30,\n",
      "    \"B-TOTAL.MENUTYPE_CNT\": 29,\n",
      "    \"B-TOTAL.TOTAL_ETC\": 24,\n",
      "    \"B-TOTAL.TOTAL_PRICE\": 23,\n",
      "    \"B-VOID_MENU.NM\": 15,\n",
      "    \"B-VOID_MENU.PRICE\": 16,\n",
      "    \"I-MENU.CNT\": 34,\n",
      "    \"I-MENU.DISCOUNTPRICE\": 35,\n",
      "    \"I-MENU.ETC\": 39,\n",
      "    \"I-MENU.ITEMSUBTOTAL\": 37,\n",
      "    \"I-MENU.NM\": 31,\n",
      "    \"I-MENU.NUM\": 32,\n",
      "    \"I-MENU.PRICE\": 36,\n",
      "    \"I-MENU.SUB_CNT\": 42,\n",
      "    \"I-MENU.SUB_ETC\": 44,\n",
      "    \"I-MENU.SUB_NM\": 40,\n",
      "    \"I-MENU.SUB_PRICE\": 43,\n",
      "    \"I-MENU.SUB_UNITPRICE\": 41,\n",
      "    \"I-MENU.UNITPRICE\": 33,\n",
      "    \"I-MENU.VATYN\": 38,\n",
      "    \"I-SUB_TOTAL.DISCOUNT_PRICE\": 48,\n",
      "    \"I-SUB_TOTAL.ETC\": 52,\n",
      "    \"I-SUB_TOTAL.OTHERSVC_PRICE\": 50,\n",
      "    \"I-SUB_TOTAL.SERVICE_PRICE\": 49,\n",
      "    \"I-SUB_TOTAL.SUBTOTAL_PRICE\": 47,\n",
      "    \"I-SUB_TOTAL.TAX_PRICE\": 51,\n",
      "    \"I-TOTAL.CASHPRICE\": 55,\n",
      "    \"I-TOTAL.CHANGEPRICE\": 56,\n",
      "    \"I-TOTAL.CREDITCARDPRICE\": 57,\n",
      "    \"I-TOTAL.EMONEYPRICE\": 58,\n",
      "    \"I-TOTAL.MENUQTY_CNT\": 60,\n",
      "    \"I-TOTAL.MENUTYPE_CNT\": 59,\n",
      "    \"I-TOTAL.TOTAL_ETC\": 54,\n",
      "    \"I-TOTAL.TOTAL_PRICE\": 53,\n",
      "    \"I-VOID_MENU.NM\": 45,\n",
      "    \"I-VOID_MENU.PRICE\": 46,\n",
      "    \"O\": 0\n",
      "  },\n",
      "  \"layer_norm_eps\": 1e-05,\n",
      "  \"max_2d_position_embeddings\": 1024,\n",
      "  \"max_position_embeddings\": 514,\n",
      "  \"max_rel_2d_pos\": 256,\n",
      "  \"max_rel_pos\": 128,\n",
      "  \"model_type\": \"layoutlmv3\",\n",
      "  \"num_attention_heads\": 12,\n",
      "  \"num_channels\": 3,\n",
      "  \"num_hidden_layers\": 12,\n",
      "  \"pad_token_id\": 1,\n",
      "  \"patch_size\": 16,\n",
      "  \"rel_2d_pos_bins\": 64,\n",
      "  \"rel_pos_bins\": 32,\n",
      "  \"second_input_size\": 112,\n",
      "  \"shape_size\": 128,\n",
      "  \"text_embed\": true,\n",
      "  \"torch_dtype\": \"float32\",\n",
      "  \"transformers_version\": \"4.25.1\",\n",
      "  \"type_vocab_size\": 1,\n",
      "  \"visual_embed\": true,\n",
      "  \"vocab_size\": 50265\n",
      "}\n",
      "\n"
     ]
    },
    {
     "data": {
      "application/vnd.jupyter.widget-view+json": {
       "model_id": "d4849eba7e6442bf8ac62a626bde9b62",
       "version_major": 2,
       "version_minor": 0
      },
      "text/plain": [
       "Downloading:   0%|          | 0.00/504M [00:00<?, ?B/s]"
      ]
     },
     "metadata": {},
     "output_type": "display_data"
    },
    {
     "ename": "ConnectionError",
     "evalue": "HTTPSConnectionPool(host='cdn-lfs.huggingface.co', port=443): Read timed out.",
     "output_type": "error",
     "traceback": [
      "\u001b[1;31m---------------------------------------------------------------------------\u001b[0m",
      "\u001b[1;31mtimeout\u001b[0m                                   Traceback (most recent call last)",
      "\u001b[1;32mC:\\ProgramData\\Anaconda3\\lib\\site-packages\\urllib3\\response.py\u001b[0m in \u001b[0;36m_error_catcher\u001b[1;34m(self)\u001b[0m\n\u001b[0;32m    442\u001b[0m             \u001b[1;32mtry\u001b[0m\u001b[1;33m:\u001b[0m\u001b[1;33m\u001b[0m\u001b[1;33m\u001b[0m\u001b[0m\n\u001b[1;32m--> 443\u001b[1;33m                 \u001b[1;32myield\u001b[0m\u001b[1;33m\u001b[0m\u001b[1;33m\u001b[0m\u001b[0m\n\u001b[0m\u001b[0;32m    444\u001b[0m \u001b[1;33m\u001b[0m\u001b[0m\n",
      "\u001b[1;32mC:\\ProgramData\\Anaconda3\\lib\\site-packages\\urllib3\\response.py\u001b[0m in \u001b[0;36mread\u001b[1;34m(self, amt, decode_content, cache_content)\u001b[0m\n\u001b[0;32m    565\u001b[0m         \u001b[1;32mwith\u001b[0m \u001b[0mself\u001b[0m\u001b[1;33m.\u001b[0m\u001b[0m_error_catcher\u001b[0m\u001b[1;33m(\u001b[0m\u001b[1;33m)\u001b[0m\u001b[1;33m:\u001b[0m\u001b[1;33m\u001b[0m\u001b[1;33m\u001b[0m\u001b[0m\n\u001b[1;32m--> 566\u001b[1;33m             \u001b[0mdata\u001b[0m \u001b[1;33m=\u001b[0m \u001b[0mself\u001b[0m\u001b[1;33m.\u001b[0m\u001b[0m_fp_read\u001b[0m\u001b[1;33m(\u001b[0m\u001b[0mamt\u001b[0m\u001b[1;33m)\u001b[0m \u001b[1;32mif\u001b[0m \u001b[1;32mnot\u001b[0m \u001b[0mfp_closed\u001b[0m \u001b[1;32melse\u001b[0m \u001b[1;34mb\"\"\u001b[0m\u001b[1;33m\u001b[0m\u001b[1;33m\u001b[0m\u001b[0m\n\u001b[0m\u001b[0;32m    567\u001b[0m             \u001b[1;32mif\u001b[0m \u001b[0mamt\u001b[0m \u001b[1;32mis\u001b[0m \u001b[1;32mNone\u001b[0m\u001b[1;33m:\u001b[0m\u001b[1;33m\u001b[0m\u001b[1;33m\u001b[0m\u001b[0m\n",
      "\u001b[1;32mC:\\ProgramData\\Anaconda3\\lib\\site-packages\\urllib3\\response.py\u001b[0m in \u001b[0;36m_fp_read\u001b[1;34m(self, amt)\u001b[0m\n\u001b[0;32m    531\u001b[0m             \u001b[1;31m# StringIO doesn't like amt=None\u001b[0m\u001b[1;33m\u001b[0m\u001b[1;33m\u001b[0m\u001b[0m\n\u001b[1;32m--> 532\u001b[1;33m             \u001b[1;32mreturn\u001b[0m \u001b[0mself\u001b[0m\u001b[1;33m.\u001b[0m\u001b[0m_fp\u001b[0m\u001b[1;33m.\u001b[0m\u001b[0mread\u001b[0m\u001b[1;33m(\u001b[0m\u001b[0mamt\u001b[0m\u001b[1;33m)\u001b[0m \u001b[1;32mif\u001b[0m \u001b[0mamt\u001b[0m \u001b[1;32mis\u001b[0m \u001b[1;32mnot\u001b[0m \u001b[1;32mNone\u001b[0m \u001b[1;32melse\u001b[0m \u001b[0mself\u001b[0m\u001b[1;33m.\u001b[0m\u001b[0m_fp\u001b[0m\u001b[1;33m.\u001b[0m\u001b[0mread\u001b[0m\u001b[1;33m(\u001b[0m\u001b[1;33m)\u001b[0m\u001b[1;33m\u001b[0m\u001b[1;33m\u001b[0m\u001b[0m\n\u001b[0m\u001b[0;32m    533\u001b[0m \u001b[1;33m\u001b[0m\u001b[0m\n",
      "\u001b[1;32mC:\\ProgramData\\Anaconda3\\lib\\http\\client.py\u001b[0m in \u001b[0;36mread\u001b[1;34m(self, amt)\u001b[0m\n\u001b[0;32m    462\u001b[0m             \u001b[0mb\u001b[0m \u001b[1;33m=\u001b[0m \u001b[0mbytearray\u001b[0m\u001b[1;33m(\u001b[0m\u001b[0mamt\u001b[0m\u001b[1;33m)\u001b[0m\u001b[1;33m\u001b[0m\u001b[1;33m\u001b[0m\u001b[0m\n\u001b[1;32m--> 463\u001b[1;33m             \u001b[0mn\u001b[0m \u001b[1;33m=\u001b[0m \u001b[0mself\u001b[0m\u001b[1;33m.\u001b[0m\u001b[0mreadinto\u001b[0m\u001b[1;33m(\u001b[0m\u001b[0mb\u001b[0m\u001b[1;33m)\u001b[0m\u001b[1;33m\u001b[0m\u001b[1;33m\u001b[0m\u001b[0m\n\u001b[0m\u001b[0;32m    464\u001b[0m             \u001b[1;32mreturn\u001b[0m \u001b[0mmemoryview\u001b[0m\u001b[1;33m(\u001b[0m\u001b[0mb\u001b[0m\u001b[1;33m)\u001b[0m\u001b[1;33m[\u001b[0m\u001b[1;33m:\u001b[0m\u001b[0mn\u001b[0m\u001b[1;33m]\u001b[0m\u001b[1;33m.\u001b[0m\u001b[0mtobytes\u001b[0m\u001b[1;33m(\u001b[0m\u001b[1;33m)\u001b[0m\u001b[1;33m\u001b[0m\u001b[1;33m\u001b[0m\u001b[0m\n",
      "\u001b[1;32mC:\\ProgramData\\Anaconda3\\lib\\http\\client.py\u001b[0m in \u001b[0;36mreadinto\u001b[1;34m(self, b)\u001b[0m\n\u001b[0;32m    506\u001b[0m         \u001b[1;31m# (for example, reading in 1k chunks)\u001b[0m\u001b[1;33m\u001b[0m\u001b[1;33m\u001b[0m\u001b[0m\n\u001b[1;32m--> 507\u001b[1;33m         \u001b[0mn\u001b[0m \u001b[1;33m=\u001b[0m \u001b[0mself\u001b[0m\u001b[1;33m.\u001b[0m\u001b[0mfp\u001b[0m\u001b[1;33m.\u001b[0m\u001b[0mreadinto\u001b[0m\u001b[1;33m(\u001b[0m\u001b[0mb\u001b[0m\u001b[1;33m)\u001b[0m\u001b[1;33m\u001b[0m\u001b[1;33m\u001b[0m\u001b[0m\n\u001b[0m\u001b[0;32m    508\u001b[0m         \u001b[1;32mif\u001b[0m \u001b[1;32mnot\u001b[0m \u001b[0mn\u001b[0m \u001b[1;32mand\u001b[0m \u001b[0mb\u001b[0m\u001b[1;33m:\u001b[0m\u001b[1;33m\u001b[0m\u001b[1;33m\u001b[0m\u001b[0m\n",
      "\u001b[1;32mC:\\ProgramData\\Anaconda3\\lib\\socket.py\u001b[0m in \u001b[0;36mreadinto\u001b[1;34m(self, b)\u001b[0m\n\u001b[0;32m    703\u001b[0m             \u001b[1;32mtry\u001b[0m\u001b[1;33m:\u001b[0m\u001b[1;33m\u001b[0m\u001b[1;33m\u001b[0m\u001b[0m\n\u001b[1;32m--> 704\u001b[1;33m                 \u001b[1;32mreturn\u001b[0m \u001b[0mself\u001b[0m\u001b[1;33m.\u001b[0m\u001b[0m_sock\u001b[0m\u001b[1;33m.\u001b[0m\u001b[0mrecv_into\u001b[0m\u001b[1;33m(\u001b[0m\u001b[0mb\u001b[0m\u001b[1;33m)\u001b[0m\u001b[1;33m\u001b[0m\u001b[1;33m\u001b[0m\u001b[0m\n\u001b[0m\u001b[0;32m    705\u001b[0m             \u001b[1;32mexcept\u001b[0m \u001b[0mtimeout\u001b[0m\u001b[1;33m:\u001b[0m\u001b[1;33m\u001b[0m\u001b[1;33m\u001b[0m\u001b[0m\n",
      "\u001b[1;32mC:\\ProgramData\\Anaconda3\\lib\\ssl.py\u001b[0m in \u001b[0;36mrecv_into\u001b[1;34m(self, buffer, nbytes, flags)\u001b[0m\n\u001b[0;32m   1241\u001b[0m                   self.__class__)\n\u001b[1;32m-> 1242\u001b[1;33m             \u001b[1;32mreturn\u001b[0m \u001b[0mself\u001b[0m\u001b[1;33m.\u001b[0m\u001b[0mread\u001b[0m\u001b[1;33m(\u001b[0m\u001b[0mnbytes\u001b[0m\u001b[1;33m,\u001b[0m \u001b[0mbuffer\u001b[0m\u001b[1;33m)\u001b[0m\u001b[1;33m\u001b[0m\u001b[1;33m\u001b[0m\u001b[0m\n\u001b[0m\u001b[0;32m   1243\u001b[0m         \u001b[1;32melse\u001b[0m\u001b[1;33m:\u001b[0m\u001b[1;33m\u001b[0m\u001b[1;33m\u001b[0m\u001b[0m\n",
      "\u001b[1;32mC:\\ProgramData\\Anaconda3\\lib\\ssl.py\u001b[0m in \u001b[0;36mread\u001b[1;34m(self, len, buffer)\u001b[0m\n\u001b[0;32m   1099\u001b[0m             \u001b[1;32mif\u001b[0m \u001b[0mbuffer\u001b[0m \u001b[1;32mis\u001b[0m \u001b[1;32mnot\u001b[0m \u001b[1;32mNone\u001b[0m\u001b[1;33m:\u001b[0m\u001b[1;33m\u001b[0m\u001b[1;33m\u001b[0m\u001b[0m\n\u001b[1;32m-> 1100\u001b[1;33m                 \u001b[1;32mreturn\u001b[0m \u001b[0mself\u001b[0m\u001b[1;33m.\u001b[0m\u001b[0m_sslobj\u001b[0m\u001b[1;33m.\u001b[0m\u001b[0mread\u001b[0m\u001b[1;33m(\u001b[0m\u001b[0mlen\u001b[0m\u001b[1;33m,\u001b[0m \u001b[0mbuffer\u001b[0m\u001b[1;33m)\u001b[0m\u001b[1;33m\u001b[0m\u001b[1;33m\u001b[0m\u001b[0m\n\u001b[0m\u001b[0;32m   1101\u001b[0m             \u001b[1;32melse\u001b[0m\u001b[1;33m:\u001b[0m\u001b[1;33m\u001b[0m\u001b[1;33m\u001b[0m\u001b[0m\n",
      "\u001b[1;31mtimeout\u001b[0m: The read operation timed out",
      "\nDuring handling of the above exception, another exception occurred:\n",
      "\u001b[1;31mReadTimeoutError\u001b[0m                          Traceback (most recent call last)",
      "\u001b[1;32mC:\\ProgramData\\Anaconda3\\lib\\site-packages\\requests\\models.py\u001b[0m in \u001b[0;36mgenerate\u001b[1;34m()\u001b[0m\n\u001b[0;32m    815\u001b[0m                 \u001b[1;32mtry\u001b[0m\u001b[1;33m:\u001b[0m\u001b[1;33m\u001b[0m\u001b[1;33m\u001b[0m\u001b[0m\n\u001b[1;32m--> 816\u001b[1;33m                     \u001b[1;32myield\u001b[0m \u001b[1;32mfrom\u001b[0m \u001b[0mself\u001b[0m\u001b[1;33m.\u001b[0m\u001b[0mraw\u001b[0m\u001b[1;33m.\u001b[0m\u001b[0mstream\u001b[0m\u001b[1;33m(\u001b[0m\u001b[0mchunk_size\u001b[0m\u001b[1;33m,\u001b[0m \u001b[0mdecode_content\u001b[0m\u001b[1;33m=\u001b[0m\u001b[1;32mTrue\u001b[0m\u001b[1;33m)\u001b[0m\u001b[1;33m\u001b[0m\u001b[1;33m\u001b[0m\u001b[0m\n\u001b[0m\u001b[0;32m    817\u001b[0m                 \u001b[1;32mexcept\u001b[0m \u001b[0mProtocolError\u001b[0m \u001b[1;32mas\u001b[0m \u001b[0me\u001b[0m\u001b[1;33m:\u001b[0m\u001b[1;33m\u001b[0m\u001b[1;33m\u001b[0m\u001b[0m\n",
      "\u001b[1;32mC:\\ProgramData\\Anaconda3\\lib\\site-packages\\urllib3\\response.py\u001b[0m in \u001b[0;36mstream\u001b[1;34m(self, amt, decode_content)\u001b[0m\n\u001b[0;32m    626\u001b[0m             \u001b[1;32mwhile\u001b[0m \u001b[1;32mnot\u001b[0m \u001b[0mis_fp_closed\u001b[0m\u001b[1;33m(\u001b[0m\u001b[0mself\u001b[0m\u001b[1;33m.\u001b[0m\u001b[0m_fp\u001b[0m\u001b[1;33m)\u001b[0m\u001b[1;33m:\u001b[0m\u001b[1;33m\u001b[0m\u001b[1;33m\u001b[0m\u001b[0m\n\u001b[1;32m--> 627\u001b[1;33m                 \u001b[0mdata\u001b[0m \u001b[1;33m=\u001b[0m \u001b[0mself\u001b[0m\u001b[1;33m.\u001b[0m\u001b[0mread\u001b[0m\u001b[1;33m(\u001b[0m\u001b[0mamt\u001b[0m\u001b[1;33m=\u001b[0m\u001b[0mamt\u001b[0m\u001b[1;33m,\u001b[0m \u001b[0mdecode_content\u001b[0m\u001b[1;33m=\u001b[0m\u001b[0mdecode_content\u001b[0m\u001b[1;33m)\u001b[0m\u001b[1;33m\u001b[0m\u001b[1;33m\u001b[0m\u001b[0m\n\u001b[0m\u001b[0;32m    628\u001b[0m \u001b[1;33m\u001b[0m\u001b[0m\n",
      "\u001b[1;32mC:\\ProgramData\\Anaconda3\\lib\\site-packages\\urllib3\\response.py\u001b[0m in \u001b[0;36mread\u001b[1;34m(self, amt, decode_content, cache_content)\u001b[0m\n\u001b[0;32m    591\u001b[0m                         \u001b[1;31m# Content-Length are caught.\u001b[0m\u001b[1;33m\u001b[0m\u001b[1;33m\u001b[0m\u001b[0m\n\u001b[1;32m--> 592\u001b[1;33m                         \u001b[1;32mraise\u001b[0m \u001b[0mIncompleteRead\u001b[0m\u001b[1;33m(\u001b[0m\u001b[0mself\u001b[0m\u001b[1;33m.\u001b[0m\u001b[0m_fp_bytes_read\u001b[0m\u001b[1;33m,\u001b[0m \u001b[0mself\u001b[0m\u001b[1;33m.\u001b[0m\u001b[0mlength_remaining\u001b[0m\u001b[1;33m)\u001b[0m\u001b[1;33m\u001b[0m\u001b[1;33m\u001b[0m\u001b[0m\n\u001b[0m\u001b[0;32m    593\u001b[0m \u001b[1;33m\u001b[0m\u001b[0m\n",
      "\u001b[1;32mC:\\ProgramData\\Anaconda3\\lib\\contextlib.py\u001b[0m in \u001b[0;36m__exit__\u001b[1;34m(self, typ, value, traceback)\u001b[0m\n\u001b[0;32m    136\u001b[0m             \u001b[1;32mtry\u001b[0m\u001b[1;33m:\u001b[0m\u001b[1;33m\u001b[0m\u001b[1;33m\u001b[0m\u001b[0m\n\u001b[1;32m--> 137\u001b[1;33m                 \u001b[0mself\u001b[0m\u001b[1;33m.\u001b[0m\u001b[0mgen\u001b[0m\u001b[1;33m.\u001b[0m\u001b[0mthrow\u001b[0m\u001b[1;33m(\u001b[0m\u001b[0mtyp\u001b[0m\u001b[1;33m,\u001b[0m \u001b[0mvalue\u001b[0m\u001b[1;33m,\u001b[0m \u001b[0mtraceback\u001b[0m\u001b[1;33m)\u001b[0m\u001b[1;33m\u001b[0m\u001b[1;33m\u001b[0m\u001b[0m\n\u001b[0m\u001b[0;32m    138\u001b[0m             \u001b[1;32mexcept\u001b[0m \u001b[0mStopIteration\u001b[0m \u001b[1;32mas\u001b[0m \u001b[0mexc\u001b[0m\u001b[1;33m:\u001b[0m\u001b[1;33m\u001b[0m\u001b[1;33m\u001b[0m\u001b[0m\n",
      "\u001b[1;32mC:\\ProgramData\\Anaconda3\\lib\\site-packages\\urllib3\\response.py\u001b[0m in \u001b[0;36m_error_catcher\u001b[1;34m(self)\u001b[0m\n\u001b[0;32m    447\u001b[0m                 \u001b[1;31m# there is yet no clean way to get at it from this context.\u001b[0m\u001b[1;33m\u001b[0m\u001b[1;33m\u001b[0m\u001b[0m\n\u001b[1;32m--> 448\u001b[1;33m                 \u001b[1;32mraise\u001b[0m \u001b[0mReadTimeoutError\u001b[0m\u001b[1;33m(\u001b[0m\u001b[0mself\u001b[0m\u001b[1;33m.\u001b[0m\u001b[0m_pool\u001b[0m\u001b[1;33m,\u001b[0m \u001b[1;32mNone\u001b[0m\u001b[1;33m,\u001b[0m \u001b[1;34m\"Read timed out.\"\u001b[0m\u001b[1;33m)\u001b[0m\u001b[1;33m\u001b[0m\u001b[1;33m\u001b[0m\u001b[0m\n\u001b[0m\u001b[0;32m    449\u001b[0m \u001b[1;33m\u001b[0m\u001b[0m\n",
      "\u001b[1;31mReadTimeoutError\u001b[0m: HTTPSConnectionPool(host='cdn-lfs.huggingface.co', port=443): Read timed out.",
      "\nDuring handling of the above exception, another exception occurred:\n",
      "\u001b[1;31mConnectionError\u001b[0m                           Traceback (most recent call last)",
      "\u001b[1;32m~\\AppData\\Local\\Temp\\ipykernel_12124\\821699961.py\u001b[0m in \u001b[0;36m<module>\u001b[1;34m\u001b[0m\n\u001b[0;32m      1\u001b[0m \u001b[1;32mfrom\u001b[0m \u001b[0mtransformers\u001b[0m \u001b[1;32mimport\u001b[0m \u001b[0mAutoModelForTokenClassification\u001b[0m\u001b[1;33m,\u001b[0m \u001b[0mAutoProcessor\u001b[0m\u001b[1;33m\u001b[0m\u001b[1;33m\u001b[0m\u001b[0m\n\u001b[0;32m      2\u001b[0m \u001b[1;33m\u001b[0m\u001b[0m\n\u001b[1;32m----> 3\u001b[1;33m \u001b[0mmodel\u001b[0m \u001b[1;33m=\u001b[0m \u001b[0mAutoModelForTokenClassification\u001b[0m\u001b[1;33m.\u001b[0m\u001b[0mfrom_pretrained\u001b[0m\u001b[1;33m(\u001b[0m\u001b[1;34m\"Anorak/layoutlmv3-finetuned-cord_100\"\u001b[0m\u001b[1;33m)\u001b[0m\u001b[1;33m\u001b[0m\u001b[1;33m\u001b[0m\u001b[0m\n\u001b[0m",
      "\u001b[1;32m~\\AppData\\Roaming\\Python\\Python39\\site-packages\\transformers\\models\\auto\\auto_factory.py\u001b[0m in \u001b[0;36mfrom_pretrained\u001b[1;34m(cls, pretrained_model_name_or_path, *model_args, **kwargs)\u001b[0m\n\u001b[0;32m    461\u001b[0m         \u001b[1;32melif\u001b[0m \u001b[0mtype\u001b[0m\u001b[1;33m(\u001b[0m\u001b[0mconfig\u001b[0m\u001b[1;33m)\u001b[0m \u001b[1;32min\u001b[0m \u001b[0mcls\u001b[0m\u001b[1;33m.\u001b[0m\u001b[0m_model_mapping\u001b[0m\u001b[1;33m.\u001b[0m\u001b[0mkeys\u001b[0m\u001b[1;33m(\u001b[0m\u001b[1;33m)\u001b[0m\u001b[1;33m:\u001b[0m\u001b[1;33m\u001b[0m\u001b[1;33m\u001b[0m\u001b[0m\n\u001b[0;32m    462\u001b[0m             \u001b[0mmodel_class\u001b[0m \u001b[1;33m=\u001b[0m \u001b[0m_get_model_class\u001b[0m\u001b[1;33m(\u001b[0m\u001b[0mconfig\u001b[0m\u001b[1;33m,\u001b[0m \u001b[0mcls\u001b[0m\u001b[1;33m.\u001b[0m\u001b[0m_model_mapping\u001b[0m\u001b[1;33m)\u001b[0m\u001b[1;33m\u001b[0m\u001b[1;33m\u001b[0m\u001b[0m\n\u001b[1;32m--> 463\u001b[1;33m             return model_class.from_pretrained(\n\u001b[0m\u001b[0;32m    464\u001b[0m                 \u001b[0mpretrained_model_name_or_path\u001b[0m\u001b[1;33m,\u001b[0m \u001b[1;33m*\u001b[0m\u001b[0mmodel_args\u001b[0m\u001b[1;33m,\u001b[0m \u001b[0mconfig\u001b[0m\u001b[1;33m=\u001b[0m\u001b[0mconfig\u001b[0m\u001b[1;33m,\u001b[0m \u001b[1;33m**\u001b[0m\u001b[0mhub_kwargs\u001b[0m\u001b[1;33m,\u001b[0m \u001b[1;33m**\u001b[0m\u001b[0mkwargs\u001b[0m\u001b[1;33m\u001b[0m\u001b[1;33m\u001b[0m\u001b[0m\n\u001b[0;32m    465\u001b[0m             )\n",
      "\u001b[1;32m~\\AppData\\Roaming\\Python\\Python39\\site-packages\\transformers\\modeling_utils.py\u001b[0m in \u001b[0;36mfrom_pretrained\u001b[1;34m(cls, pretrained_model_name_or_path, *model_args, **kwargs)\u001b[0m\n\u001b[0;32m   2135\u001b[0m                         \u001b[0m_commit_hash\u001b[0m\u001b[1;33m=\u001b[0m\u001b[0mcommit_hash\u001b[0m\u001b[1;33m,\u001b[0m\u001b[1;33m\u001b[0m\u001b[1;33m\u001b[0m\u001b[0m\n\u001b[0;32m   2136\u001b[0m                     )\n\u001b[1;32m-> 2137\u001b[1;33m                     \u001b[0mresolved_archive_file\u001b[0m \u001b[1;33m=\u001b[0m \u001b[0mcached_file\u001b[0m\u001b[1;33m(\u001b[0m\u001b[0mpretrained_model_name_or_path\u001b[0m\u001b[1;33m,\u001b[0m \u001b[0mfilename\u001b[0m\u001b[1;33m,\u001b[0m \u001b[1;33m**\u001b[0m\u001b[0mcached_file_kwargs\u001b[0m\u001b[1;33m)\u001b[0m\u001b[1;33m\u001b[0m\u001b[1;33m\u001b[0m\u001b[0m\n\u001b[0m\u001b[0;32m   2138\u001b[0m \u001b[1;33m\u001b[0m\u001b[0m\n\u001b[0;32m   2139\u001b[0m                     \u001b[1;31m# Since we set _raise_exceptions_for_missing_entries=False, we don't get an exception but a None\u001b[0m\u001b[1;33m\u001b[0m\u001b[1;33m\u001b[0m\u001b[0m\n",
      "\u001b[1;32m~\\AppData\\Roaming\\Python\\Python39\\site-packages\\transformers\\utils\\hub.py\u001b[0m in \u001b[0;36mcached_file\u001b[1;34m(path_or_repo_id, filename, cache_dir, force_download, resume_download, proxies, use_auth_token, revision, local_files_only, subfolder, user_agent, _raise_exceptions_for_missing_entries, _raise_exceptions_for_connection_errors, _commit_hash)\u001b[0m\n\u001b[0;32m    407\u001b[0m     \u001b[1;32mtry\u001b[0m\u001b[1;33m:\u001b[0m\u001b[1;33m\u001b[0m\u001b[1;33m\u001b[0m\u001b[0m\n\u001b[0;32m    408\u001b[0m         \u001b[1;31m# Load from URL or cache if already cached\u001b[0m\u001b[1;33m\u001b[0m\u001b[1;33m\u001b[0m\u001b[0m\n\u001b[1;32m--> 409\u001b[1;33m         resolved_file = hf_hub_download(\n\u001b[0m\u001b[0;32m    410\u001b[0m             \u001b[0mpath_or_repo_id\u001b[0m\u001b[1;33m,\u001b[0m\u001b[1;33m\u001b[0m\u001b[1;33m\u001b[0m\u001b[0m\n\u001b[0;32m    411\u001b[0m             \u001b[0mfilename\u001b[0m\u001b[1;33m,\u001b[0m\u001b[1;33m\u001b[0m\u001b[1;33m\u001b[0m\u001b[0m\n",
      "\u001b[1;32m~\\AppData\\Roaming\\Python\\Python39\\site-packages\\huggingface_hub\\utils\\_validators.py\u001b[0m in \u001b[0;36m_inner_fn\u001b[1;34m(*args, **kwargs)\u001b[0m\n\u001b[0;32m    122\u001b[0m             )\n\u001b[0;32m    123\u001b[0m \u001b[1;33m\u001b[0m\u001b[0m\n\u001b[1;32m--> 124\u001b[1;33m         \u001b[1;32mreturn\u001b[0m \u001b[0mfn\u001b[0m\u001b[1;33m(\u001b[0m\u001b[1;33m*\u001b[0m\u001b[0margs\u001b[0m\u001b[1;33m,\u001b[0m \u001b[1;33m**\u001b[0m\u001b[0mkwargs\u001b[0m\u001b[1;33m)\u001b[0m\u001b[1;33m\u001b[0m\u001b[1;33m\u001b[0m\u001b[0m\n\u001b[0m\u001b[0;32m    125\u001b[0m \u001b[1;33m\u001b[0m\u001b[0m\n\u001b[0;32m    126\u001b[0m     \u001b[1;32mreturn\u001b[0m \u001b[0m_inner_fn\u001b[0m  \u001b[1;31m# type: ignore\u001b[0m\u001b[1;33m\u001b[0m\u001b[1;33m\u001b[0m\u001b[0m\n",
      "\u001b[1;32m~\\AppData\\Roaming\\Python\\Python39\\site-packages\\huggingface_hub\\file_download.py\u001b[0m in \u001b[0;36mhf_hub_download\u001b[1;34m(repo_id, filename, subfolder, repo_type, revision, library_name, library_version, cache_dir, user_agent, force_download, force_filename, proxies, etag_timeout, resume_download, token, local_files_only, legacy_cache_layout)\u001b[0m\n\u001b[0;32m   1240\u001b[0m             \u001b[0mlogger\u001b[0m\u001b[1;33m.\u001b[0m\u001b[0minfo\u001b[0m\u001b[1;33m(\u001b[0m\u001b[1;34m\"downloading %s to %s\"\u001b[0m\u001b[1;33m,\u001b[0m \u001b[0murl\u001b[0m\u001b[1;33m,\u001b[0m \u001b[0mtemp_file\u001b[0m\u001b[1;33m.\u001b[0m\u001b[0mname\u001b[0m\u001b[1;33m)\u001b[0m\u001b[1;33m\u001b[0m\u001b[1;33m\u001b[0m\u001b[0m\n\u001b[0;32m   1241\u001b[0m \u001b[1;33m\u001b[0m\u001b[0m\n\u001b[1;32m-> 1242\u001b[1;33m             http_get(\n\u001b[0m\u001b[0;32m   1243\u001b[0m                 \u001b[0murl_to_download\u001b[0m\u001b[1;33m,\u001b[0m\u001b[1;33m\u001b[0m\u001b[1;33m\u001b[0m\u001b[0m\n\u001b[0;32m   1244\u001b[0m                 \u001b[0mtemp_file\u001b[0m\u001b[1;33m,\u001b[0m\u001b[1;33m\u001b[0m\u001b[1;33m\u001b[0m\u001b[0m\n",
      "\u001b[1;32m~\\AppData\\Roaming\\Python\\Python39\\site-packages\\huggingface_hub\\file_download.py\u001b[0m in \u001b[0;36mhttp_get\u001b[1;34m(url, temp_file, proxies, resume_size, headers, timeout, max_retries)\u001b[0m\n\u001b[0;32m    493\u001b[0m         \u001b[0mdisable\u001b[0m\u001b[1;33m=\u001b[0m\u001b[0mbool\u001b[0m\u001b[1;33m(\u001b[0m\u001b[0mlogger\u001b[0m\u001b[1;33m.\u001b[0m\u001b[0mgetEffectiveLevel\u001b[0m\u001b[1;33m(\u001b[0m\u001b[1;33m)\u001b[0m \u001b[1;33m==\u001b[0m \u001b[0mlogging\u001b[0m\u001b[1;33m.\u001b[0m\u001b[0mNOTSET\u001b[0m\u001b[1;33m)\u001b[0m\u001b[1;33m,\u001b[0m\u001b[1;33m\u001b[0m\u001b[1;33m\u001b[0m\u001b[0m\n\u001b[0;32m    494\u001b[0m     )\n\u001b[1;32m--> 495\u001b[1;33m     \u001b[1;32mfor\u001b[0m \u001b[0mchunk\u001b[0m \u001b[1;32min\u001b[0m \u001b[0mr\u001b[0m\u001b[1;33m.\u001b[0m\u001b[0miter_content\u001b[0m\u001b[1;33m(\u001b[0m\u001b[0mchunk_size\u001b[0m\u001b[1;33m=\u001b[0m\u001b[1;36m1024\u001b[0m\u001b[1;33m)\u001b[0m\u001b[1;33m:\u001b[0m\u001b[1;33m\u001b[0m\u001b[1;33m\u001b[0m\u001b[0m\n\u001b[0m\u001b[0;32m    496\u001b[0m         \u001b[1;32mif\u001b[0m \u001b[0mchunk\u001b[0m\u001b[1;33m:\u001b[0m  \u001b[1;31m# filter out keep-alive new chunks\u001b[0m\u001b[1;33m\u001b[0m\u001b[1;33m\u001b[0m\u001b[0m\n\u001b[0;32m    497\u001b[0m             \u001b[0mprogress\u001b[0m\u001b[1;33m.\u001b[0m\u001b[0mupdate\u001b[0m\u001b[1;33m(\u001b[0m\u001b[0mlen\u001b[0m\u001b[1;33m(\u001b[0m\u001b[0mchunk\u001b[0m\u001b[1;33m)\u001b[0m\u001b[1;33m)\u001b[0m\u001b[1;33m\u001b[0m\u001b[1;33m\u001b[0m\u001b[0m\n",
      "\u001b[1;32mC:\\ProgramData\\Anaconda3\\lib\\site-packages\\requests\\models.py\u001b[0m in \u001b[0;36mgenerate\u001b[1;34m()\u001b[0m\n\u001b[0;32m    820\u001b[0m                     \u001b[1;32mraise\u001b[0m \u001b[0mContentDecodingError\u001b[0m\u001b[1;33m(\u001b[0m\u001b[0me\u001b[0m\u001b[1;33m)\u001b[0m\u001b[1;33m\u001b[0m\u001b[1;33m\u001b[0m\u001b[0m\n\u001b[0;32m    821\u001b[0m                 \u001b[1;32mexcept\u001b[0m \u001b[0mReadTimeoutError\u001b[0m \u001b[1;32mas\u001b[0m \u001b[0me\u001b[0m\u001b[1;33m:\u001b[0m\u001b[1;33m\u001b[0m\u001b[1;33m\u001b[0m\u001b[0m\n\u001b[1;32m--> 822\u001b[1;33m                     \u001b[1;32mraise\u001b[0m \u001b[0mConnectionError\u001b[0m\u001b[1;33m(\u001b[0m\u001b[0me\u001b[0m\u001b[1;33m)\u001b[0m\u001b[1;33m\u001b[0m\u001b[1;33m\u001b[0m\u001b[0m\n\u001b[0m\u001b[0;32m    823\u001b[0m                 \u001b[1;32mexcept\u001b[0m \u001b[0mSSLError\u001b[0m \u001b[1;32mas\u001b[0m \u001b[0me\u001b[0m\u001b[1;33m:\u001b[0m\u001b[1;33m\u001b[0m\u001b[1;33m\u001b[0m\u001b[0m\n\u001b[0;32m    824\u001b[0m                     \u001b[1;32mraise\u001b[0m \u001b[0mRequestsSSLError\u001b[0m\u001b[1;33m(\u001b[0m\u001b[0me\u001b[0m\u001b[1;33m)\u001b[0m\u001b[1;33m\u001b[0m\u001b[1;33m\u001b[0m\u001b[0m\n",
      "\u001b[1;31mConnectionError\u001b[0m: HTTPSConnectionPool(host='cdn-lfs.huggingface.co', port=443): Read timed out."
     ]
    }
   ],
   "source": [
    "from transformers import AutoModelForTokenClassification, AutoProcessor\n",
    "\n",
    "model = AutoModelForTokenClassification.from_pretrained(\"Anorak/layoutlmv3-finetuned-cord_100\")"
   ]
  },
  {
   "cell_type": "markdown",
   "metadata": {
    "id": "JxVz2vQYHsQa"
   },
   "source": [
    "Move the model to the GPU"
   ]
  },
  {
   "cell_type": "code",
   "execution_count": 34,
   "metadata": {
    "colab": {
     "base_uri": "https://localhost:8080/"
    },
    "id": "6baZ6c3aGWVc",
    "outputId": "fb862e02-1a61-41ff-ff86-0dc557ca82fb"
   },
   "outputs": [
    {
     "data": {
      "text/plain": [
       "LayoutLMv3ForTokenClassification(\n",
       "  (layoutlmv3): LayoutLMv3Model(\n",
       "    (embeddings): LayoutLMv3TextEmbeddings(\n",
       "      (word_embeddings): Embedding(50265, 768, padding_idx=1)\n",
       "      (token_type_embeddings): Embedding(1, 768)\n",
       "      (LayerNorm): LayerNorm((768,), eps=1e-05, elementwise_affine=True)\n",
       "      (dropout): Dropout(p=0.1, inplace=False)\n",
       "      (position_embeddings): Embedding(514, 768, padding_idx=1)\n",
       "      (x_position_embeddings): Embedding(1024, 128)\n",
       "      (y_position_embeddings): Embedding(1024, 128)\n",
       "      (h_position_embeddings): Embedding(1024, 128)\n",
       "      (w_position_embeddings): Embedding(1024, 128)\n",
       "    )\n",
       "    (patch_embed): LayoutLMv3PatchEmbeddings(\n",
       "      (proj): Conv2d(3, 768, kernel_size=(16, 16), stride=(16, 16))\n",
       "    )\n",
       "    (pos_drop): Dropout(p=0.0, inplace=False)\n",
       "    (LayerNorm): LayerNorm((768,), eps=1e-05, elementwise_affine=True)\n",
       "    (dropout): Dropout(p=0.1, inplace=False)\n",
       "    (norm): LayerNorm((768,), eps=1e-06, elementwise_affine=True)\n",
       "    (encoder): LayoutLMv3Encoder(\n",
       "      (layer): ModuleList(\n",
       "        (0): LayoutLMv3Layer(\n",
       "          (attention): LayoutLMv3Attention(\n",
       "            (self): LayoutLMv3SelfAttention(\n",
       "              (query): Linear(in_features=768, out_features=768, bias=True)\n",
       "              (key): Linear(in_features=768, out_features=768, bias=True)\n",
       "              (value): Linear(in_features=768, out_features=768, bias=True)\n",
       "              (dropout): Dropout(p=0.1, inplace=False)\n",
       "            )\n",
       "            (output): LayoutLMv3SelfOutput(\n",
       "              (dense): Linear(in_features=768, out_features=768, bias=True)\n",
       "              (LayerNorm): LayerNorm((768,), eps=1e-05, elementwise_affine=True)\n",
       "              (dropout): Dropout(p=0.1, inplace=False)\n",
       "            )\n",
       "          )\n",
       "          (intermediate): LayoutLMv3Intermediate(\n",
       "            (dense): Linear(in_features=768, out_features=3072, bias=True)\n",
       "            (intermediate_act_fn): GELUActivation()\n",
       "          )\n",
       "          (output): LayoutLMv3Output(\n",
       "            (dense): Linear(in_features=3072, out_features=768, bias=True)\n",
       "            (LayerNorm): LayerNorm((768,), eps=1e-05, elementwise_affine=True)\n",
       "            (dropout): Dropout(p=0.1, inplace=False)\n",
       "          )\n",
       "        )\n",
       "        (1): LayoutLMv3Layer(\n",
       "          (attention): LayoutLMv3Attention(\n",
       "            (self): LayoutLMv3SelfAttention(\n",
       "              (query): Linear(in_features=768, out_features=768, bias=True)\n",
       "              (key): Linear(in_features=768, out_features=768, bias=True)\n",
       "              (value): Linear(in_features=768, out_features=768, bias=True)\n",
       "              (dropout): Dropout(p=0.1, inplace=False)\n",
       "            )\n",
       "            (output): LayoutLMv3SelfOutput(\n",
       "              (dense): Linear(in_features=768, out_features=768, bias=True)\n",
       "              (LayerNorm): LayerNorm((768,), eps=1e-05, elementwise_affine=True)\n",
       "              (dropout): Dropout(p=0.1, inplace=False)\n",
       "            )\n",
       "          )\n",
       "          (intermediate): LayoutLMv3Intermediate(\n",
       "            (dense): Linear(in_features=768, out_features=3072, bias=True)\n",
       "            (intermediate_act_fn): GELUActivation()\n",
       "          )\n",
       "          (output): LayoutLMv3Output(\n",
       "            (dense): Linear(in_features=3072, out_features=768, bias=True)\n",
       "            (LayerNorm): LayerNorm((768,), eps=1e-05, elementwise_affine=True)\n",
       "            (dropout): Dropout(p=0.1, inplace=False)\n",
       "          )\n",
       "        )\n",
       "        (2): LayoutLMv3Layer(\n",
       "          (attention): LayoutLMv3Attention(\n",
       "            (self): LayoutLMv3SelfAttention(\n",
       "              (query): Linear(in_features=768, out_features=768, bias=True)\n",
       "              (key): Linear(in_features=768, out_features=768, bias=True)\n",
       "              (value): Linear(in_features=768, out_features=768, bias=True)\n",
       "              (dropout): Dropout(p=0.1, inplace=False)\n",
       "            )\n",
       "            (output): LayoutLMv3SelfOutput(\n",
       "              (dense): Linear(in_features=768, out_features=768, bias=True)\n",
       "              (LayerNorm): LayerNorm((768,), eps=1e-05, elementwise_affine=True)\n",
       "              (dropout): Dropout(p=0.1, inplace=False)\n",
       "            )\n",
       "          )\n",
       "          (intermediate): LayoutLMv3Intermediate(\n",
       "            (dense): Linear(in_features=768, out_features=3072, bias=True)\n",
       "            (intermediate_act_fn): GELUActivation()\n",
       "          )\n",
       "          (output): LayoutLMv3Output(\n",
       "            (dense): Linear(in_features=3072, out_features=768, bias=True)\n",
       "            (LayerNorm): LayerNorm((768,), eps=1e-05, elementwise_affine=True)\n",
       "            (dropout): Dropout(p=0.1, inplace=False)\n",
       "          )\n",
       "        )\n",
       "        (3): LayoutLMv3Layer(\n",
       "          (attention): LayoutLMv3Attention(\n",
       "            (self): LayoutLMv3SelfAttention(\n",
       "              (query): Linear(in_features=768, out_features=768, bias=True)\n",
       "              (key): Linear(in_features=768, out_features=768, bias=True)\n",
       "              (value): Linear(in_features=768, out_features=768, bias=True)\n",
       "              (dropout): Dropout(p=0.1, inplace=False)\n",
       "            )\n",
       "            (output): LayoutLMv3SelfOutput(\n",
       "              (dense): Linear(in_features=768, out_features=768, bias=True)\n",
       "              (LayerNorm): LayerNorm((768,), eps=1e-05, elementwise_affine=True)\n",
       "              (dropout): Dropout(p=0.1, inplace=False)\n",
       "            )\n",
       "          )\n",
       "          (intermediate): LayoutLMv3Intermediate(\n",
       "            (dense): Linear(in_features=768, out_features=3072, bias=True)\n",
       "            (intermediate_act_fn): GELUActivation()\n",
       "          )\n",
       "          (output): LayoutLMv3Output(\n",
       "            (dense): Linear(in_features=3072, out_features=768, bias=True)\n",
       "            (LayerNorm): LayerNorm((768,), eps=1e-05, elementwise_affine=True)\n",
       "            (dropout): Dropout(p=0.1, inplace=False)\n",
       "          )\n",
       "        )\n",
       "        (4): LayoutLMv3Layer(\n",
       "          (attention): LayoutLMv3Attention(\n",
       "            (self): LayoutLMv3SelfAttention(\n",
       "              (query): Linear(in_features=768, out_features=768, bias=True)\n",
       "              (key): Linear(in_features=768, out_features=768, bias=True)\n",
       "              (value): Linear(in_features=768, out_features=768, bias=True)\n",
       "              (dropout): Dropout(p=0.1, inplace=False)\n",
       "            )\n",
       "            (output): LayoutLMv3SelfOutput(\n",
       "              (dense): Linear(in_features=768, out_features=768, bias=True)\n",
       "              (LayerNorm): LayerNorm((768,), eps=1e-05, elementwise_affine=True)\n",
       "              (dropout): Dropout(p=0.1, inplace=False)\n",
       "            )\n",
       "          )\n",
       "          (intermediate): LayoutLMv3Intermediate(\n",
       "            (dense): Linear(in_features=768, out_features=3072, bias=True)\n",
       "            (intermediate_act_fn): GELUActivation()\n",
       "          )\n",
       "          (output): LayoutLMv3Output(\n",
       "            (dense): Linear(in_features=3072, out_features=768, bias=True)\n",
       "            (LayerNorm): LayerNorm((768,), eps=1e-05, elementwise_affine=True)\n",
       "            (dropout): Dropout(p=0.1, inplace=False)\n",
       "          )\n",
       "        )\n",
       "        (5): LayoutLMv3Layer(\n",
       "          (attention): LayoutLMv3Attention(\n",
       "            (self): LayoutLMv3SelfAttention(\n",
       "              (query): Linear(in_features=768, out_features=768, bias=True)\n",
       "              (key): Linear(in_features=768, out_features=768, bias=True)\n",
       "              (value): Linear(in_features=768, out_features=768, bias=True)\n",
       "              (dropout): Dropout(p=0.1, inplace=False)\n",
       "            )\n",
       "            (output): LayoutLMv3SelfOutput(\n",
       "              (dense): Linear(in_features=768, out_features=768, bias=True)\n",
       "              (LayerNorm): LayerNorm((768,), eps=1e-05, elementwise_affine=True)\n",
       "              (dropout): Dropout(p=0.1, inplace=False)\n",
       "            )\n",
       "          )\n",
       "          (intermediate): LayoutLMv3Intermediate(\n",
       "            (dense): Linear(in_features=768, out_features=3072, bias=True)\n",
       "            (intermediate_act_fn): GELUActivation()\n",
       "          )\n",
       "          (output): LayoutLMv3Output(\n",
       "            (dense): Linear(in_features=3072, out_features=768, bias=True)\n",
       "            (LayerNorm): LayerNorm((768,), eps=1e-05, elementwise_affine=True)\n",
       "            (dropout): Dropout(p=0.1, inplace=False)\n",
       "          )\n",
       "        )\n",
       "        (6): LayoutLMv3Layer(\n",
       "          (attention): LayoutLMv3Attention(\n",
       "            (self): LayoutLMv3SelfAttention(\n",
       "              (query): Linear(in_features=768, out_features=768, bias=True)\n",
       "              (key): Linear(in_features=768, out_features=768, bias=True)\n",
       "              (value): Linear(in_features=768, out_features=768, bias=True)\n",
       "              (dropout): Dropout(p=0.1, inplace=False)\n",
       "            )\n",
       "            (output): LayoutLMv3SelfOutput(\n",
       "              (dense): Linear(in_features=768, out_features=768, bias=True)\n",
       "              (LayerNorm): LayerNorm((768,), eps=1e-05, elementwise_affine=True)\n",
       "              (dropout): Dropout(p=0.1, inplace=False)\n",
       "            )\n",
       "          )\n",
       "          (intermediate): LayoutLMv3Intermediate(\n",
       "            (dense): Linear(in_features=768, out_features=3072, bias=True)\n",
       "            (intermediate_act_fn): GELUActivation()\n",
       "          )\n",
       "          (output): LayoutLMv3Output(\n",
       "            (dense): Linear(in_features=3072, out_features=768, bias=True)\n",
       "            (LayerNorm): LayerNorm((768,), eps=1e-05, elementwise_affine=True)\n",
       "            (dropout): Dropout(p=0.1, inplace=False)\n",
       "          )\n",
       "        )\n",
       "        (7): LayoutLMv3Layer(\n",
       "          (attention): LayoutLMv3Attention(\n",
       "            (self): LayoutLMv3SelfAttention(\n",
       "              (query): Linear(in_features=768, out_features=768, bias=True)\n",
       "              (key): Linear(in_features=768, out_features=768, bias=True)\n",
       "              (value): Linear(in_features=768, out_features=768, bias=True)\n",
       "              (dropout): Dropout(p=0.1, inplace=False)\n",
       "            )\n",
       "            (output): LayoutLMv3SelfOutput(\n",
       "              (dense): Linear(in_features=768, out_features=768, bias=True)\n",
       "              (LayerNorm): LayerNorm((768,), eps=1e-05, elementwise_affine=True)\n",
       "              (dropout): Dropout(p=0.1, inplace=False)\n",
       "            )\n",
       "          )\n",
       "          (intermediate): LayoutLMv3Intermediate(\n",
       "            (dense): Linear(in_features=768, out_features=3072, bias=True)\n",
       "            (intermediate_act_fn): GELUActivation()\n",
       "          )\n",
       "          (output): LayoutLMv3Output(\n",
       "            (dense): Linear(in_features=3072, out_features=768, bias=True)\n",
       "            (LayerNorm): LayerNorm((768,), eps=1e-05, elementwise_affine=True)\n",
       "            (dropout): Dropout(p=0.1, inplace=False)\n",
       "          )\n",
       "        )\n",
       "        (8): LayoutLMv3Layer(\n",
       "          (attention): LayoutLMv3Attention(\n",
       "            (self): LayoutLMv3SelfAttention(\n",
       "              (query): Linear(in_features=768, out_features=768, bias=True)\n",
       "              (key): Linear(in_features=768, out_features=768, bias=True)\n",
       "              (value): Linear(in_features=768, out_features=768, bias=True)\n",
       "              (dropout): Dropout(p=0.1, inplace=False)\n",
       "            )\n",
       "            (output): LayoutLMv3SelfOutput(\n",
       "              (dense): Linear(in_features=768, out_features=768, bias=True)\n",
       "              (LayerNorm): LayerNorm((768,), eps=1e-05, elementwise_affine=True)\n",
       "              (dropout): Dropout(p=0.1, inplace=False)\n",
       "            )\n",
       "          )\n",
       "          (intermediate): LayoutLMv3Intermediate(\n",
       "            (dense): Linear(in_features=768, out_features=3072, bias=True)\n",
       "            (intermediate_act_fn): GELUActivation()\n",
       "          )\n",
       "          (output): LayoutLMv3Output(\n",
       "            (dense): Linear(in_features=3072, out_features=768, bias=True)\n",
       "            (LayerNorm): LayerNorm((768,), eps=1e-05, elementwise_affine=True)\n",
       "            (dropout): Dropout(p=0.1, inplace=False)\n",
       "          )\n",
       "        )\n",
       "        (9): LayoutLMv3Layer(\n",
       "          (attention): LayoutLMv3Attention(\n",
       "            (self): LayoutLMv3SelfAttention(\n",
       "              (query): Linear(in_features=768, out_features=768, bias=True)\n",
       "              (key): Linear(in_features=768, out_features=768, bias=True)\n",
       "              (value): Linear(in_features=768, out_features=768, bias=True)\n",
       "              (dropout): Dropout(p=0.1, inplace=False)\n",
       "            )\n",
       "            (output): LayoutLMv3SelfOutput(\n",
       "              (dense): Linear(in_features=768, out_features=768, bias=True)\n",
       "              (LayerNorm): LayerNorm((768,), eps=1e-05, elementwise_affine=True)\n",
       "              (dropout): Dropout(p=0.1, inplace=False)\n",
       "            )\n",
       "          )\n",
       "          (intermediate): LayoutLMv3Intermediate(\n",
       "            (dense): Linear(in_features=768, out_features=3072, bias=True)\n",
       "            (intermediate_act_fn): GELUActivation()\n",
       "          )\n",
       "          (output): LayoutLMv3Output(\n",
       "            (dense): Linear(in_features=3072, out_features=768, bias=True)\n",
       "            (LayerNorm): LayerNorm((768,), eps=1e-05, elementwise_affine=True)\n",
       "            (dropout): Dropout(p=0.1, inplace=False)\n",
       "          )\n",
       "        )\n",
       "        (10): LayoutLMv3Layer(\n",
       "          (attention): LayoutLMv3Attention(\n",
       "            (self): LayoutLMv3SelfAttention(\n",
       "              (query): Linear(in_features=768, out_features=768, bias=True)\n",
       "              (key): Linear(in_features=768, out_features=768, bias=True)\n",
       "              (value): Linear(in_features=768, out_features=768, bias=True)\n",
       "              (dropout): Dropout(p=0.1, inplace=False)\n",
       "            )\n",
       "            (output): LayoutLMv3SelfOutput(\n",
       "              (dense): Linear(in_features=768, out_features=768, bias=True)\n",
       "              (LayerNorm): LayerNorm((768,), eps=1e-05, elementwise_affine=True)\n",
       "              (dropout): Dropout(p=0.1, inplace=False)\n",
       "            )\n",
       "          )\n",
       "          (intermediate): LayoutLMv3Intermediate(\n",
       "            (dense): Linear(in_features=768, out_features=3072, bias=True)\n",
       "            (intermediate_act_fn): GELUActivation()\n",
       "          )\n",
       "          (output): LayoutLMv3Output(\n",
       "            (dense): Linear(in_features=3072, out_features=768, bias=True)\n",
       "            (LayerNorm): LayerNorm((768,), eps=1e-05, elementwise_affine=True)\n",
       "            (dropout): Dropout(p=0.1, inplace=False)\n",
       "          )\n",
       "        )\n",
       "        (11): LayoutLMv3Layer(\n",
       "          (attention): LayoutLMv3Attention(\n",
       "            (self): LayoutLMv3SelfAttention(\n",
       "              (query): Linear(in_features=768, out_features=768, bias=True)\n",
       "              (key): Linear(in_features=768, out_features=768, bias=True)\n",
       "              (value): Linear(in_features=768, out_features=768, bias=True)\n",
       "              (dropout): Dropout(p=0.1, inplace=False)\n",
       "            )\n",
       "            (output): LayoutLMv3SelfOutput(\n",
       "              (dense): Linear(in_features=768, out_features=768, bias=True)\n",
       "              (LayerNorm): LayerNorm((768,), eps=1e-05, elementwise_affine=True)\n",
       "              (dropout): Dropout(p=0.1, inplace=False)\n",
       "            )\n",
       "          )\n",
       "          (intermediate): LayoutLMv3Intermediate(\n",
       "            (dense): Linear(in_features=768, out_features=3072, bias=True)\n",
       "            (intermediate_act_fn): GELUActivation()\n",
       "          )\n",
       "          (output): LayoutLMv3Output(\n",
       "            (dense): Linear(in_features=3072, out_features=768, bias=True)\n",
       "            (LayerNorm): LayerNorm((768,), eps=1e-05, elementwise_affine=True)\n",
       "            (dropout): Dropout(p=0.1, inplace=False)\n",
       "          )\n",
       "        )\n",
       "      )\n",
       "      (rel_pos_bias): Linear(in_features=32, out_features=12, bias=False)\n",
       "      (rel_pos_x_bias): Linear(in_features=64, out_features=12, bias=False)\n",
       "      (rel_pos_y_bias): Linear(in_features=64, out_features=12, bias=False)\n",
       "    )\n",
       "  )\n",
       "  (dropout): Dropout(p=0.1, inplace=False)\n",
       "  (classifier): LayoutLMv3ClassificationHead(\n",
       "    (dense): Linear(in_features=768, out_features=768, bias=True)\n",
       "    (dropout): Dropout(p=0.1, inplace=False)\n",
       "    (out_proj): Linear(in_features=768, out_features=61, bias=True)\n",
       "  )\n",
       ")"
      ]
     },
     "execution_count": 34,
     "metadata": {},
     "output_type": "execute_result"
    }
   ],
   "source": [
    "import torch\n",
    "device = torch.device('cuda' if torch.cuda.is_available() else 'cpu')\n",
    "model.to(device)"
   ]
  },
  {
   "cell_type": "markdown",
   "metadata": {
    "id": "87qRBQwwHwxu"
   },
   "source": [
    "Setup the preprocessing for the data and load one example for testing"
   ]
  },
  {
   "cell_type": "code",
   "execution_count": 35,
   "metadata": {
    "colab": {
     "base_uri": "https://localhost:8080/"
    },
    "id": "LVAY1JpaGW9R",
    "outputId": "3a7ebc69-b27a-4c68-8a1c-a060c499c289"
   },
   "outputs": [
    {
     "name": "stderr",
     "output_type": "stream",
     "text": [
      "loading configuration file preprocessor_config.json from cache at C:\\Users\\smart/.cache\\huggingface\\hub\\models--microsoft--layoutlmv3-base\\snapshots\\07c9b0838ccc7b49f4c284ccc96113d1dc527ff4\\preprocessor_config.json\n",
      "loading configuration file preprocessor_config.json from cache at C:\\Users\\smart/.cache\\huggingface\\hub\\models--microsoft--layoutlmv3-base\\snapshots\\07c9b0838ccc7b49f4c284ccc96113d1dc527ff4\\preprocessor_config.json\n",
      "loading configuration file config.json from cache at C:\\Users\\smart/.cache\\huggingface\\hub\\models--microsoft--layoutlmv3-base\\snapshots\\07c9b0838ccc7b49f4c284ccc96113d1dc527ff4\\config.json\n",
      "Model config LayoutLMv3Config {\n",
      "  \"_name_or_path\": \"microsoft/layoutlmv3-base\",\n",
      "  \"attention_probs_dropout_prob\": 0.1,\n",
      "  \"bos_token_id\": 0,\n",
      "  \"classifier_dropout\": null,\n",
      "  \"coordinate_size\": 128,\n",
      "  \"eos_token_id\": 2,\n",
      "  \"has_relative_attention_bias\": true,\n",
      "  \"has_spatial_attention_bias\": true,\n",
      "  \"hidden_act\": \"gelu\",\n",
      "  \"hidden_dropout_prob\": 0.1,\n",
      "  \"hidden_size\": 768,\n",
      "  \"initializer_range\": 0.02,\n",
      "  \"input_size\": 224,\n",
      "  \"intermediate_size\": 3072,\n",
      "  \"layer_norm_eps\": 1e-05,\n",
      "  \"max_2d_position_embeddings\": 1024,\n",
      "  \"max_position_embeddings\": 514,\n",
      "  \"max_rel_2d_pos\": 256,\n",
      "  \"max_rel_pos\": 128,\n",
      "  \"model_type\": \"layoutlmv3\",\n",
      "  \"num_attention_heads\": 12,\n",
      "  \"num_channels\": 3,\n",
      "  \"num_hidden_layers\": 12,\n",
      "  \"pad_token_id\": 1,\n",
      "  \"patch_size\": 16,\n",
      "  \"rel_2d_pos_bins\": 64,\n",
      "  \"rel_pos_bins\": 32,\n",
      "  \"second_input_size\": 112,\n",
      "  \"shape_size\": 128,\n",
      "  \"text_embed\": true,\n",
      "  \"torch_dtype\": \"float32\",\n",
      "  \"transformers_version\": \"4.25.1\",\n",
      "  \"type_vocab_size\": 1,\n",
      "  \"visual_embed\": true,\n",
      "  \"vocab_size\": 50265\n",
      "}\n",
      "\n",
      "loading configuration file preprocessor_config.json from cache at C:\\Users\\smart/.cache\\huggingface\\hub\\models--microsoft--layoutlmv3-base\\snapshots\\07c9b0838ccc7b49f4c284ccc96113d1dc527ff4\\preprocessor_config.json\n",
      "{param_name} should be a dictionary on of the following set of keys: {VALID_SIZE_DICT_KEYS}, got {size}. Converted to {size_dict}.\n",
      "Image processor LayoutLMv3ImageProcessor {\n",
      "  \"apply_ocr\": false,\n",
      "  \"do_normalize\": true,\n",
      "  \"do_rescale\": true,\n",
      "  \"do_resize\": true,\n",
      "  \"feature_extractor_type\": \"LayoutLMv3FeatureExtractor\",\n",
      "  \"image_mean\": [\n",
      "    0.5,\n",
      "    0.5,\n",
      "    0.5\n",
      "  ],\n",
      "  \"image_processor_type\": \"LayoutLMv3ImageProcessor\",\n",
      "  \"image_std\": [\n",
      "    0.5,\n",
      "    0.5,\n",
      "    0.5\n",
      "  ],\n",
      "  \"ocr_lang\": null,\n",
      "  \"resample\": 2,\n",
      "  \"rescale_factor\": 0.00392156862745098,\n",
      "  \"size\": {\n",
      "    \"height\": 224,\n",
      "    \"width\": 224\n",
      "  },\n",
      "  \"tesseract_config\": \"\"\n",
      "}\n",
      "\n",
      "loading file vocab.json from cache at C:\\Users\\smart/.cache\\huggingface\\hub\\models--microsoft--layoutlmv3-base\\snapshots\\07c9b0838ccc7b49f4c284ccc96113d1dc527ff4\\vocab.json\n",
      "loading file merges.txt from cache at C:\\Users\\smart/.cache\\huggingface\\hub\\models--microsoft--layoutlmv3-base\\snapshots\\07c9b0838ccc7b49f4c284ccc96113d1dc527ff4\\merges.txt\n",
      "loading file tokenizer.json from cache at None\n",
      "loading file added_tokens.json from cache at None\n",
      "loading file special_tokens_map.json from cache at None\n",
      "loading file tokenizer_config.json from cache at C:\\Users\\smart/.cache\\huggingface\\hub\\models--microsoft--layoutlmv3-base\\snapshots\\07c9b0838ccc7b49f4c284ccc96113d1dc527ff4\\tokenizer_config.json\n"
     ]
    },
    {
     "name": "stdout",
     "output_type": "stream",
     "text": [
      "dict_keys(['id', 'words', 'bboxes', 'ner_tags', 'image'])\n"
     ]
    }
   ],
   "source": [
    "#from transformers import LayoutLMv3Processor\n",
    "\n",
    "processor = AutoProcessor.from_pretrained(\"microsoft/layoutlmv3-base\", apply_ocr=False)\n",
    "example = dataset[\"test\"][0]\n",
    "image = example['image']\n",
    "print(example.keys())\n",
    "\n",
    "encoded_inputs = processor(example['image'], example['words'], boxes=example['bboxes'], word_labels=example['ner_tags'],\n",
    "                           padding=\"max_length\", truncation=True, return_tensors=\"pt\")"
   ]
  },
  {
   "cell_type": "markdown",
   "metadata": {
    "id": "SVap9g8YL_od"
   },
   "source": [
    "NOTE: at \"true inference\" time, you don't have access to labels, see the end of this notebook how you can use `offset_mapping` in that case."
   ]
  },
  {
   "cell_type": "code",
   "execution_count": 36,
   "metadata": {
    "id": "hjxkwKWBGW59"
   },
   "outputs": [],
   "source": [
    "labels = encoded_inputs.pop('labels').squeeze().tolist()\n",
    "for k,v in encoded_inputs.items():\n",
    "  encoded_inputs[k] = v.to(device)"
   ]
  },
  {
   "cell_type": "markdown",
   "metadata": {
    "id": "reymU39LTT7L"
   },
   "source": [
    "Get predictions"
   ]
  },
  {
   "cell_type": "code",
   "execution_count": 37,
   "metadata": {
    "colab": {
     "base_uri": "https://localhost:8080/"
    },
    "id": "lAEZK6qGIzpB",
    "outputId": "910f1f97-3241-42fe-ee18-8a1acc64ff72"
   },
   "outputs": [
    {
     "name": "stdout",
     "output_type": "stream",
     "text": [
      "torch.Size([1, 512, 61])\n"
     ]
    }
   ],
   "source": [
    "outputs = model(**encoded_inputs)\n",
    "print(outputs.logits.shape)"
   ]
  },
  {
   "cell_type": "markdown",
   "metadata": {
    "id": "zZkNE4E9JDq-"
   },
   "source": [
    "Convert the predictions into something useful for us"
   ]
  },
  {
   "cell_type": "markdown",
   "metadata": {
    "id": "GVMCx_YqL1Fc"
   },
   "source": [
    "So let's only compare predictions and labels at positions where the label isn't -100. We also want to have the bounding boxes of these (unnormalized):"
   ]
  },
  {
   "cell_type": "code",
   "execution_count": 38,
   "metadata": {
    "id": "92zkn00vGW2g"
   },
   "outputs": [],
   "source": [
    "def unnormalize_box(bbox, width, height):\n",
    "     return [\n",
    "         width * (bbox[0] / 1000),\n",
    "         height * (bbox[1] / 1000),\n",
    "         width * (bbox[2] / 1000),\n",
    "         height * (bbox[3] / 1000),\n",
    "     ]"
   ]
  },
  {
   "cell_type": "markdown",
   "metadata": {
    "id": "-R9R3fK-NRUW"
   },
   "source": [
    "Set features"
   ]
  },
  {
   "cell_type": "code",
   "execution_count": 39,
   "metadata": {
    "id": "fbOTuXojNRDp"
   },
   "outputs": [],
   "source": [
    "from datasets.features import ClassLabel\n",
    "\n",
    "features = dataset[\"train\"].features\n",
    "column_names = dataset[\"train\"].column_names\n",
    "image_column_name = \"image\"\n",
    "text_column_name = \"words\"\n",
    "boxes_column_name = \"bboxes\"\n",
    "label_column_name = \"ner_tags\""
   ]
  },
  {
   "cell_type": "markdown",
   "metadata": {
    "id": "YHzXfjSUNMnC"
   },
   "source": [
    "Get labels"
   ]
  },
  {
   "cell_type": "code",
   "execution_count": 40,
   "metadata": {
    "id": "RT6YsL4ONC0x"
   },
   "outputs": [],
   "source": [
    "# In the event the labels are not a `Sequence[ClassLabel]`, we will need to go through the dataset to get the\n",
    "# unique labels.\n",
    "def get_label_list(labels):\n",
    "    unique_labels = set()\n",
    "    for label in labels:\n",
    "        unique_labels = unique_labels | set(label)\n",
    "    label_list = list(unique_labels)\n",
    "    label_list.sort()\n",
    "    return label_list\n",
    "\n",
    "if isinstance(features[label_column_name].feature, ClassLabel):\n",
    "    label_list = features[label_column_name].feature.names\n",
    "    # No need to convert the labels since they are already ints.\n",
    "    id2label = {k: v for k,v in enumerate(label_list)}\n",
    "    label2id = {v: k for k,v in enumerate(label_list)}\n",
    "else:\n",
    "    label_list = get_label_list(dataset[\"train\"][label_column_name])\n",
    "    id2label = {k: v for k,v in enumerate(label_list)}\n",
    "    label2id = {v: k for k,v in enumerate(label_list)}\n",
    "num_labels = len(label_list)"
   ]
  },
  {
   "cell_type": "markdown",
   "metadata": {
    "id": "N3HeGTrLNHqn"
   },
   "source": [
    "Get Predictions"
   ]
  },
  {
   "cell_type": "code",
   "execution_count": 41,
   "metadata": {
    "id": "akfbXkf7NCsI"
   },
   "outputs": [],
   "source": [
    "predictions = outputs.logits.argmax(-1).squeeze().tolist()\n",
    "token_boxes = encoded_inputs.bbox.squeeze().tolist()\n",
    "\n",
    "width, height = image.size\n",
    "\n",
    "true_predictions = [id2label[prediction] for prediction, label in zip(predictions, labels) if label != -100]\n",
    "true_labels = [id2label[label] for prediction, label in zip(predictions, labels) if label != -100]\n",
    "true_boxes = [unnormalize_box(box, width, height) for box, label in zip(token_boxes, labels) if label != -100]"
   ]
  },
  {
   "cell_type": "markdown",
   "metadata": {
    "id": "6kP02R2pI8RR"
   },
   "source": [
    "Draws the predictions"
   ]
  },
  {
   "cell_type": "code",
   "execution_count": 42,
   "metadata": {
    "colab": {
     "base_uri": "https://localhost:8080/",
     "height": 665
    },
    "id": "iduaF9dDGWy3",
    "outputId": "d6c49317-463f-4c92-af85-c02bf092ba6a"
   },
   "outputs": [
    {
     "data": {
      "image/png": "[encoded data removed]",
      "text/plain": [
       "<PIL.PngImagePlugin.PngImageFile image mode=RGB size=432x648>"
      ]
     },
     "execution_count": 42,
     "metadata": {},
     "output_type": "execute_result"
    }
   ],
   "source": [
    "from PIL import ImageDraw\n",
    "from PIL import Image, ImageDraw, ImageFont\n",
    "\n",
    "draw = ImageDraw.Draw(image)\n",
    "\n",
    "font = ImageFont.load_default()\n",
    "\n",
    "def iob_to_label(label):\n",
    "    label = label[2:]\n",
    "    if not label:\n",
    "      return 'other'\n",
    "    return label\n",
    "\n",
    "label2color = {'question':'blue', 'answer':'green', 'header':'orange', 'other':'violet'}\n",
    "\n",
    "for prediction, box in zip(true_predictions, true_boxes):\n",
    "    predicted_label = iob_to_label(prediction).lower()\n",
    "    #draw.rectangle(box, outline=label2color[predicted_label])\n",
    "    draw.rectangle(box)\n",
    "    draw.text((box[0] + 10, box[1] - 10), text=predicted_label, font=font)\n",
    "    #draw.text((box[0] + 10, box[1] - 10), text=predicted_label, fill=label2color[predicted_label], font=font)\n",
    "\n",
    "image"
   ]
  },
  {
   "cell_type": "markdown",
   "metadata": {
    "id": "V7IgnZJ-G8l5"
   },
   "source": [
    "## Batch inference"
   ]
  },
  {
   "cell_type": "markdown",
   "metadata": {
    "id": "W0HxPUQVKlXF"
   },
   "source": [
    "Preprocess the data"
   ]
  },
  {
   "cell_type": "code",
   "execution_count": null,
   "metadata": {
    "id": "h_dKPjdPKkaq"
   },
   "outputs": [],
   "source": [
    "def prepare_examples(examples):\n",
    "  images = examples[image_column_name] ##if you use an image path, this will need to be updated to read the image in\n",
    "  words = examples[text_column_name]\n",
    "  boxes = examples[boxes_column_name]\n",
    "  word_labels = examples[label_column_name]\n",
    "\n",
    "  encoding = processor(images, words, boxes=boxes, word_labels=word_labels,\n",
    "                       truncation=True, padding=\"max_length\")\n",
    "\n",
    "  return encoding\n"
   ]
  },
  {
   "cell_type": "markdown",
   "metadata": {
    "id": "jN4OGB_2K-KF"
   },
   "source": [
    "Features"
   ]
  },
  {
   "cell_type": "code",
   "execution_count": null,
   "metadata": {
    "id": "cZtLQvPdK9r3"
   },
   "outputs": [],
   "source": [
    "from datasets import Features, Sequence, ClassLabel, Value, Array2D, Array3D\n",
    "\n",
    "# we need to define custom features for `set_format` (used later on) to work properly\n",
    "features = Features({\n",
    "    'pixel_values': Array3D(dtype=\"float32\", shape=(3, 224, 224)),\n",
    "    'input_ids': Sequence(feature=Value(dtype='int64')),\n",
    "    'attention_mask': Sequence(Value(dtype='int64')),\n",
    "    'bbox': Array2D(dtype=\"int64\", shape=(512, 4)),\n",
    "    'labels': Sequence(feature=Value(dtype='int64')),\n",
    "})"
   ]
  },
  {
   "cell_type": "markdown",
   "metadata": {
    "id": "zOkM-fCoLATD"
   },
   "source": [
    "Metrics for Evaluation"
   ]
  },
  {
   "cell_type": "code",
   "execution_count": null,
   "metadata": {
    "id": "Mg6t97MzG9q3"
   },
   "outputs": [],
   "source": [
    "# Metrics\n",
    "from datasets import load_metric\n",
    "import numpy as np\n",
    "\n",
    "metric = load_metric(\"seqeval\")\n",
    "return_entity_level_metrics = True\n",
    "\n",
    "\n",
    "def compute_metrics(p):\n",
    "    predictions, labels = p\n",
    "    predictions = np.argmax(predictions, axis=2)\n",
    "\n",
    "    # Remove ignored index (special tokens)\n",
    "    true_predictions = [\n",
    "        [id2label[p] for (p, l) in zip(prediction, label) if l != -100]\n",
    "        for prediction, label in zip(predictions, labels)\n",
    "    ]\n",
    "    true_labels = [\n",
    "        [id2label[l] for (p, l) in zip(prediction, label) if l != -100]\n",
    "        for prediction, label in zip(predictions, labels)\n",
    "    ]\n",
    "\n",
    "    results = metric.compute(predictions=true_predictions, references=true_labels)\n",
    "    if return_entity_level_metrics:\n",
    "        # Unpack nested dictionaries\n",
    "        final_results = {}\n",
    "        for key, value in results.items():\n",
    "            if isinstance(value, dict):\n",
    "                for n, v in value.items():\n",
    "                    final_results[f\"{key}_{n}\"] = v\n",
    "            else:\n",
    "                final_results[key] = value\n",
    "        return final_results\n",
    "    else:\n",
    "        return {\n",
    "            \"precision\": results[\"overall_precision\"],\n",
    "            \"recall\": results[\"overall_recall\"],\n",
    "            \"f1\": results[\"overall_f1\"],\n",
    "            \"accuracy\": results[\"overall_accuracy\"],\n",
    "        }\n"
   ]
  },
  {
   "cell_type": "markdown",
   "metadata": {
    "id": "F-tVDx0rJhII"
   },
   "source": [
    "Preprocess dataset"
   ]
  },
  {
   "cell_type": "code",
   "execution_count": null,
   "metadata": {
    "colab": {
     "base_uri": "https://localhost:8080/",
     "height": 49,
     "referenced_widgets": [
      "6847aea3b4784f5bb11782561529ae9f",
      "8083a578f93c4a6f92fc92b313472ec4",
      "8c9b51b322814297878d7b57fe02d5ba",
      "83eec7a9fe0d4dac9069b760fcb629b6",
      "6192f2a5c1e04dc39b43ff74e1d20f62",
      "3aa5192a7f5d4a13b0c645a751088c1b",
      "192e06534fde4349936dfb1e7d549b64",
      "c87be23d530948599e99d7607280818a",
      "4990d3be876244b3a799e99ce46a8817",
      "ebb609995b3c4e36b16246ebe731555f",
      "ef884c83b25d40188b527a43683afb2d"
     ]
    },
    "id": "Ne8P4bDsGzmH",
    "outputId": "5fad5938-e808-449f-9fd8-3b61f9544eeb"
   },
   "outputs": [],
   "source": [
    "val_dataset = dataset['validation'].map(prepare_examples,\n",
    "                                      batched=True,\n",
    "                                      remove_columns=dataset['validation'].column_names,\n",
    "                                      features=features)"
   ]
  },
  {
   "cell_type": "markdown",
   "metadata": {
    "id": "jZxnqNaQJo7W"
   },
   "source": [
    "Use the Trainer for batch inference\n",
    "- adjust the batch size to what works for your setup"
   ]
  },
  {
   "cell_type": "code",
   "execution_count": null,
   "metadata": {
    "colab": {
     "base_uri": "https://localhost:8080/"
    },
    "id": "3oKiv3IoGzir",
    "outputId": "6d3d4eec-d9e0-4a1e-af0b-fac606512fad"
   },
   "outputs": [],
   "source": [
    "from transformers import TrainingArguments, Trainer\n",
    "\n",
    "test_args = TrainingArguments(\n",
    "    output_dir = \"layoutlmv3-finetuned-cord\",\n",
    "    do_train = False,\n",
    "    do_predict = True,\n",
    "    per_device_eval_batch_size = 5,   \n",
    "    dataloader_drop_last = False    \n",
    ")\n",
    "\n",
    "# init trainer\n",
    "trainer = Trainer(\n",
    "              model = model, \n",
    "              args = test_args, \n",
    "              compute_metrics = compute_metrics)"
   ]
  },
  {
   "cell_type": "code",
   "execution_count": null,
   "metadata": {
    "colab": {
     "base_uri": "https://localhost:8080/",
     "height": 70
    },
    "id": "HoHsn07xHQs0",
    "outputId": "6a5433be-c34c-4314-d534-2c978c8abb92"
   },
   "outputs": [],
   "source": [
    "\n",
    "#predictionsT, labelsT, metricsT = trainer.predict(eval_dataset)\n",
    "predictionsV, labelsV, metricsV = trainer.predict(val_dataset)"
   ]
  },
  {
   "cell_type": "code",
   "execution_count": null,
   "metadata": {
    "colab": {
     "base_uri": "https://localhost:8080/"
    },
    "id": "xs02pGO7HQo6",
    "outputId": "ae45c499-f01f-401c-ab93-41ba53c152bd"
   },
   "outputs": [],
   "source": [
    "metricsV"
   ]
  },
  {
   "cell_type": "markdown",
   "metadata": {
    "id": "5fHrlwJTO0Te"
   },
   "source": [
    "## Note: inference when you don't have labels\n",
    "\n",
    "The code above used the `labels` to determine which tokens were at the start of a particular word or not. Of course, at inference time, you don't have access to any labels. In that case, you can leverage the `offset_mapping` returned by the tokenizer. I do have a notebook for that (for LayoutLMv2, but it's equivalent for LayoutLMv3) [here](https://github.com/NielsRogge/Transformers-Tutorials/blob/master/LayoutLMv2/FUNSD/True_inference_with_LayoutLMv2ForTokenClassification_%2B_Gradio_demo.ipynb)."
   ]
  },
  {
   "cell_type": "code",
   "execution_count": null,
   "metadata": {
    "id": "MqegK4gBeHhl"
   },
   "outputs": [],
   "source": []
  }
 ],
 "metadata": {
  "accelerator": "GPU",
  "colab": {
   "provenance": []
  },
  "kernelspec": {
   "display_name": "Python 3 (ipykernel)",
   "language": "python",
   "name": "python3"
  },
  "language_info": {
   "codemirror_mode": {
    "name": "ipython",
    "version": 3
   },
   "file_extension": ".py",
   "mimetype": "text/x-python",
   "name": "python",
   "nbconvert_exporter": "python",
   "pygments_lexer": "ipython3",
   "version": "3.9.13"
  },
  "widgets": {
   "application/vnd.jupyter.widget-state+json": {
    "state": {
     "018b83c0ad8a4ce4819c704565ca1b18": {
      "model_module": "@jupyter-widgets/base",
      "model_module_version": "1.2.0",
      "model_name": "LayoutModel",
      "state": {}
     },
     "0260f3121209422fa03947751280228b": {
      "model_module": "@jupyter-widgets/controls",
      "model_module_version": "1.5.0",
      "model_name": "CheckboxModel",
      "state": {
       "description": "Add token as git credential?",
       "disabled": false,
       "layout": "IPY_MODEL_525a6dddc5b44439af3d11e85fd90945",
       "style": "IPY_MODEL_2690bd9898a74f9ab2fed1e64b770463",
       "value": true
      }
     },
     "02b5857c6a7d49fab7d8cf9fca691df1": {
      "model_module": "@jupyter-widgets/base",
      "model_module_version": "1.2.0",
      "model_name": "LayoutModel",
      "state": {}
     },
     "0359e30bbb5a4f2c8b284c9b44a066c6": {
      "model_module": "@jupyter-widgets/controls",
      "model_module_version": "1.5.0",
      "model_name": "ProgressStyleModel",
      "state": {
       "description_width": ""
      }
     },
     "0498f1554d6a42e1a48c7b1c02675f6b": {
      "model_module": "@jupyter-widgets/controls",
      "model_module_version": "1.5.0",
      "model_name": "HTMLModel",
      "state": {
       "layout": "IPY_MODEL_33480191f8b2431196110a0cd7b2b69c",
       "style": "IPY_MODEL_ce81d5ba2c954b11aa5da265d9d5c1bf",
       "value": "100%"
      }
     },
     "05f395b00a67465d95bf3f164e81f9c3": {
      "model_module": "@jupyter-widgets/controls",
      "model_module_version": "1.5.0",
      "model_name": "HBoxModel",
      "state": {
       "children": [
        "IPY_MODEL_0efeda592d47448b996e9a95b20ba3c2",
        "IPY_MODEL_6474725039774b0f8321fae495de8ffc",
        "IPY_MODEL_4c504b8779fd41fa9e1556b7146ebd13"
       ],
       "layout": "IPY_MODEL_ec723333f8934b88981ff454044e0cb5"
      }
     },
     "06c78724467641f3834dd521e40864ff": {
      "model_module": "@jupyter-widgets/controls",
      "model_module_version": "1.5.0",
      "model_name": "FloatProgressModel",
      "state": {
       "bar_style": "success",
       "layout": "IPY_MODEL_bec84cbc135e4609aa12a434f303595c",
       "max": 856,
       "style": "IPY_MODEL_5c309d6e51784b15899a77decc4e81ba",
       "value": 856
      }
     },
     "072f7546899e4284ba67c84b5f0d00ac": {
      "model_module": "@jupyter-widgets/base",
      "model_module_version": "1.2.0",
      "model_name": "LayoutModel",
      "state": {}
     },
     "0768bf7ee18b4309b02cd63943a172f8": {
      "model_module": "@jupyter-widgets/base",
      "model_module_version": "1.2.0",
      "model_name": "LayoutModel",
      "state": {}
     },
     "08ac8bbc67ed4e849aac9abdca122814": {
      "model_module": "@jupyter-widgets/base",
      "model_module_version": "1.2.0",
      "model_name": "LayoutModel",
      "state": {}
     },
     "0a26179e498c4491bbdcb6a88986c835": {
      "model_module": "@jupyter-widgets/controls",
      "model_module_version": "1.5.0",
      "model_name": "DescriptionStyleModel",
      "state": {
       "description_width": ""
      }
     },
     "0a66ce6e0c67426b9951e235d7f26f28": {
      "model_module": "@jupyter-widgets/controls",
      "model_module_version": "1.5.0",
      "model_name": "HTMLModel",
      "state": {
       "layout": "IPY_MODEL_f27c7c9469ef4db88299d0aa2a89771e",
       "style": "IPY_MODEL_ec68cf5b689f4ef1a8015e777af88f22",
       "value": "<center> <img\nsrc=https://huggingface.co/front/assets/huggingface_logo-noborder.svg\nalt='Hugging Face'> <br> Copy a token from <a\nhref=\"https://huggingface.co/settings/tokens\" target=\"_blank\">your Hugging Face\ntokens page</a> and paste it below. <br> Immediately click login after copying\nyour token or it might be stored in plain text in this notebook file. </center>"
      }
     },
     "0a8a7bc5856944d8b1c8ac3849e417cb": {
      "model_module": "@jupyter-widgets/base",
      "model_module_version": "1.2.0",
      "model_name": "LayoutModel",
      "state": {}
     },
     "0b063bb4ff064ccc87a5c5b3a0f2c72f": {
      "model_module": "@jupyter-widgets/base",
      "model_module_version": "1.2.0",
      "model_name": "LayoutModel",
      "state": {}
     },
     "0b3a029052f548db8c7f8aa66a4a4d44": {
      "model_module": "@jupyter-widgets/controls",
      "model_module_version": "1.5.0",
      "model_name": "HTMLModel",
      "state": {
       "layout": "IPY_MODEL_072f7546899e4284ba67c84b5f0d00ac",
       "style": "IPY_MODEL_4c85170970224445af3e9bc751ae79c9",
       "value": " 456k/456k [00:02&lt;00:00, 243kB/s]"
      }
     },
     "0b5559f1f4c94ba7ab9570e6195b024a": {
      "model_module": "@jupyter-widgets/controls",
      "model_module_version": "1.5.0",
      "model_name": "HTMLModel",
      "state": {
       "layout": "IPY_MODEL_43e3f811d6514553aa290c1a2983c57f",
       "style": "IPY_MODEL_1fda1f0c72e74ce194ecb702a936a6b8",
       "value": "Downloading data files: 100%"
      }
     },
     "0bad3965d0034fafbbdcef4d6ccc0355": {
      "model_module": "@jupyter-widgets/controls",
      "model_module_version": "1.5.0",
      "model_name": "ProgressStyleModel",
      "state": {
       "description_width": ""
      }
     },
     "0c93ae232421487fab0a8dcf7f1fdb07": {
      "model_module": "@jupyter-widgets/controls",
      "model_module_version": "1.5.0",
      "model_name": "HTMLModel",
      "state": {
       "layout": "IPY_MODEL_d10c5b7d4a814c329090e73173cdfc81",
       "style": "IPY_MODEL_a0e145c264644a89b6e7a197b5475327",
       "value": " 8.35k/8.35k [00:00&lt;00:00, 442kB/s]"
      }
     },
     "0cda85d6062a47f9a022e3f4ffef4ead": {
      "model_module": "@jupyter-widgets/base",
      "model_module_version": "1.2.0",
      "model_name": "LayoutModel",
      "state": {}
     },
     "0d152037a8bf4824a339ebba55cdac9c": {
      "model_module": "@jupyter-widgets/controls",
      "model_module_version": "1.5.0",
      "model_name": "HTMLModel",
      "state": {
       "layout": "IPY_MODEL_9ed37c35e012465e9178642434ddb933",
       "style": "IPY_MODEL_864c871033be483c9e48654cd71816b9",
       "value": " 501M/501M [02:46&lt;00:00, 3.61MB/s]"
      }
     },
     "0d75ed10dd4c4da596fc1347eefb5823": {
      "model_module": "@jupyter-widgets/controls",
      "model_module_version": "1.5.0",
      "model_name": "DescriptionStyleModel",
      "state": {
       "description_width": ""
      }
     },
     "0dd9e13674d54717b137b719d6c6dece": {
      "model_module": "@jupyter-widgets/base",
      "model_module_version": "1.2.0",
      "model_name": "LayoutModel",
      "state": {}
     },
     "0efeda592d47448b996e9a95b20ba3c2": {
      "model_module": "@jupyter-widgets/controls",
      "model_module_version": "1.5.0",
      "model_name": "HTMLModel",
      "state": {
       "layout": "IPY_MODEL_62406077e4ac4cd2a43a6518e941b5be",
       "style": "IPY_MODEL_1fc973608b75467ebd613b860865081d",
       "value": "100%"
      }
     },
     "0f2e1ca48b214ff08a38e80f9b040fbc": {
      "model_module": "@jupyter-widgets/controls",
      "model_module_version": "1.5.0",
      "model_name": "ProgressStyleModel",
      "state": {
       "description_width": ""
      }
     },
     "0f542d2c89ac47f8abe19ecad4574b70": {
      "model_module": "@jupyter-widgets/controls",
      "model_module_version": "1.5.0",
      "model_name": "ProgressStyleModel",
      "state": {
       "description_width": ""
      }
     },
     "0f5b9f28b94240c88634746a91991a83": {
      "model_module": "@jupyter-widgets/controls",
      "model_module_version": "1.5.0",
      "model_name": "HBoxModel",
      "state": {
       "children": [
        "IPY_MODEL_a4b91708c3f74951917042f1e2de8bce",
        "IPY_MODEL_e54933a333ab4f15b9f60df2510e500c",
        "IPY_MODEL_198f57a3980546129fbffcc2e2782d7f"
       ],
       "layout": "IPY_MODEL_726cf8751ea048d5b4e0e94a061523f4"
      }
     },
     "0f83b7f4df2342f883e9c5d0fd1bff9e": {
      "model_module": "@jupyter-widgets/base",
      "model_module_version": "1.2.0",
      "model_name": "LayoutModel",
      "state": {}
     },
     "0fe15a3d70434274b0d2812838baf470": {
      "model_module": "@jupyter-widgets/base",
      "model_module_version": "1.2.0",
      "model_name": "LayoutModel",
      "state": {}
     },
     "101b9661e89c487cb3064a6b7b8dd2ca": {
      "model_module": "@jupyter-widgets/controls",
      "model_module_version": "1.5.0",
      "model_name": "HBoxModel",
      "state": {
       "children": [
        "IPY_MODEL_b8ffe1e82a284c95b916f15b86a98971",
        "IPY_MODEL_297efa1fdbcd4c43b8f344643960f0ef",
        "IPY_MODEL_dfbc69ebaa2f48c6a0f8f4cb4d2fb58f"
       ],
       "layout": "IPY_MODEL_1a66adbc347940bc99c693d9404bcc97"
      }
     },
     "10436e26201f4ae1b113b4b5e6b51959": {
      "model_module": "@jupyter-widgets/controls",
      "model_module_version": "1.5.0",
      "model_name": "HTMLModel",
      "state": {
       "layout": "IPY_MODEL_37e34d582ada47a88e0d2f92e7246b9d",
       "style": "IPY_MODEL_85a8a63762984f30b5d668b6aff6e6c6",
       "value": "Extracting data files: 100%"
      }
     },
     "116f3551e7754cb1a908f915921a6f22": {
      "model_module": "@jupyter-widgets/controls",
      "model_module_version": "1.5.0",
      "model_name": "HTMLModel",
      "state": {
       "layout": "IPY_MODEL_5e2b6e0dc88d4442b1dc5e03f3f2ca1b",
       "style": "IPY_MODEL_3a5daa054f364105acf8c211c6dafcd4",
       "value": " 66.9M/481M [19:06&lt;00:47, 9.14MB/s]"
      }
     },
     "11ad42e570004450a9fd7995af6e00e4": {
      "model_module": "@jupyter-widgets/controls",
      "model_module_version": "1.5.0",
      "model_name": "ProgressStyleModel",
      "state": {
       "description_width": ""
      }
     },
     "12bdfbe4423749c09c02beb57dc81fe6": {
      "model_module": "@jupyter-widgets/controls",
      "model_module_version": "1.5.0",
      "model_name": "DescriptionStyleModel",
      "state": {
       "description_width": ""
      }
     },
     "12cbb161f03d44ee9f0a10def8d994c0": {
      "model_module": "@jupyter-widgets/controls",
      "model_module_version": "1.5.0",
      "model_name": "HBoxModel",
      "state": {
       "children": [
        "IPY_MODEL_693e51e6eab54819835bc35216193ebf",
        "IPY_MODEL_e3f7e31aec3b486d8fbeab7f275ac70c",
        "IPY_MODEL_f8883c50817043548d0c5cb594b2eb96"
       ],
       "layout": "IPY_MODEL_5904c0bd0f414adbbaf2160de6c15ff8"
      }
     },
     "12df7acb869b45ca89fe3b95688395b4": {
      "model_module": "@jupyter-widgets/controls",
      "model_module_version": "1.5.0",
      "model_name": "DescriptionStyleModel",
      "state": {
       "description_width": ""
      }
     },
     "139103e6906a4ae4baa5261acb1495a6": {
      "model_module": "@jupyter-widgets/controls",
      "model_module_version": "1.5.0",
      "model_name": "DescriptionStyleModel",
      "state": {
       "description_width": ""
      }
     },
     "14bfc8edee944ab2b14000fd88425886": {
      "model_module": "@jupyter-widgets/base",
      "model_module_version": "1.2.0",
      "model_name": "LayoutModel",
      "state": {}
     },
     "15604be81c7f44938b5f17757afcec1b": {
      "model_module": "@jupyter-widgets/controls",
      "model_module_version": "1.5.0",
      "model_name": "DescriptionStyleModel",
      "state": {
       "description_width": ""
      }
     },
     "1606e119a82b45218e81569769ec5461": {
      "model_module": "@jupyter-widgets/controls",
      "model_module_version": "1.5.0",
      "model_name": "DescriptionStyleModel",
      "state": {
       "description_width": ""
      }
     },
     "1647a2c9f6364a29a5be574b117956cf": {
      "model_module": "@jupyter-widgets/controls",
      "model_module_version": "1.5.0",
      "model_name": "DescriptionStyleModel",
      "state": {
       "description_width": ""
      }
     },
     "168e94efdc2c4eb28a35e71e2cda6352": {
      "model_module": "@jupyter-widgets/base",
      "model_module_version": "1.2.0",
      "model_name": "LayoutModel",
      "state": {}
     },
     "188372fce1b74be0a48b1de0415a1640": {
      "model_module": "@jupyter-widgets/controls",
      "model_module_version": "1.5.0",
      "model_name": "HTMLModel",
      "state": {
       "layout": "IPY_MODEL_fbbe57b360f647949f45de5c004a6d2f",
       "style": "IPY_MODEL_de2ced1531a94b67a66e970762c65f49",
       "value": "\n<b>Pro Tip:</b> If you don't already have one, you can create a dedicated\n'notebooks' token with 'write' access, that you can then easily reuse for all\nnotebooks. </center>"
      }
     },
     "196fe480a8814647ba02b4ca0ec53bc1": {
      "model_module": "@jupyter-widgets/controls",
      "model_module_version": "1.5.0",
      "model_name": "FloatProgressModel",
      "state": {
       "bar_style": "success",
       "layout": "IPY_MODEL_e4caa322b7b04a1e81692464bad4f7b9",
       "max": 2,
       "style": "IPY_MODEL_c935697a19a043449b88722d17b5b18e",
       "value": 2
      }
     },
     "198f57a3980546129fbffcc2e2782d7f": {
      "model_module": "@jupyter-widgets/controls",
      "model_module_version": "1.5.0",
      "model_name": "HTMLModel",
      "state": {
       "layout": "IPY_MODEL_ba9defc54ab4498abeccb2382789b770",
       "style": "IPY_MODEL_0d75ed10dd4c4da596fc1347eefb5823",
       "value": " 2.13G/2.13G [44:44&lt;00:00, 1.84MB/s]"
      }
     },
     "1a66adbc347940bc99c693d9404bcc97": {
      "model_module": "@jupyter-widgets/base",
      "model_module_version": "1.2.0",
      "model_name": "LayoutModel",
      "state": {}
     },
     "1ac75fff90944710b18dc0de5c22dacf": {
      "model_module": "@jupyter-widgets/base",
      "model_module_version": "1.2.0",
      "model_name": "LayoutModel",
      "state": {}
     },
     "1ae1a31d36ab4e32a94f6cc96ffdc057": {
      "model_module": "@jupyter-widgets/controls",
      "model_module_version": "1.5.0",
      "model_name": "HTMLModel",
      "state": {
       "layout": "IPY_MODEL_df8ba09e8f7e461b84ecce39f45db841",
       "style": "IPY_MODEL_355b46d6c23641f38f26464d3358c4c4",
       "value": " 2/2 [45:53&lt;00:00, 1145.26s/it]"
      }
     },
     "1bff9c20d3214f108e429d4e2843700c": {
      "model_module": "@jupyter-widgets/controls",
      "model_module_version": "1.5.0",
      "model_name": "DescriptionStyleModel",
      "state": {
       "description_width": ""
      }
     },
     "1cc2a96d3ea54e978d796b090c2cfac6": {
      "model_module": "@jupyter-widgets/base",
      "model_module_version": "1.2.0",
      "model_name": "LayoutModel",
      "state": {}
     },
     "1de0ebf19f92403180376de79f0626fd": {
      "model_module": "@jupyter-widgets/base",
      "model_module_version": "1.2.0",
      "model_name": "LayoutModel",
      "state": {}
     },
     "1eb738033795448ab3befd600d0870ee": {
      "model_module": "@jupyter-widgets/base",
      "model_module_version": "1.2.0",
      "model_name": "LayoutModel",
      "state": {}
     },
     "1f052339d846482881b84c91b70e0746": {
      "model_module": "@jupyter-widgets/base",
      "model_module_version": "1.2.0",
      "model_name": "LayoutModel",
      "state": {}
     },
     "1f2c820d8a7c4493880b52d001a17a12": {
      "model_module": "@jupyter-widgets/controls",
      "model_module_version": "1.5.0",
      "model_name": "FloatProgressModel",
      "state": {
       "bar_style": "success",
       "layout": "IPY_MODEL_c2e9dface8b24038b8f65cafdc228f56",
       "max": 1,
       "style": "IPY_MODEL_62618cc27b414be8bc6e09832d2d0a16",
       "value": 1
      }
     },
     "1f552d73db074c5da8f0f50cf9a4a6d8": {
      "model_module": "@jupyter-widgets/base",
      "model_module_version": "1.2.0",
      "model_name": "LayoutModel",
      "state": {}
     },
     "1fc973608b75467ebd613b860865081d": {
      "model_module": "@jupyter-widgets/controls",
      "model_module_version": "1.5.0",
      "model_name": "DescriptionStyleModel",
      "state": {
       "description_width": ""
      }
     },
     "1fda1f0c72e74ce194ecb702a936a6b8": {
      "model_module": "@jupyter-widgets/controls",
      "model_module_version": "1.5.0",
      "model_name": "DescriptionStyleModel",
      "state": {
       "description_width": ""
      }
     },
     "24405a1363954c1da8c5c39455665131": {
      "model_module": "@jupyter-widgets/controls",
      "model_module_version": "1.5.0",
      "model_name": "ProgressStyleModel",
      "state": {
       "description_width": ""
      }
     },
     "256dac701a4647928e6105658777225a": {
      "model_module": "@jupyter-widgets/controls",
      "model_module_version": "1.5.0",
      "model_name": "DescriptionStyleModel",
      "state": {
       "description_width": ""
      }
     },
     "264ed230d5de46e2962c29d09df6e73f": {
      "model_module": "@jupyter-widgets/base",
      "model_module_version": "1.2.0",
      "model_name": "LayoutModel",
      "state": {}
     },
     "2659418fb79b4ac686b3977f094db52a": {
      "model_module": "@jupyter-widgets/base",
      "model_module_version": "1.2.0",
      "model_name": "LayoutModel",
      "state": {}
     },
     "2690bd9898a74f9ab2fed1e64b770463": {
      "model_module": "@jupyter-widgets/controls",
      "model_module_version": "1.5.0",
      "model_name": "DescriptionStyleModel",
      "state": {
       "description_width": ""
      }
     },
     "2696b4e5ca114ec2927aec11b261075e": {
      "model_module": "@jupyter-widgets/controls",
      "model_module_version": "1.5.0",
      "model_name": "HTMLModel",
      "state": {
       "layout": "IPY_MODEL_b70767486a8245ed8e74da1c645ff62d",
       "style": "IPY_MODEL_7221c07628cb4edeab7b45c1882d8935",
       "value": " 6.33k/? [00:00&lt;00:00, 80.7kB/s]"
      }
     },
     "27e3cb557ad24550a6890a8df1b3a0cf": {
      "model_module": "@jupyter-widgets/controls",
      "model_module_version": "1.5.0",
      "model_name": "HTMLModel",
      "state": {
       "layout": "IPY_MODEL_0dd9e13674d54717b137b719d6c6dece",
       "style": "IPY_MODEL_870f40ce7dc648f3aa455e105183a045",
       "value": "Downloading builder script: "
      }
     },
     "297efa1fdbcd4c43b8f344643960f0ef": {
      "model_module": "@jupyter-widgets/controls",
      "model_module_version": "1.5.0",
      "model_name": "FloatProgressModel",
      "state": {
       "bar_style": "success",
       "layout": "IPY_MODEL_1f552d73db074c5da8f0f50cf9a4a6d8",
       "max": 3,
       "style": "IPY_MODEL_6ab2c57324a9414b8c10c6621b1fce79",
       "value": 3
      }
     },
     "299f35792a71481cb21696eb62e5031f": {
      "model_module": "@jupyter-widgets/controls",
      "model_module_version": "1.5.0",
      "model_name": "DescriptionStyleModel",
      "state": {
       "description_width": ""
      }
     },
     "2abea364f0064c60a08fd37f5960f50c": {
      "model_module": "@jupyter-widgets/controls",
      "model_module_version": "1.5.0",
      "model_name": "DescriptionStyleModel",
      "state": {
       "description_width": ""
      }
     },
     "2ac6e562a7154d3189ecb941492eee7e": {
      "model_module": "@jupyter-widgets/controls",
      "model_module_version": "1.5.0",
      "model_name": "ProgressStyleModel",
      "state": {
       "description_width": ""
      }
     },
     "2b6d642d769e4c72918649427108fe25": {
      "model_module": "@jupyter-widgets/controls",
      "model_module_version": "1.5.0",
      "model_name": "HBoxModel",
      "state": {
       "children": [
        "IPY_MODEL_2c867d0cf1da4eba9e2e5d6edde81bed",
        "IPY_MODEL_196fe480a8814647ba02b4ca0ec53bc1",
        "IPY_MODEL_d4915cc772174e80ae4a115279a74840"
       ],
       "layout": "IPY_MODEL_1ac75fff90944710b18dc0de5c22dacf"
      }
     },
     "2c867d0cf1da4eba9e2e5d6edde81bed": {
      "model_module": "@jupyter-widgets/controls",
      "model_module_version": "1.5.0",
      "model_name": "HTMLModel",
      "state": {
       "layout": "IPY_MODEL_7d9e675646e346e1ad39bd0fbedc6a72",
       "style": "IPY_MODEL_4d31fa8c56384be1953f2393f709731b",
       "value": "Computing checksums: 100%"
      }
     },
     "2d98788f72304a22a7b1643d258974af": {
      "model_module": "@jupyter-widgets/controls",
      "model_module_version": "1.5.0",
      "model_name": "DescriptionStyleModel",
      "state": {
       "description_width": ""
      }
     },
     "301d0551450a483f80e3bb0a97be4d6d": {
      "model_module": "@jupyter-widgets/controls",
      "model_module_version": "1.5.0",
      "model_name": "FloatProgressModel",
      "state": {
       "bar_style": "info",
       "layout": "IPY_MODEL_5d0e1035307b4c64b782ccb38e0def1f",
       "max": 1,
       "style": "IPY_MODEL_e2b33af59aae487bafd8fef93699c450",
       "value": 1
      }
     },
     "3098551a9df74eff98f42a409b9824d3": {
      "model_module": "@jupyter-widgets/base",
      "model_module_version": "1.2.0",
      "model_name": "LayoutModel",
      "state": {}
     },
     "30ddb60a9b704a2bb452b5a6240aeb04": {
      "model_module": "@jupyter-widgets/controls",
      "model_module_version": "1.5.0",
      "model_name": "DescriptionStyleModel",
      "state": {
       "description_width": ""
      }
     },
     "317d741c05fa4acaa6a865505fcd4dbd": {
      "model_module": "@jupyter-widgets/controls",
      "model_module_version": "1.5.0",
      "model_name": "DescriptionStyleModel",
      "state": {
       "description_width": ""
      }
     },
     "3215196d59f44aaa9dafc95c1fa71ef6": {
      "model_module": "@jupyter-widgets/controls",
      "model_module_version": "1.5.0",
      "model_name": "FloatProgressModel",
      "state": {
       "bar_style": "success",
       "layout": "IPY_MODEL_8c4c91731b3841ca8dad1a051e8db84e",
       "max": 2,
       "style": "IPY_MODEL_89c9500017034874a6837a4c8eea80a3",
       "value": 2
      }
     },
     "3232ebe0c3034f3bb1aa87f8b3d37029": {
      "model_module": "@jupyter-widgets/base",
      "model_module_version": "1.2.0",
      "model_name": "LayoutModel",
      "state": {
       "align_items": "center",
       "display": "flex",
       "flex_flow": "column",
       "width": "50%"
      }
     },
     "3268284d5b824bf48686bfacefd6bae4": {
      "model_module": "@jupyter-widgets/controls",
      "model_module_version": "1.5.0",
      "model_name": "HTMLModel",
      "state": {
       "layout": "IPY_MODEL_e702c0868ff14ab2bf639cdf0ca12103",
       "style": "IPY_MODEL_39b495fa79e34340be5bb4dd6d2bca27",
       "value": " 100/0 [00:38&lt;00:00,  3.57 examples/s]"
      }
     },
     "33480191f8b2431196110a0cd7b2b69c": {
      "model_module": "@jupyter-widgets/base",
      "model_module_version": "1.2.0",
      "model_name": "LayoutModel",
      "state": {}
     },
     "3426f089783742fc8200ad18e328b1cb": {
      "model_module": "@jupyter-widgets/controls",
      "model_module_version": "1.5.0",
      "model_name": "FloatProgressModel",
      "state": {
       "bar_style": "info",
       "layout": "IPY_MODEL_a3e8f94f7844438890754fb553b31f0e",
       "max": 1,
       "style": "IPY_MODEL_92e1ddb8f77747ff9df424e6b5a3a18e",
       "value": 1
      }
     },
     "355b46d6c23641f38f26464d3358c4c4": {
      "model_module": "@jupyter-widgets/controls",
      "model_module_version": "1.5.0",
      "model_name": "DescriptionStyleModel",
      "state": {
       "description_width": ""
      }
     },
     "37b1126db03c4ca08079b0b98ef53854": {
      "model_module": "@jupyter-widgets/base",
      "model_module_version": "1.2.0",
      "model_name": "LayoutModel",
      "state": {}
     },
     "37e34d582ada47a88e0d2f92e7246b9d": {
      "model_module": "@jupyter-widgets/base",
      "model_module_version": "1.2.0",
      "model_name": "LayoutModel",
      "state": {}
     },
     "384dd4696373487b86dbc4021b8a5062": {
      "model_module": "@jupyter-widgets/controls",
      "model_module_version": "1.5.0",
      "model_name": "DescriptionStyleModel",
      "state": {
       "description_width": ""
      }
     },
     "3902a6d0fc044049a9a5fd9a37fa8722": {
      "model_module": "@jupyter-widgets/base",
      "model_module_version": "1.2.0",
      "model_name": "LayoutModel",
      "state": {}
     },
     "39b495fa79e34340be5bb4dd6d2bca27": {
      "model_module": "@jupyter-widgets/controls",
      "model_module_version": "1.5.0",
      "model_name": "DescriptionStyleModel",
      "state": {
       "description_width": ""
      }
     },
     "39ea1a63f04341f3902465c03726a25a": {
      "model_module": "@jupyter-widgets/base",
      "model_module_version": "1.2.0",
      "model_name": "LayoutModel",
      "state": {}
     },
     "3a5daa054f364105acf8c211c6dafcd4": {
      "model_module": "@jupyter-widgets/controls",
      "model_module_version": "1.5.0",
      "model_name": "DescriptionStyleModel",
      "state": {
       "description_width": ""
      }
     },
     "3b3f8e32bb2c485f9b3cc236c4745ce3": {
      "model_module": "@jupyter-widgets/controls",
      "model_module_version": "1.5.0",
      "model_name": "VBoxModel",
      "state": {
       "children": [
        "IPY_MODEL_0a66ce6e0c67426b9951e235d7f26f28",
        "IPY_MODEL_ba8d90cdb36e43ed88e21d537cf4e064",
        "IPY_MODEL_0260f3121209422fa03947751280228b",
        "IPY_MODEL_e5762b798f12461388228aad09b0b0d9",
        "IPY_MODEL_56485b255a1a4ec5bd1ce6c594858b90"
       ],
       "layout": "IPY_MODEL_44920065d8cf434a80dc17d5e6350882"
      }
     },
     "3b9d7055f1c94b8b85c4e76732389f82": {
      "model_module": "@jupyter-widgets/base",
      "model_module_version": "1.2.0",
      "model_name": "LayoutModel",
      "state": {}
     },
     "3f15b033ff454aa4a74d0ad4170edb31": {
      "model_module": "@jupyter-widgets/controls",
      "model_module_version": "1.5.0",
      "model_name": "ProgressStyleModel",
      "state": {
       "description_width": ""
      }
     },
     "3f23ef4b54214cf5b5544c6992bf44cd": {
      "model_module": "@jupyter-widgets/controls",
      "model_module_version": "1.5.0",
      "model_name": "CheckboxModel",
      "state": {
       "description": "Add token as git credential?",
       "disabled": false,
       "layout": "IPY_MODEL_3b9d7055f1c94b8b85c4e76732389f82",
       "style": "IPY_MODEL_1606e119a82b45218e81569769ec5461",
       "value": true
      }
     },
     "3f854176dc2c4ae1ba1fa50950dcf9de": {
      "model_module": "@jupyter-widgets/controls",
      "model_module_version": "1.5.0",
      "model_name": "HTMLModel",
      "state": {
       "layout": "IPY_MODEL_4d978fb6fd824a848fb3a7aa7f2b76b9",
       "style": "IPY_MODEL_256dac701a4647928e6105658777225a",
       "value": " 3/3 [00:00&lt;00:00, 14.33it/s]"
      }
     },
     "405095ffc7684e1e8621c738cd3633cf": {
      "model_module": "@jupyter-widgets/controls",
      "model_module_version": "1.5.0",
      "model_name": "HTMLModel",
      "state": {
       "layout": "IPY_MODEL_fb2be9f31104438fb71a4c936daa16db",
       "style": "IPY_MODEL_c38368a9377b43db94148b926e5715ae",
       "value": " 800/0 [04:57&lt;00:00,  1.97 examples/s]"
      }
     },
     "40bc67c0724a44919a270d9d0258c1e1": {
      "model_module": "@jupyter-widgets/base",
      "model_module_version": "1.2.0",
      "model_name": "LayoutModel",
      "state": {}
     },
     "419363e561a7497eb9a95a713d75d4d8": {
      "model_module": "@jupyter-widgets/base",
      "model_module_version": "1.2.0",
      "model_name": "LayoutModel",
      "state": {}
     },
     "41bb69bf41454e129f21c6ced59686f4": {
      "model_module": "@jupyter-widgets/base",
      "model_module_version": "1.2.0",
      "model_name": "LayoutModel",
      "state": {
       "visibility": "hidden"
      }
     },
     "425c670d2ef042b59de8077c34fff0b9": {
      "model_module": "@jupyter-widgets/controls",
      "model_module_version": "1.5.0",
      "model_name": "ProgressStyleModel",
      "state": {
       "description_width": ""
      }
     },
     "42cb9fdda89f4628a3c2960ca413a1a7": {
      "model_module": "@jupyter-widgets/base",
      "model_module_version": "1.2.0",
      "model_name": "LayoutModel",
      "state": {}
     },
     "43b0eae95a4c4e77b9bc1249dfd8ec54": {
      "model_module": "@jupyter-widgets/controls",
      "model_module_version": "1.5.0",
      "model_name": "FloatProgressModel",
      "state": {
       "bar_style": "success",
       "layout": "IPY_MODEL_a31462978a1548538cdfb15716bcd442",
       "max": 8346,
       "style": "IPY_MODEL_62c3d193e49f4521bf81b8eba5a4e281",
       "value": 8346
      }
     },
     "43e3f811d6514553aa290c1a2983c57f": {
      "model_module": "@jupyter-widgets/base",
      "model_module_version": "1.2.0",
      "model_name": "LayoutModel",
      "state": {}
     },
     "44920065d8cf434a80dc17d5e6350882": {
      "model_module": "@jupyter-widgets/base",
      "model_module_version": "1.2.0",
      "model_name": "LayoutModel",
      "state": {
       "align_items": "center",
       "display": "flex",
       "flex_flow": "column",
       "width": "50%"
      }
     },
     "49fc44bbd0ce441890809491bc5e1438": {
      "model_module": "@jupyter-widgets/controls",
      "model_module_version": "1.5.0",
      "model_name": "HTMLModel",
      "state": {
       "layout": "IPY_MODEL_6b413d4b24954c8ea02bb1fb4043dbfb",
       "style": "IPY_MODEL_bc04712ede7f418aa8bcbbd98de00b80",
       "value": "Generating validation split: "
      }
     },
     "4b462920096a4f4faab69f5a4ea8bfd1": {
      "model_module": "@jupyter-widgets/controls",
      "model_module_version": "1.5.0",
      "model_name": "HBoxModel",
      "state": {
       "children": [
        "IPY_MODEL_f305904994fa48c39362fe82a116ade4",
        "IPY_MODEL_db41254f9d9a49b58c651531f9c74fb5",
        "IPY_MODEL_0b3a029052f548db8c7f8aa66a4a4d44"
       ],
       "layout": "IPY_MODEL_1cc2a96d3ea54e978d796b090c2cfac6"
      }
     },
     "4b8f48d8c65741a2817cd39bbb1343a4": {
      "model_module": "@jupyter-widgets/controls",
      "model_module_version": "1.5.0",
      "model_name": "ProgressStyleModel",
      "state": {
       "description_width": ""
      }
     },
     "4ba95f8089804b39a0dd442cc14cc6b2": {
      "model_module": "@jupyter-widgets/controls",
      "model_module_version": "1.5.0",
      "model_name": "HTMLModel",
      "state": {
       "layout": "IPY_MODEL_37b1126db03c4ca08079b0b98ef53854",
       "style": "IPY_MODEL_8ee6aa85846a4a6da1091f2d796ee080",
       "value": " 275/275 [00:00&lt;00:00, 18.5kB/s]"
      }
     },
     "4c504b8779fd41fa9e1556b7146ebd13": {
      "model_module": "@jupyter-widgets/controls",
      "model_module_version": "1.5.0",
      "model_name": "HTMLModel",
      "state": {
       "layout": "IPY_MODEL_9d9d0e35457d4b3f8cbf262171357b49",
       "style": "IPY_MODEL_1647a2c9f6364a29a5be574b117956cf",
       "value": " 1/1 [00:10&lt;00:00, 10.53s/ba]"
      }
     },
     "4c78ebc7b10f4a7cb9681860bd27e288": {
      "model_module": "@jupyter-widgets/controls",
      "model_module_version": "1.5.0",
      "model_name": "DescriptionStyleModel",
      "state": {
       "description_width": ""
      }
     },
     "4c85170970224445af3e9bc751ae79c9": {
      "model_module": "@jupyter-widgets/controls",
      "model_module_version": "1.5.0",
      "model_name": "DescriptionStyleModel",
      "state": {
       "description_width": ""
      }
     },
     "4cfdca2f9f904842bb3816ecf513e1ff": {
      "model_module": "@jupyter-widgets/base",
      "model_module_version": "1.2.0",
      "model_name": "LayoutModel",
      "state": {}
     },
     "4d31fa8c56384be1953f2393f709731b": {
      "model_module": "@jupyter-widgets/controls",
      "model_module_version": "1.5.0",
      "model_name": "DescriptionStyleModel",
      "state": {
       "description_width": ""
      }
     },
     "4d978fb6fd824a848fb3a7aa7f2b76b9": {
      "model_module": "@jupyter-widgets/base",
      "model_module_version": "1.2.0",
      "model_name": "LayoutModel",
      "state": {}
     },
     "5013bb6c3b0e4f4fab36e8c2c2adbfff": {
      "model_module": "@jupyter-widgets/controls",
      "model_module_version": "1.5.0",
      "model_name": "HTMLModel",
      "state": {
       "layout": "IPY_MODEL_fc9a3e4acd064a0c8f0e95c65e35745b",
       "style": "IPY_MODEL_299f35792a71481cb21696eb62e5031f",
       "value": "100%"
      }
     },
     "512422184ffa4893be0905c1f5fc8ebd": {
      "model_module": "@jupyter-widgets/controls",
      "model_module_version": "1.5.0",
      "model_name": "ProgressStyleModel",
      "state": {
       "description_width": ""
      }
     },
     "51fa0010b43b47149ab121ad7ab4107c": {
      "model_module": "@jupyter-widgets/controls",
      "model_module_version": "1.5.0",
      "model_name": "DescriptionStyleModel",
      "state": {
       "description_width": ""
      }
     },
     "525a6dddc5b44439af3d11e85fd90945": {
      "model_module": "@jupyter-widgets/base",
      "model_module_version": "1.2.0",
      "model_name": "LayoutModel",
      "state": {}
     },
     "527957959e5a4f118a0f8749c7d30ae5": {
      "model_module": "@jupyter-widgets/base",
      "model_module_version": "1.2.0",
      "model_name": "LayoutModel",
      "state": {}
     },
     "53ca588271af49d4a62dadd4cdf95c27": {
      "model_module": "@jupyter-widgets/base",
      "model_module_version": "1.2.0",
      "model_name": "LayoutModel",
      "state": {}
     },
     "5543bc0c67714f16ab24663c170544f3": {
      "model_module": "@jupyter-widgets/controls",
      "model_module_version": "1.5.0",
      "model_name": "HTMLModel",
      "state": {
       "layout": "IPY_MODEL_42cb9fdda89f4628a3c2960ca413a1a7",
       "style": "IPY_MODEL_2d98788f72304a22a7b1643d258974af",
       "value": "Generating train split: "
      }
     },
     "56485b255a1a4ec5bd1ce6c594858b90": {
      "model_module": "@jupyter-widgets/controls",
      "model_module_version": "1.5.0",
      "model_name": "HTMLModel",
      "state": {
       "layout": "IPY_MODEL_832f7d654f664eb0a74862ff01d17ae9",
       "style": "IPY_MODEL_1bff9c20d3214f108e429d4e2843700c",
       "value": "\n<b>Pro Tip:</b> If you don't already have one, you can create a dedicated\n'notebooks' token with 'write' access, that you can then easily reuse for all\nnotebooks. </center>"
      }
     },
     "57f8b6f919144de8a95a3a0a61636d3a": {
      "model_module": "@jupyter-widgets/base",
      "model_module_version": "1.2.0",
      "model_name": "LayoutModel",
      "state": {}
     },
     "5827d6276f66409d857a4a389640913d": {
      "model_module": "@jupyter-widgets/controls",
      "model_module_version": "1.5.0",
      "model_name": "VBoxModel",
      "state": {
       "children": [
        "IPY_MODEL_d87051738be044d3b9189f3062aed1b0",
        "IPY_MODEL_e3015f6ecf8d432fa03af8829734456d",
        "IPY_MODEL_3f23ef4b54214cf5b5544c6992bf44cd",
        "IPY_MODEL_7fb00f2a386a421ebde7d79b8495fbc5",
        "IPY_MODEL_188372fce1b74be0a48b1de0415a1640"
       ],
       "layout": "IPY_MODEL_3232ebe0c3034f3bb1aa87f8b3d37029"
      }
     },
     "5904c0bd0f414adbbaf2160de6c15ff8": {
      "model_module": "@jupyter-widgets/base",
      "model_module_version": "1.2.0",
      "model_name": "LayoutModel",
      "state": {}
     },
     "5a5c98499e8e4fceac2d570624f2244e": {
      "model_module": "@jupyter-widgets/controls",
      "model_module_version": "1.5.0",
      "model_name": "ProgressStyleModel",
      "state": {
       "description_width": ""
      }
     },
     "5b13e7778755496f94ee941ce8be709c": {
      "model_module": "@jupyter-widgets/controls",
      "model_module_version": "1.5.0",
      "model_name": "DescriptionStyleModel",
      "state": {
       "description_width": ""
      }
     },
     "5c309d6e51784b15899a77decc4e81ba": {
      "model_module": "@jupyter-widgets/controls",
      "model_module_version": "1.5.0",
      "model_name": "ProgressStyleModel",
      "state": {
       "description_width": ""
      }
     },
     "5d0e1035307b4c64b782ccb38e0def1f": {
      "model_module": "@jupyter-widgets/base",
      "model_module_version": "1.2.0",
      "model_name": "LayoutModel",
      "state": {
       "width": "20px"
      }
     },
     "5dc27b12c226460993c8c257397437e5": {
      "model_module": "@jupyter-widgets/controls",
      "model_module_version": "1.5.0",
      "model_name": "DescriptionStyleModel",
      "state": {
       "description_width": ""
      }
     },
     "5de295efeb294107ab186387930d3088": {
      "model_module": "@jupyter-widgets/controls",
      "model_module_version": "1.5.0",
      "model_name": "DescriptionStyleModel",
      "state": {
       "description_width": ""
      }
     },
     "5e2b6e0dc88d4442b1dc5e03f3f2ca1b": {
      "model_module": "@jupyter-widgets/base",
      "model_module_version": "1.2.0",
      "model_name": "LayoutModel",
      "state": {}
     },
     "5f0e85c8ef074ccf9fb0afbddcaf709b": {
      "model_module": "@jupyter-widgets/base",
      "model_module_version": "1.2.0",
      "model_name": "LayoutModel",
      "state": {}
     },
     "5f9687964a954c41850e373a845504d5": {
      "model_module": "@jupyter-widgets/controls",
      "model_module_version": "1.5.0",
      "model_name": "ProgressStyleModel",
      "state": {
       "description_width": ""
      }
     },
     "5fdb69406661424c976111e5afe1e070": {
      "model_module": "@jupyter-widgets/controls",
      "model_module_version": "1.5.0",
      "model_name": "DescriptionStyleModel",
      "state": {
       "description_width": ""
      }
     },
     "6056b719ed894ea0abe0477c1c87a471": {
      "model_module": "@jupyter-widgets/controls",
      "model_module_version": "1.5.0",
      "model_name": "ProgressStyleModel",
      "state": {
       "description_width": ""
      }
     },
     "62406077e4ac4cd2a43a6518e941b5be": {
      "model_module": "@jupyter-widgets/base",
      "model_module_version": "1.2.0",
      "model_name": "LayoutModel",
      "state": {}
     },
     "62618cc27b414be8bc6e09832d2d0a16": {
      "model_module": "@jupyter-widgets/controls",
      "model_module_version": "1.5.0",
      "model_name": "ProgressStyleModel",
      "state": {
       "description_width": ""
      }
     },
     "62c3d193e49f4521bf81b8eba5a4e281": {
      "model_module": "@jupyter-widgets/controls",
      "model_module_version": "1.5.0",
      "model_name": "ProgressStyleModel",
      "state": {
       "description_width": ""
      }
     },
     "636d63a6ba1447a9ac5e815e1ac8d67e": {
      "model_module": "@jupyter-widgets/controls",
      "model_module_version": "1.5.0",
      "model_name": "HBoxModel",
      "state": {
       "children": [
        "IPY_MODEL_eae7a465b69d47ba9853e9cfff2c450b",
        "IPY_MODEL_f6ce92636dd74f668d17ccfd03a18b70",
        "IPY_MODEL_0d152037a8bf4824a339ebba55cdac9c"
       ],
       "layout": "IPY_MODEL_aff4cbfe3e0148a5a5a2c00fd032dc65"
      }
     },
     "6474725039774b0f8321fae495de8ffc": {
      "model_module": "@jupyter-widgets/controls",
      "model_module_version": "1.5.0",
      "model_name": "FloatProgressModel",
      "state": {
       "bar_style": "success",
       "layout": "IPY_MODEL_817c4333742849e19458daa2c08ca206",
       "max": 1,
       "style": "IPY_MODEL_5a5c98499e8e4fceac2d570624f2244e",
       "value": 1
      }
     },
     "64bd0a8d1cda4c2fb4e973238c554628": {
      "model_module": "@jupyter-widgets/controls",
      "model_module_version": "1.5.0",
      "model_name": "HBoxModel",
      "state": {
       "children": [
        "IPY_MODEL_e71538ecd91b49bfaa8cf882fb864c45",
        "IPY_MODEL_80710473a6a241259dd4e0bf625759dc",
        "IPY_MODEL_116f3551e7754cb1a908f915921a6f22"
       ],
       "layout": "IPY_MODEL_1f052339d846482881b84c91b70e0746"
      }
     },
     "6503b47aeb05401fb776775096a41b73": {
      "model_module": "@jupyter-widgets/controls",
      "model_module_version": "1.5.0",
      "model_name": "HTMLModel",
      "state": {
       "layout": "IPY_MODEL_d08ebb4ea6d7463f8da3c3203a4172f3",
       "style": "IPY_MODEL_9a6de543957048a7ad390d5109310fd2",
       "value": "Downloading builder script: 100%"
      }
     },
     "65e7647d3df443da873220deb719f836": {
      "model_module": "@jupyter-widgets/controls",
      "model_module_version": "1.5.0",
      "model_name": "HTMLModel",
      "state": {
       "layout": "IPY_MODEL_1de0ebf19f92403180376de79f0626fd",
       "style": "IPY_MODEL_15604be81c7f44938b5f17757afcec1b",
       "value": " 856/856 [00:00&lt;00:00, 50.6kB/s]"
      }
     },
     "693e51e6eab54819835bc35216193ebf": {
      "model_module": "@jupyter-widgets/controls",
      "model_module_version": "1.5.0",
      "model_name": "HTMLModel",
      "state": {
       "layout": "IPY_MODEL_c7ae217af60d450ead90dc908cd9aecc",
       "style": "IPY_MODEL_5de295efeb294107ab186387930d3088",
       "value": "Downloading:  59%"
      }
     },
     "6ab2c57324a9414b8c10c6621b1fce79": {
      "model_module": "@jupyter-widgets/controls",
      "model_module_version": "1.5.0",
      "model_name": "ProgressStyleModel",
      "state": {
       "description_width": ""
      }
     },
     "6b413d4b24954c8ea02bb1fb4043dbfb": {
      "model_module": "@jupyter-widgets/base",
      "model_module_version": "1.2.0",
      "model_name": "LayoutModel",
      "state": {}
     },
     "6d403b30fe5343659befd0c4c625875f": {
      "model_module": "@jupyter-widgets/base",
      "model_module_version": "1.2.0",
      "model_name": "LayoutModel",
      "state": {}
     },
     "6f5f0bb157d74241a15b98c5f290bd0c": {
      "model_module": "@jupyter-widgets/controls",
      "model_module_version": "1.5.0",
      "model_name": "HTMLModel",
      "state": {
       "layout": "IPY_MODEL_527957959e5a4f118a0f8749c7d30ae5",
       "style": "IPY_MODEL_d6941b70309c40dc95ab9166fa20915a",
       "value": "100%"
      }
     },
     "7201d3a4ff174cb9975ec893b7a31cd4": {
      "model_module": "@jupyter-widgets/controls",
      "model_module_version": "1.5.0",
      "model_name": "HTMLModel",
      "state": {
       "layout": "IPY_MODEL_4cfdca2f9f904842bb3816ecf513e1ff",
       "style": "IPY_MODEL_5fdb69406661424c976111e5afe1e070",
       "value": "Downloading: 100%"
      }
     },
     "7221c07628cb4edeab7b45c1882d8935": {
      "model_module": "@jupyter-widgets/controls",
      "model_module_version": "1.5.0",
      "model_name": "DescriptionStyleModel",
      "state": {
       "description_width": ""
      }
     },
     "726cf8751ea048d5b4e0e94a061523f4": {
      "model_module": "@jupyter-widgets/base",
      "model_module_version": "1.2.0",
      "model_name": "LayoutModel",
      "state": {}
     },
     "734ad36ca4f24c9da03a5a4f6d8ebc91": {
      "model_module": "@jupyter-widgets/base",
      "model_module_version": "1.2.0",
      "model_name": "LayoutModel",
      "state": {}
     },
     "74aaf351e1d348aa9e1ceb186ac7c809": {
      "model_module": "@jupyter-widgets/base",
      "model_module_version": "1.2.0",
      "model_name": "LayoutModel",
      "state": {}
     },
     "74ffc052dcbc449fb779df6b18860c0e": {
      "model_module": "@jupyter-widgets/controls",
      "model_module_version": "1.5.0",
      "model_name": "HTMLModel",
      "state": {
       "layout": "IPY_MODEL_d7dbaf0ca20f441fa8d2bac909e0c8af",
       "style": "IPY_MODEL_ba5a91b2144c47f2a9925825e9951529",
       "value": "Downloading: 100%"
      }
     },
     "75bd6621d3b44150aef4ca7b6e3331d4": {
      "model_module": "@jupyter-widgets/base",
      "model_module_version": "1.2.0",
      "model_name": "LayoutModel",
      "state": {}
     },
     "77f4afc5e23f473f9e3e827f6de1874c": {
      "model_module": "@jupyter-widgets/controls",
      "model_module_version": "1.5.0",
      "model_name": "FloatProgressModel",
      "state": {
       "bar_style": "success",
       "layout": "IPY_MODEL_e27c9d2c62844a2098197c62ae7e76c7",
       "max": 1,
       "style": "IPY_MODEL_d87e57f98db64783b0f697908ff04385",
       "value": 1
      }
     },
     "79b0163faafe48b58e0cf54ca2433a12": {
      "model_module": "@jupyter-widgets/base",
      "model_module_version": "1.2.0",
      "model_name": "LayoutModel",
      "state": {}
     },
     "7cec35213d0646a5952f8bddfd9ad62f": {
      "model_module": "@jupyter-widgets/base",
      "model_module_version": "1.2.0",
      "model_name": "LayoutModel",
      "state": {}
     },
     "7d6df20d4e6645b7abf639f926c9c7d6": {
      "model_module": "@jupyter-widgets/controls",
      "model_module_version": "1.5.0",
      "model_name": "HBoxModel",
      "state": {
       "children": [
        "IPY_MODEL_964a2383c22a470dbc0c7ce9bdbd140b",
        "IPY_MODEL_b421c0e97ac346c0a8dcc5486a082e4d",
        "IPY_MODEL_4ba95f8089804b39a0dd442cc14cc6b2"
       ],
       "layout": "IPY_MODEL_0768bf7ee18b4309b02cd63943a172f8"
      }
     },
     "7d9e675646e346e1ad39bd0fbedc6a72": {
      "model_module": "@jupyter-widgets/base",
      "model_module_version": "1.2.0",
      "model_name": "LayoutModel",
      "state": {}
     },
     "7e605a486b3f4688bde65565941fc11c": {
      "model_module": "@jupyter-widgets/base",
      "model_module_version": "1.2.0",
      "model_name": "LayoutModel",
      "state": {}
     },
     "7fb00f2a386a421ebde7d79b8495fbc5": {
      "model_module": "@jupyter-widgets/controls",
      "model_module_version": "1.5.0",
      "model_name": "ButtonModel",
      "state": {
       "description": "Login",
       "layout": "IPY_MODEL_ebe4799efec54cbdbbd87213bc827b20",
       "style": "IPY_MODEL_8a04913eb51643dcaf59a6b2918eb0d1"
      }
     },
     "80710473a6a241259dd4e0bf625759dc": {
      "model_module": "@jupyter-widgets/controls",
      "model_module_version": "1.5.0",
      "model_name": "FloatProgressModel",
      "state": {
       "layout": "IPY_MODEL_f50139e26e7a47b89421095a4dbb9bf0",
       "max": 503933873,
       "style": "IPY_MODEL_512422184ffa4893be0905c1f5fc8ebd",
       "value": 70189056
      }
     },
     "817c4333742849e19458daa2c08ca206": {
      "model_module": "@jupyter-widgets/base",
      "model_module_version": "1.2.0",
      "model_name": "LayoutModel",
      "state": {}
     },
     "832f7d654f664eb0a74862ff01d17ae9": {
      "model_module": "@jupyter-widgets/base",
      "model_module_version": "1.2.0",
      "model_name": "LayoutModel",
      "state": {}
     },
     "8504069acd8a40fe95f9706b59f94729": {
      "model_module": "@jupyter-widgets/controls",
      "model_module_version": "1.5.0",
      "model_name": "HBoxModel",
      "state": {
       "children": [
        "IPY_MODEL_6f5f0bb157d74241a15b98c5f290bd0c",
        "IPY_MODEL_cdf43cd9fd304f16b643cb611d27e3e5",
        "IPY_MODEL_3f854176dc2c4ae1ba1fa50950dcf9de"
       ],
       "layout": "IPY_MODEL_be037a767d6040ddb0c9fa9e67f5c285"
      }
     },
     "85a8a63762984f30b5d668b6aff6e6c6": {
      "model_module": "@jupyter-widgets/controls",
      "model_module_version": "1.5.0",
      "model_name": "DescriptionStyleModel",
      "state": {
       "description_width": ""
      }
     },
     "864c871033be483c9e48654cd71816b9": {
      "model_module": "@jupyter-widgets/controls",
      "model_module_version": "1.5.0",
      "model_name": "DescriptionStyleModel",
      "state": {
       "description_width": ""
      }
     },
     "870f40ce7dc648f3aa455e105183a045": {
      "model_module": "@jupyter-widgets/controls",
      "model_module_version": "1.5.0",
      "model_name": "DescriptionStyleModel",
      "state": {
       "description_width": ""
      }
     },
     "874d8732f85941a197dad974d5e348f0": {
      "model_module": "@jupyter-widgets/base",
      "model_module_version": "1.2.0",
      "model_name": "LayoutModel",
      "state": {}
     },
     "87aff15aa26149d2bd619e5d06052743": {
      "model_module": "@jupyter-widgets/controls",
      "model_module_version": "1.5.0",
      "model_name": "DescriptionStyleModel",
      "state": {
       "description_width": ""
      }
     },
     "88c50414ad204cc89158c1b57364c7a5": {
      "model_module": "@jupyter-widgets/controls",
      "model_module_version": "1.5.0",
      "model_name": "ProgressStyleModel",
      "state": {
       "description_width": ""
      }
     },
     "89c9500017034874a6837a4c8eea80a3": {
      "model_module": "@jupyter-widgets/controls",
      "model_module_version": "1.5.0",
      "model_name": "ProgressStyleModel",
      "state": {
       "description_width": ""
      }
     },
     "89da53a4bacf4cbc8305a53b0ef32883": {
      "model_module": "@jupyter-widgets/base",
      "model_module_version": "1.2.0",
      "model_name": "LayoutModel",
      "state": {}
     },
     "8a04913eb51643dcaf59a6b2918eb0d1": {
      "model_module": "@jupyter-widgets/controls",
      "model_module_version": "1.5.0",
      "model_name": "ButtonStyleModel",
      "state": {}
     },
     "8c4c91731b3841ca8dad1a051e8db84e": {
      "model_module": "@jupyter-widgets/base",
      "model_module_version": "1.2.0",
      "model_name": "LayoutModel",
      "state": {}
     },
     "8cc77e5656c04bca880a0c82681d08fa": {
      "model_module": "@jupyter-widgets/base",
      "model_module_version": "1.2.0",
      "model_name": "LayoutModel",
      "state": {}
     },
     "8e2c0966ebea42e4a9de4fce45a35015": {
      "model_module": "@jupyter-widgets/controls",
      "model_module_version": "1.5.0",
      "model_name": "FloatProgressModel",
      "state": {
       "bar_style": "success",
       "layout": "IPY_MODEL_79b0163faafe48b58e0cf54ca2433a12",
       "max": 2,
       "style": "IPY_MODEL_11ad42e570004450a9fd7995af6e00e4",
       "value": 2
      }
     },
     "8ee6aa85846a4a6da1091f2d796ee080": {
      "model_module": "@jupyter-widgets/controls",
      "model_module_version": "1.5.0",
      "model_name": "DescriptionStyleModel",
      "state": {
       "description_width": ""
      }
     },
     "92e1ddb8f77747ff9df424e6b5a3a18e": {
      "model_module": "@jupyter-widgets/controls",
      "model_module_version": "1.5.0",
      "model_name": "ProgressStyleModel",
      "state": {
       "description_width": ""
      }
     },
     "93d44bdfae45487bb73c9fac0ffe41e2": {
      "model_module": "@jupyter-widgets/controls",
      "model_module_version": "1.5.0",
      "model_name": "HTMLModel",
      "state": {
       "layout": "IPY_MODEL_b25742ddbf224e6ab73716cbebe17960",
       "style": "IPY_MODEL_12df7acb869b45ca89fe3b95688395b4",
       "value": " 1.14k/1.14k [00:00&lt;00:00, 71.7kB/s]"
      }
     },
     "943aefa65bf746d5b0539941f7600010": {
      "model_module": "@jupyter-widgets/controls",
      "model_module_version": "1.5.0",
      "model_name": "HBoxModel",
      "state": {
       "children": [
        "IPY_MODEL_10436e26201f4ae1b113b4b5e6b51959",
        "IPY_MODEL_8e2c0966ebea42e4a9de4fce45a35015",
        "IPY_MODEL_f0b3657ce90543d5abdbd6a270f7f764"
       ],
       "layout": "IPY_MODEL_39ea1a63f04341f3902465c03726a25a"
      }
     },
     "944f4a3de6a2424bbb2ef1aa9fa0e0ba": {
      "model_module": "@jupyter-widgets/controls",
      "model_module_version": "1.5.0",
      "model_name": "HBoxModel",
      "state": {
       "children": [
        "IPY_MODEL_74ffc052dcbc449fb779df6b18860c0e",
        "IPY_MODEL_a7998f05095f49468d07552f19f956bd",
        "IPY_MODEL_93d44bdfae45487bb73c9fac0ffe41e2"
       ],
       "layout": "IPY_MODEL_f7dcf9863c34404b8b360990b5806ba7"
      }
     },
     "949473f5b5d84ef19d4aa8e893dd5bd9": {
      "model_module": "@jupyter-widgets/controls",
      "model_module_version": "1.5.0",
      "model_name": "DescriptionStyleModel",
      "state": {
       "description_width": ""
      }
     },
     "964a2383c22a470dbc0c7ce9bdbd140b": {
      "model_module": "@jupyter-widgets/controls",
      "model_module_version": "1.5.0",
      "model_name": "HTMLModel",
      "state": {
       "layout": "IPY_MODEL_264ed230d5de46e2962c29d09df6e73f",
       "style": "IPY_MODEL_d5aa4fd0f0bc43e99749aef8911b84f3",
       "value": "Downloading: 100%"
      }
     },
     "983b106b913b4a41b1276f90207ca573": {
      "model_module": "@jupyter-widgets/base",
      "model_module_version": "1.2.0",
      "model_name": "LayoutModel",
      "state": {}
     },
     "9a6de543957048a7ad390d5109310fd2": {
      "model_module": "@jupyter-widgets/controls",
      "model_module_version": "1.5.0",
      "model_name": "DescriptionStyleModel",
      "state": {
       "description_width": ""
      }
     },
     "9b64703863c045ecbe3625d928acc41f": {
      "model_module": "@jupyter-widgets/base",
      "model_module_version": "1.2.0",
      "model_name": "LayoutModel",
      "state": {}
     },
     "9c439dfbe9374dc4b4383bbe6a5ee57f": {
      "model_module": "@jupyter-widgets/controls",
      "model_module_version": "1.5.0",
      "model_name": "FloatProgressModel",
      "state": {
       "bar_style": "success",
       "layout": "IPY_MODEL_ca8cbc5d117a4b95bffec15bb3ca988e",
       "max": 2472,
       "style": "IPY_MODEL_0f2e1ca48b214ff08a38e80f9b040fbc",
       "value": 2472
      }
     },
     "9d9d0e35457d4b3f8cbf262171357b49": {
      "model_module": "@jupyter-widgets/base",
      "model_module_version": "1.2.0",
      "model_name": "LayoutModel",
      "state": {}
     },
     "9db21c6257a84234b5b1e8e1e102a238": {
      "model_module": "@jupyter-widgets/controls",
      "model_module_version": "1.5.0",
      "model_name": "HTMLModel",
      "state": {
       "layout": "IPY_MODEL_6d403b30fe5343659befd0c4c625875f",
       "style": "IPY_MODEL_949473f5b5d84ef19d4aa8e893dd5bd9",
       "value": "Downloading data: 100%"
      }
     },
     "9ed37c35e012465e9178642434ddb933": {
      "model_module": "@jupyter-widgets/base",
      "model_module_version": "1.2.0",
      "model_name": "LayoutModel",
      "state": {}
     },
     "a0e145c264644a89b6e7a197b5475327": {
      "model_module": "@jupyter-widgets/controls",
      "model_module_version": "1.5.0",
      "model_name": "DescriptionStyleModel",
      "state": {
       "description_width": ""
      }
     },
     "a19a552848b74ed3b1cc246712efd181": {
      "model_module": "@jupyter-widgets/controls",
      "model_module_version": "1.5.0",
      "model_name": "HTMLModel",
      "state": {
       "layout": "IPY_MODEL_2659418fb79b4ac686b3977f094db52a",
       "style": "IPY_MODEL_b91d8950ee2f4319a1ba5a7efb30b6b2",
       "value": "Downloading: 100%"
      }
     },
     "a26ae772fec8462c8a759f49b2fa5b21": {
      "model_module": "@jupyter-widgets/controls",
      "model_module_version": "1.5.0",
      "model_name": "HTMLModel",
      "state": {
       "layout": "IPY_MODEL_b1c8fb603dff4ca9917152aedc9909a3",
       "style": "IPY_MODEL_0a26179e498c4491bbdcb6a88986c835",
       "value": " 1/1 [00:08&lt;00:00,  8.01s/ba]"
      }
     },
     "a31462978a1548538cdfb15716bcd442": {
      "model_module": "@jupyter-widgets/base",
      "model_module_version": "1.2.0",
      "model_name": "LayoutModel",
      "state": {}
     },
     "a3e8f94f7844438890754fb553b31f0e": {
      "model_module": "@jupyter-widgets/base",
      "model_module_version": "1.2.0",
      "model_name": "LayoutModel",
      "state": {
       "width": "20px"
      }
     },
     "a4b91708c3f74951917042f1e2de8bce": {
      "model_module": "@jupyter-widgets/controls",
      "model_module_version": "1.5.0",
      "model_name": "HTMLModel",
      "state": {
       "layout": "IPY_MODEL_e72a3f5faed940e597e3a3b96febe7b4",
       "style": "IPY_MODEL_a7a2df0e7adc4bb5b121494b786f1f4b",
       "value": "Downloading data: 100%"
      }
     },
     "a7998f05095f49468d07552f19f956bd": {
      "model_module": "@jupyter-widgets/controls",
      "model_module_version": "1.5.0",
      "model_name": "FloatProgressModel",
      "state": {
       "bar_style": "success",
       "layout": "IPY_MODEL_3098551a9df74eff98f42a409b9824d3",
       "max": 1144,
       "style": "IPY_MODEL_24405a1363954c1da8c5c39455665131",
       "value": 1144
      }
     },
     "a7a2df0e7adc4bb5b121494b786f1f4b": {
      "model_module": "@jupyter-widgets/controls",
      "model_module_version": "1.5.0",
      "model_name": "DescriptionStyleModel",
      "state": {
       "description_width": ""
      }
     },
     "a8717fcc94d04c8cb2aecc4b9bbdaecc": {
      "model_module": "@jupyter-widgets/base",
      "model_module_version": "1.2.0",
      "model_name": "LayoutModel",
      "state": {}
     },
     "a9183e5ccd3a4e9fb2932e48c0b5e00b": {
      "model_module": "@jupyter-widgets/controls",
      "model_module_version": "1.5.0",
      "model_name": "HBoxModel",
      "state": {
       "children": [
        "IPY_MODEL_0498f1554d6a42e1a48c7b1c02675f6b",
        "IPY_MODEL_1f2c820d8a7c4493880b52d001a17a12",
        "IPY_MODEL_a26ae772fec8462c8a759f49b2fa5b21"
       ],
       "layout": "IPY_MODEL_018b83c0ad8a4ce4819c704565ca1b18"
      }
     },
     "a9df878e3c8f43c4ba5d08854d9e7769": {
      "model_module": "@jupyter-widgets/controls",
      "model_module_version": "1.5.0",
      "model_name": "HBoxModel",
      "state": {
       "children": [
        "IPY_MODEL_5013bb6c3b0e4f4fab36e8c2c2adbfff",
        "IPY_MODEL_77f4afc5e23f473f9e3e827f6de1874c",
        "IPY_MODEL_ea2e655a28484fcf9837eb6dd035488a"
       ],
       "layout": "IPY_MODEL_02b5857c6a7d49fab7d8cf9fca691df1"
      }
     },
     "abef466fbd0348a997984e895fc0eb6a": {
      "model_module": "@jupyter-widgets/controls",
      "model_module_version": "1.5.0",
      "model_name": "DescriptionStyleModel",
      "state": {
       "description_width": ""
      }
     },
     "accc1da98d0d4910aadc4078ddf65b4b": {
      "model_module": "@jupyter-widgets/base",
      "model_module_version": "1.2.0",
      "model_name": "LayoutModel",
      "state": {
       "visibility": "hidden"
      }
     },
     "afbd063f15994b80986677a039d42059": {
      "model_module": "@jupyter-widgets/base",
      "model_module_version": "1.2.0",
      "model_name": "LayoutModel",
      "state": {}
     },
     "aff4cbfe3e0148a5a5a2c00fd032dc65": {
      "model_module": "@jupyter-widgets/base",
      "model_module_version": "1.2.0",
      "model_name": "LayoutModel",
      "state": {}
     },
     "b0fe1e3b3505418c9d59ba8e0e824f0d": {
      "model_module": "@jupyter-widgets/controls",
      "model_module_version": "1.5.0",
      "model_name": "HBoxModel",
      "state": {
       "children": [
        "IPY_MODEL_27e3cb557ad24550a6890a8df1b3a0cf",
        "IPY_MODEL_9c439dfbe9374dc4b4383bbe6a5ee57f",
        "IPY_MODEL_2696b4e5ca114ec2927aec11b261075e"
       ],
       "layout": "IPY_MODEL_7cec35213d0646a5952f8bddfd9ad62f"
      }
     },
     "b1c8fb603dff4ca9917152aedc9909a3": {
      "model_module": "@jupyter-widgets/base",
      "model_module_version": "1.2.0",
      "model_name": "LayoutModel",
      "state": {}
     },
     "b223fbfde2bd436db3296dbef36e2cef": {
      "model_module": "@jupyter-widgets/base",
      "model_module_version": "1.2.0",
      "model_name": "LayoutModel",
      "state": {}
     },
     "b25742ddbf224e6ab73716cbebe17960": {
      "model_module": "@jupyter-widgets/base",
      "model_module_version": "1.2.0",
      "model_name": "LayoutModel",
      "state": {}
     },
     "b421c0e97ac346c0a8dcc5486a082e4d": {
      "model_module": "@jupyter-widgets/controls",
      "model_module_version": "1.5.0",
      "model_name": "FloatProgressModel",
      "state": {
       "bar_style": "success",
       "layout": "IPY_MODEL_1eb738033795448ab3befd600d0870ee",
       "max": 275,
       "style": "IPY_MODEL_2ac6e562a7154d3189ecb941492eee7e",
       "value": 275
      }
     },
     "b479a60e688b49e883a13fb5ada31e8f": {
      "model_module": "@jupyter-widgets/controls",
      "model_module_version": "1.5.0",
      "model_name": "HBoxModel",
      "state": {
       "children": [
        "IPY_MODEL_6503b47aeb05401fb776775096a41b73",
        "IPY_MODEL_43b0eae95a4c4e77b9bc1249dfd8ec54",
        "IPY_MODEL_0c93ae232421487fab0a8dcf7f1fdb07"
       ],
       "layout": "IPY_MODEL_5f0e85c8ef074ccf9fb0afbddcaf709b"
      }
     },
     "b70767486a8245ed8e74da1c645ff62d": {
      "model_module": "@jupyter-widgets/base",
      "model_module_version": "1.2.0",
      "model_name": "LayoutModel",
      "state": {}
     },
     "b772f388e5ab4de983de9d36f91e5f72": {
      "model_module": "@jupyter-widgets/base",
      "model_module_version": "1.2.0",
      "model_name": "LayoutModel",
      "state": {}
     },
     "b8ffe1e82a284c95b916f15b86a98971": {
      "model_module": "@jupyter-widgets/controls",
      "model_module_version": "1.5.0",
      "model_name": "HTMLModel",
      "state": {
       "layout": "IPY_MODEL_89da53a4bacf4cbc8305a53b0ef32883",
       "style": "IPY_MODEL_c20b8c68d32043118ce8a17c235d8551",
       "value": "100%"
      }
     },
     "b91d8950ee2f4319a1ba5a7efb30b6b2": {
      "model_module": "@jupyter-widgets/controls",
      "model_module_version": "1.5.0",
      "model_name": "DescriptionStyleModel",
      "state": {
       "description_width": ""
      }
     },
     "ba5a91b2144c47f2a9925825e9951529": {
      "model_module": "@jupyter-widgets/controls",
      "model_module_version": "1.5.0",
      "model_name": "DescriptionStyleModel",
      "state": {
       "description_width": ""
      }
     },
     "ba8d90cdb36e43ed88e21d537cf4e064": {
      "model_module": "@jupyter-widgets/controls",
      "model_module_version": "1.5.0",
      "model_name": "PasswordModel",
      "state": {
       "description": "Token:",
       "layout": "IPY_MODEL_53ca588271af49d4a62dadd4cdf95c27",
       "style": "IPY_MODEL_30ddb60a9b704a2bb452b5a6240aeb04"
      }
     },
     "ba9defc54ab4498abeccb2382789b770": {
      "model_module": "@jupyter-widgets/base",
      "model_module_version": "1.2.0",
      "model_name": "LayoutModel",
      "state": {}
     },
     "bbba7757f2ce49deb851ec4d283900ec": {
      "model_module": "@jupyter-widgets/base",
      "model_module_version": "1.2.0",
      "model_name": "LayoutModel",
      "state": {}
     },
     "bc04712ede7f418aa8bcbbd98de00b80": {
      "model_module": "@jupyter-widgets/controls",
      "model_module_version": "1.5.0",
      "model_name": "DescriptionStyleModel",
      "state": {
       "description_width": ""
      }
     },
     "bcced5cc980643b5a6d3b6dd11451d3a": {
      "model_module": "@jupyter-widgets/base",
      "model_module_version": "1.2.0",
      "model_name": "LayoutModel",
      "state": {}
     },
     "be037a767d6040ddb0c9fa9e67f5c285": {
      "model_module": "@jupyter-widgets/base",
      "model_module_version": "1.2.0",
      "model_name": "LayoutModel",
      "state": {}
     },
     "bec84cbc135e4609aa12a434f303595c": {
      "model_module": "@jupyter-widgets/base",
      "model_module_version": "1.2.0",
      "model_name": "LayoutModel",
      "state": {}
     },
     "c20b8c68d32043118ce8a17c235d8551": {
      "model_module": "@jupyter-widgets/controls",
      "model_module_version": "1.5.0",
      "model_name": "DescriptionStyleModel",
      "state": {
       "description_width": ""
      }
     },
     "c2e9dface8b24038b8f65cafdc228f56": {
      "model_module": "@jupyter-widgets/base",
      "model_module_version": "1.2.0",
      "model_name": "LayoutModel",
      "state": {}
     },
     "c38368a9377b43db94148b926e5715ae": {
      "model_module": "@jupyter-widgets/controls",
      "model_module_version": "1.5.0",
      "model_name": "DescriptionStyleModel",
      "state": {
       "description_width": ""
      }
     },
     "c52bbe765a714515963e90c14c6e29f9": {
      "model_module": "@jupyter-widgets/controls",
      "model_module_version": "1.5.0",
      "model_name": "ButtonStyleModel",
      "state": {}
     },
     "c672d290d5154236919c66ab4e077df5": {
      "model_module": "@jupyter-widgets/controls",
      "model_module_version": "1.5.0",
      "model_name": "FloatProgressModel",
      "state": {
       "layout": "IPY_MODEL_d0273c554cc647d89e352a06f5732faf",
       "max": 13693,
       "style": "IPY_MODEL_4b8f48d8c65741a2817cd39bbb1343a4",
       "value": 13693
      }
     },
     "c75217706e08485fb7cbbb276f2e5c8e": {
      "model_module": "@jupyter-widgets/controls",
      "model_module_version": "1.5.0",
      "model_name": "FloatProgressModel",
      "state": {
       "bar_style": "success",
       "layout": "IPY_MODEL_a8717fcc94d04c8cb2aecc4b9bbdaecc",
       "max": 187263122,
       "style": "IPY_MODEL_88c50414ad204cc89158c1b57364c7a5",
       "value": 187263122
      }
     },
     "c7ae217af60d450ead90dc908cd9aecc": {
      "model_module": "@jupyter-widgets/base",
      "model_module_version": "1.2.0",
      "model_name": "LayoutModel",
      "state": {}
     },
     "c935697a19a043449b88722d17b5b18e": {
      "model_module": "@jupyter-widgets/controls",
      "model_module_version": "1.5.0",
      "model_name": "ProgressStyleModel",
      "state": {
       "description_width": ""
      }
     },
     "ca8cbc5d117a4b95bffec15bb3ca988e": {
      "model_module": "@jupyter-widgets/base",
      "model_module_version": "1.2.0",
      "model_name": "LayoutModel",
      "state": {}
     },
     "cdf43cd9fd304f16b643cb611d27e3e5": {
      "model_module": "@jupyter-widgets/controls",
      "model_module_version": "1.5.0",
      "model_name": "FloatProgressModel",
      "state": {
       "bar_style": "success",
       "layout": "IPY_MODEL_3902a6d0fc044049a9a5fd9a37fa8722",
       "max": 3,
       "style": "IPY_MODEL_6056b719ed894ea0abe0477c1c87a471",
       "value": 3
      }
     },
     "ce81d5ba2c954b11aa5da265d9d5c1bf": {
      "model_module": "@jupyter-widgets/controls",
      "model_module_version": "1.5.0",
      "model_name": "DescriptionStyleModel",
      "state": {
       "description_width": ""
      }
     },
     "cf1c175fd8f54ad6b764fce81a563c37": {
      "model_module": "@jupyter-widgets/base",
      "model_module_version": "1.2.0",
      "model_name": "LayoutModel",
      "state": {}
     },
     "d0273c554cc647d89e352a06f5732faf": {
      "model_module": "@jupyter-widgets/base",
      "model_module_version": "1.2.0",
      "model_name": "LayoutModel",
      "state": {}
     },
     "d08ebb4ea6d7463f8da3c3203a4172f3": {
      "model_module": "@jupyter-widgets/base",
      "model_module_version": "1.2.0",
      "model_name": "LayoutModel",
      "state": {}
     },
     "d10c5b7d4a814c329090e73173cdfc81": {
      "model_module": "@jupyter-widgets/base",
      "model_module_version": "1.2.0",
      "model_name": "LayoutModel",
      "state": {}
     },
     "d35dd70704e24f399652abf4659f0f3d": {
      "model_module": "@jupyter-widgets/controls",
      "model_module_version": "1.5.0",
      "model_name": "DescriptionStyleModel",
      "state": {
       "description_width": ""
      }
     },
     "d4915cc772174e80ae4a115279a74840": {
      "model_module": "@jupyter-widgets/controls",
      "model_module_version": "1.5.0",
      "model_name": "HTMLModel",
      "state": {
       "layout": "IPY_MODEL_734ad36ca4f24c9da03a5a4f6d8ebc91",
       "style": "IPY_MODEL_f132ebcc33fd456cb72873d709c913a6",
       "value": " 2/2 [00:01&lt;00:00,  1.19it/s]"
      }
     },
     "d5aa4fd0f0bc43e99749aef8911b84f3": {
      "model_module": "@jupyter-widgets/controls",
      "model_module_version": "1.5.0",
      "model_name": "DescriptionStyleModel",
      "state": {
       "description_width": ""
      }
     },
     "d6941b70309c40dc95ab9166fa20915a": {
      "model_module": "@jupyter-widgets/controls",
      "model_module_version": "1.5.0",
      "model_name": "DescriptionStyleModel",
      "state": {
       "description_width": ""
      }
     },
     "d7dbaf0ca20f441fa8d2bac909e0c8af": {
      "model_module": "@jupyter-widgets/base",
      "model_module_version": "1.2.0",
      "model_name": "LayoutModel",
      "state": {}
     },
     "d87051738be044d3b9189f3062aed1b0": {
      "model_module": "@jupyter-widgets/controls",
      "model_module_version": "1.5.0",
      "model_name": "HTMLModel",
      "state": {
       "layout": "IPY_MODEL_9b64703863c045ecbe3625d928acc41f",
       "style": "IPY_MODEL_ef1afa13b87d48238b2f38c1509860dc",
       "value": "<center> <img\nsrc=https://huggingface.co/front/assets/huggingface_logo-noborder.svg\nalt='Hugging Face'> <br> Copy a token from <a\nhref=\"https://huggingface.co/settings/tokens\" target=\"_blank\">your Hugging Face\ntokens page</a> and paste it below. <br> Immediately click login after copying\nyour token or it might be stored in plain text in this notebook file. </center>"
      }
     },
     "d87e57f98db64783b0f697908ff04385": {
      "model_module": "@jupyter-widgets/controls",
      "model_module_version": "1.5.0",
      "model_name": "ProgressStyleModel",
      "state": {
       "description_width": ""
      }
     },
     "d8a9a2a6c4b24da3b7252f4a040737f5": {
      "model_module": "@jupyter-widgets/base",
      "model_module_version": "1.2.0",
      "model_name": "LayoutModel",
      "state": {}
     },
     "db41254f9d9a49b58c651531f9c74fb5": {
      "model_module": "@jupyter-widgets/controls",
      "model_module_version": "1.5.0",
      "model_name": "FloatProgressModel",
      "state": {
       "bar_style": "success",
       "layout": "IPY_MODEL_08ac8bbc67ed4e849aac9abdca122814",
       "max": 456318,
       "style": "IPY_MODEL_0bad3965d0034fafbbdcef4d6ccc0355",
       "value": 456318
      }
     },
     "ddf68d3879fc43b291c0847561a7ef6b": {
      "model_module": "@jupyter-widgets/controls",
      "model_module_version": "1.5.0",
      "model_name": "HTMLModel",
      "state": {
       "layout": "IPY_MODEL_983b106b913b4a41b1276f90207ca573",
       "style": "IPY_MODEL_abef466fbd0348a997984e895fc0eb6a",
       "value": "Generating test split: "
      }
     },
     "de2ced1531a94b67a66e970762c65f49": {
      "model_module": "@jupyter-widgets/controls",
      "model_module_version": "1.5.0",
      "model_name": "DescriptionStyleModel",
      "state": {
       "description_width": ""
      }
     },
     "df8ba09e8f7e461b84ecce39f45db841": {
      "model_module": "@jupyter-widgets/base",
      "model_module_version": "1.2.0",
      "model_name": "LayoutModel",
      "state": {}
     },
     "dfbc69ebaa2f48c6a0f8f4cb4d2fb58f": {
      "model_module": "@jupyter-widgets/controls",
      "model_module_version": "1.5.0",
      "model_name": "HTMLModel",
      "state": {
       "layout": "IPY_MODEL_40bc67c0724a44919a270d9d0258c1e1",
       "style": "IPY_MODEL_fa217fb097164f519009223ba96e5402",
       "value": " 3/3 [00:00&lt;00:00,  9.27it/s]"
      }
     },
     "e03dacaff7a24421b708dc493cc9e28a": {
      "model_module": "@jupyter-widgets/controls",
      "model_module_version": "1.5.0",
      "model_name": "HTMLModel",
      "state": {
       "layout": "IPY_MODEL_b772f388e5ab4de983de9d36f91e5f72",
       "style": "IPY_MODEL_139103e6906a4ae4baa5261acb1495a6",
       "value": " 100/0 [00:37&lt;00:00,  3.00 examples/s]"
      }
     },
     "e27c9d2c62844a2098197c62ae7e76c7": {
      "model_module": "@jupyter-widgets/base",
      "model_module_version": "1.2.0",
      "model_name": "LayoutModel",
      "state": {}
     },
     "e2b33af59aae487bafd8fef93699c450": {
      "model_module": "@jupyter-widgets/controls",
      "model_module_version": "1.5.0",
      "model_name": "ProgressStyleModel",
      "state": {
       "description_width": ""
      }
     },
     "e3015f6ecf8d432fa03af8829734456d": {
      "model_module": "@jupyter-widgets/controls",
      "model_module_version": "1.5.0",
      "model_name": "PasswordModel",
      "state": {
       "description": "Token:",
       "layout": "IPY_MODEL_bcced5cc980643b5a6d3b6dd11451d3a",
       "style": "IPY_MODEL_87aff15aa26149d2bd619e5d06052743"
      }
     },
     "e3f49e13fc57451b8b22f71754ef3f29": {
      "model_module": "@jupyter-widgets/controls",
      "model_module_version": "1.5.0",
      "model_name": "HBoxModel",
      "state": {
       "children": [
        "IPY_MODEL_9db21c6257a84234b5b1e8e1e102a238",
        "IPY_MODEL_c75217706e08485fb7cbbb276f2e5c8e",
        "IPY_MODEL_f481afad8fc94c21b96b808aad5dbae3"
       ],
       "layout": "IPY_MODEL_0f83b7f4df2342f883e9c5d0fd1bff9e"
      }
     },
     "e3f7e31aec3b486d8fbeab7f275ac70c": {
      "model_module": "@jupyter-widgets/controls",
      "model_module_version": "1.5.0",
      "model_name": "FloatProgressModel",
      "state": {
       "layout": "IPY_MODEL_afbd063f15994b80986677a039d42059",
       "max": 501380823,
       "style": "IPY_MODEL_0f542d2c89ac47f8abe19ecad4574b70",
       "value": 295700480
      }
     },
     "e4caa322b7b04a1e81692464bad4f7b9": {
      "model_module": "@jupyter-widgets/base",
      "model_module_version": "1.2.0",
      "model_name": "LayoutModel",
      "state": {}
     },
     "e54933a333ab4f15b9f60df2510e500c": {
      "model_module": "@jupyter-widgets/controls",
      "model_module_version": "1.5.0",
      "model_name": "FloatProgressModel",
      "state": {
       "bar_style": "success",
       "layout": "IPY_MODEL_74aaf351e1d348aa9e1ceb186ac7c809",
       "max": 2125977855,
       "style": "IPY_MODEL_0359e30bbb5a4f2c8b284c9b44a066c6",
       "value": 2125977855
      }
     },
     "e5762b798f12461388228aad09b0b0d9": {
      "model_module": "@jupyter-widgets/controls",
      "model_module_version": "1.5.0",
      "model_name": "ButtonModel",
      "state": {
       "description": "Login",
       "layout": "IPY_MODEL_0b063bb4ff064ccc87a5c5b3a0f2c72f",
       "style": "IPY_MODEL_c52bbe765a714515963e90c14c6e29f9"
      }
     },
     "e61c162d15b446d992e29fc79e0bbd44": {
      "model_module": "@jupyter-widgets/controls",
      "model_module_version": "1.5.0",
      "model_name": "HTMLModel",
      "state": {
       "layout": "IPY_MODEL_f84cabd81b2f418da570328e31727fba",
       "style": "IPY_MODEL_51fa0010b43b47149ab121ad7ab4107c",
       "value": " 13.4k/13.4k [00:00&lt;?, ?B/s]"
      }
     },
     "e6e570a1432e446daf92a08f8d13c403": {
      "model_module": "@jupyter-widgets/controls",
      "model_module_version": "1.5.0",
      "model_name": "HTMLModel",
      "state": {
       "layout": "IPY_MODEL_bbba7757f2ce49deb851ec4d283900ec",
       "style": "IPY_MODEL_ed230265022f4abc8e3ebb2ff546f920",
       "value": "Upload file runs/Jan08_12-50-18_DESKTOP-9S60VAS/events.out.tfevents.1673162475.DESKTOP-9S60VAS.12124.0: 100%"
      }
     },
     "e702c0868ff14ab2bf639cdf0ca12103": {
      "model_module": "@jupyter-widgets/base",
      "model_module_version": "1.2.0",
      "model_name": "LayoutModel",
      "state": {}
     },
     "e71538ecd91b49bfaa8cf882fb864c45": {
      "model_module": "@jupyter-widgets/controls",
      "model_module_version": "1.5.0",
      "model_name": "HTMLModel",
      "state": {
       "layout": "IPY_MODEL_8cc77e5656c04bca880a0c82681d08fa",
       "style": "IPY_MODEL_5b13e7778755496f94ee941ce8be709c",
       "value": "Upload file pytorch_model.bin:  14%"
      }
     },
     "e72a3f5faed940e597e3a3b96febe7b4": {
      "model_module": "@jupyter-widgets/base",
      "model_module_version": "1.2.0",
      "model_name": "LayoutModel",
      "state": {}
     },
     "e7ea2442dd4f4a19a8c38c1f924b43e5": {
      "model_module": "@jupyter-widgets/controls",
      "model_module_version": "1.5.0",
      "model_name": "HBoxModel",
      "state": {
       "children": [
        "IPY_MODEL_e6e570a1432e446daf92a08f8d13c403",
        "IPY_MODEL_c672d290d5154236919c66ab4e077df5",
        "IPY_MODEL_e61c162d15b446d992e29fc79e0bbd44"
       ],
       "layout": "IPY_MODEL_419363e561a7497eb9a95a713d75d4d8"
      }
     },
     "e900d380972d457da50febd7c2f3673f": {
      "model_module": "@jupyter-widgets/controls",
      "model_module_version": "1.5.0",
      "model_name": "HBoxModel",
      "state": {
       "children": [
        "IPY_MODEL_7201d3a4ff174cb9975ec893b7a31cd4",
        "IPY_MODEL_06c78724467641f3834dd521e40864ff",
        "IPY_MODEL_65e7647d3df443da873220deb719f836"
       ],
       "layout": "IPY_MODEL_b223fbfde2bd436db3296dbef36e2cef"
      }
     },
     "ea2e655a28484fcf9837eb6dd035488a": {
      "model_module": "@jupyter-widgets/controls",
      "model_module_version": "1.5.0",
      "model_name": "HTMLModel",
      "state": {
       "layout": "IPY_MODEL_7e605a486b3f4688bde65565941fc11c",
       "style": "IPY_MODEL_12bdfbe4423749c09c02beb57dc81fe6",
       "value": " 1/1 [01:39&lt;00:00, 99.12s/ba]"
      }
     },
     "eae7a465b69d47ba9853e9cfff2c450b": {
      "model_module": "@jupyter-widgets/controls",
      "model_module_version": "1.5.0",
      "model_name": "HTMLModel",
      "state": {
       "layout": "IPY_MODEL_d8a9a2a6c4b24da3b7252f4a040737f5",
       "style": "IPY_MODEL_384dd4696373487b86dbc4021b8a5062",
       "value": "Downloading: 100%"
      }
     },
     "eb2bbbece68245e3ac3f039cbee86664": {
      "model_module": "@jupyter-widgets/controls",
      "model_module_version": "1.5.0",
      "model_name": "HBoxModel",
      "state": {
       "children": [
        "IPY_MODEL_a19a552848b74ed3b1cc246712efd181",
        "IPY_MODEL_eb331d25cd924aac9d16e856791d1c4a",
        "IPY_MODEL_f8939e1f0b024d538500b57a1c5bfd3c"
       ],
       "layout": "IPY_MODEL_cf1c175fd8f54ad6b764fce81a563c37"
      }
     },
     "eb331d25cd924aac9d16e856791d1c4a": {
      "model_module": "@jupyter-widgets/controls",
      "model_module_version": "1.5.0",
      "model_name": "FloatProgressModel",
      "state": {
       "bar_style": "success",
       "layout": "IPY_MODEL_168e94efdc2c4eb28a35e71e2cda6352",
       "max": 898822,
       "style": "IPY_MODEL_3f15b033ff454aa4a74d0ad4170edb31",
       "value": 898822
      }
     },
     "ebe4799efec54cbdbbd87213bc827b20": {
      "model_module": "@jupyter-widgets/base",
      "model_module_version": "1.2.0",
      "model_name": "LayoutModel",
      "state": {}
     },
     "ec68cf5b689f4ef1a8015e777af88f22": {
      "model_module": "@jupyter-widgets/controls",
      "model_module_version": "1.5.0",
      "model_name": "DescriptionStyleModel",
      "state": {
       "description_width": ""
      }
     },
     "ec723333f8934b88981ff454044e0cb5": {
      "model_module": "@jupyter-widgets/base",
      "model_module_version": "1.2.0",
      "model_name": "LayoutModel",
      "state": {}
     },
     "ed230265022f4abc8e3ebb2ff546f920": {
      "model_module": "@jupyter-widgets/controls",
      "model_module_version": "1.5.0",
      "model_name": "DescriptionStyleModel",
      "state": {
       "description_width": ""
      }
     },
     "ef1afa13b87d48238b2f38c1509860dc": {
      "model_module": "@jupyter-widgets/controls",
      "model_module_version": "1.5.0",
      "model_name": "DescriptionStyleModel",
      "state": {
       "description_width": ""
      }
     },
     "f080db37841e4c659eb83fd1d4b57268": {
      "model_module": "@jupyter-widgets/controls",
      "model_module_version": "1.5.0",
      "model_name": "HBoxModel",
      "state": {
       "children": [
        "IPY_MODEL_0b5559f1f4c94ba7ab9570e6195b024a",
        "IPY_MODEL_3215196d59f44aaa9dafc95c1fa71ef6",
        "IPY_MODEL_1ae1a31d36ab4e32a94f6cc96ffdc057"
       ],
       "layout": "IPY_MODEL_0fe15a3d70434274b0d2812838baf470"
      }
     },
     "f0b3657ce90543d5abdbd6a270f7f764": {
      "model_module": "@jupyter-widgets/controls",
      "model_module_version": "1.5.0",
      "model_name": "HTMLModel",
      "state": {
       "layout": "IPY_MODEL_57f8b6f919144de8a95a3a0a61636d3a",
       "style": "IPY_MODEL_4c78ebc7b10f4a7cb9681860bd27e288",
       "value": " 2/2 [00:04&lt;00:00,  1.72s/it]"
      }
     },
     "f132ebcc33fd456cb72873d709c913a6": {
      "model_module": "@jupyter-widgets/controls",
      "model_module_version": "1.5.0",
      "model_name": "DescriptionStyleModel",
      "state": {
       "description_width": ""
      }
     },
     "f27c7c9469ef4db88299d0aa2a89771e": {
      "model_module": "@jupyter-widgets/base",
      "model_module_version": "1.2.0",
      "model_name": "LayoutModel",
      "state": {}
     },
     "f305904994fa48c39362fe82a116ade4": {
      "model_module": "@jupyter-widgets/controls",
      "model_module_version": "1.5.0",
      "model_name": "HTMLModel",
      "state": {
       "layout": "IPY_MODEL_0cda85d6062a47f9a022e3f4ffef4ead",
       "style": "IPY_MODEL_2abea364f0064c60a08fd37f5960f50c",
       "value": "Downloading: 100%"
      }
     },
     "f481afad8fc94c21b96b808aad5dbae3": {
      "model_module": "@jupyter-widgets/controls",
      "model_module_version": "1.5.0",
      "model_name": "HTMLModel",
      "state": {
       "layout": "IPY_MODEL_75bd6621d3b44150aef4ca7b6e3331d4",
       "style": "IPY_MODEL_317d741c05fa4acaa6a865505fcd4dbd",
       "value": " 187M/187M [01:04&lt;00:00, 4.96MB/s]"
      }
     },
     "f50139e26e7a47b89421095a4dbb9bf0": {
      "model_module": "@jupyter-widgets/base",
      "model_module_version": "1.2.0",
      "model_name": "LayoutModel",
      "state": {}
     },
     "f6ce92636dd74f668d17ccfd03a18b70": {
      "model_module": "@jupyter-widgets/controls",
      "model_module_version": "1.5.0",
      "model_name": "FloatProgressModel",
      "state": {
       "bar_style": "success",
       "layout": "IPY_MODEL_14bfc8edee944ab2b14000fd88425886",
       "max": 501380823,
       "style": "IPY_MODEL_425c670d2ef042b59de8077c34fff0b9",
       "value": 501380823
      }
     },
     "f7dcf9863c34404b8b360990b5806ba7": {
      "model_module": "@jupyter-widgets/base",
      "model_module_version": "1.2.0",
      "model_name": "LayoutModel",
      "state": {}
     },
     "f84cabd81b2f418da570328e31727fba": {
      "model_module": "@jupyter-widgets/base",
      "model_module_version": "1.2.0",
      "model_name": "LayoutModel",
      "state": {}
     },
     "f8883c50817043548d0c5cb594b2eb96": {
      "model_module": "@jupyter-widgets/controls",
      "model_module_version": "1.5.0",
      "model_name": "HTMLModel",
      "state": {
       "layout": "IPY_MODEL_874d8732f85941a197dad974d5e348f0",
       "style": "IPY_MODEL_d35dd70704e24f399652abf4659f0f3d",
       "value": " 296M/501M [02:40&lt;01:38, 2.09MB/s]"
      }
     },
     "f8939e1f0b024d538500b57a1c5bfd3c": {
      "model_module": "@jupyter-widgets/controls",
      "model_module_version": "1.5.0",
      "model_name": "HTMLModel",
      "state": {
       "layout": "IPY_MODEL_0a8a7bc5856944d8b1c8ac3849e417cb",
       "style": "IPY_MODEL_5dc27b12c226460993c8c257397437e5",
       "value": " 899k/899k [00:07&lt;00:00, 294kB/s]"
      }
     },
     "f9cad79dba5948aa928176ca905e892a": {
      "model_module": "@jupyter-widgets/base",
      "model_module_version": "1.2.0",
      "model_name": "LayoutModel",
      "state": {
       "width": "20px"
      }
     },
     "fa217fb097164f519009223ba96e5402": {
      "model_module": "@jupyter-widgets/controls",
      "model_module_version": "1.5.0",
      "model_name": "DescriptionStyleModel",
      "state": {
       "description_width": ""
      }
     },
     "fb2be9f31104438fb71a4c936daa16db": {
      "model_module": "@jupyter-widgets/base",
      "model_module_version": "1.2.0",
      "model_name": "LayoutModel",
      "state": {}
     },
     "fbbe57b360f647949f45de5c004a6d2f": {
      "model_module": "@jupyter-widgets/base",
      "model_module_version": "1.2.0",
      "model_name": "LayoutModel",
      "state": {}
     },
     "fc9a3e4acd064a0c8f0e95c65e35745b": {
      "model_module": "@jupyter-widgets/base",
      "model_module_version": "1.2.0",
      "model_name": "LayoutModel",
      "state": {}
     },
     "ff5aa3fca744499a89b84d6148051478": {
      "model_module": "@jupyter-widgets/controls",
      "model_module_version": "1.5.0",
      "model_name": "FloatProgressModel",
      "state": {
       "bar_style": "info",
       "layout": "IPY_MODEL_f9cad79dba5948aa928176ca905e892a",
       "max": 1,
       "style": "IPY_MODEL_5f9687964a954c41850e373a845504d5",
       "value": 1
      }
     },
     "ffc24d6d624447f79404262f2c6ceaa2": {
      "model_module": "@jupyter-widgets/base",
      "model_module_version": "1.2.0",
      "model_name": "LayoutModel",
      "state": {
       "visibility": "hidden"
      }
     }
    },
    "version_major": 2,
    "version_minor": 0
   }
  }
 },
 "nbformat": 4,
 "nbformat_minor": 1
}
